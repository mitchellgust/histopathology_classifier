<<<<<<< HEAD
{"cells":[{"cell_type":"markdown","metadata":{"id":"bff387f2"},"source":["## Importing Data"],"id":"bff387f2"},{"cell_type":"code","source":["from google.colab import drive\n","drive.mount('/content/drive')\n","!ls /content/drive/'My Drive'/\n","!cp /content/drive/'My Drive'/image_classification_data.zip .\n","!unzip -q -o image_classification_data.zip\n","!rm image_classification_data.zip\n","!mkdir image_classification_data\n","# !mv data_labels_extraData.csv image_classification_data\n","# !mv data_labels_mainData.csv image_classification_data\n","# !mv data_labels_mainData.csv image_classification_data\n","# !mv patch_images image_classification_data\n","# !rm -r sample_data"],"metadata":{"id":"GNzmukChYbuQ","colab":{"base_uri":"https://localhost:8080/"},"executionInfo":{"status":"ok","timestamp":1683783822325,"user_tz":-600,"elapsed":27887,"user":{"displayName":"Mitty","userId":"07989125769060825759"}},"outputId":"0dfc19b4-d4a1-4f65-fec2-c5be6332da04"},"id":"GNzmukChYbuQ","execution_count":1,"outputs":[{"output_type":"stream","name":"stdout","text":["Mounted at /content/drive\n"," 18MayPhotos\n"," Assignment1-s3782095.ipynb\n","'Beige - Task Logger.gslides'\n","'Bucks Activity.gsheet'\n"," Bucks.gsheet\n"," cars.gsheet\n"," clideo.com\n","'Colab Notebooks'\n","'Copy of midi_fish_teensy.zip'\n","'Copy of Synology File Notification Script.gdoc'\n"," deleted.gsheet\n","'English Article Analysis - #MeToo.docx'\n","'Europe 2022'\n","'GaTHo 2022.gsheet'\n","\"Groovin' The Moo.gdoc\"\n","'HISTORY M888888.gdoc'\n"," Holiday.gsheet\n"," HowToUseShortcut.gif\n"," image_classification_data.zip\n","'Interview Questions.gdoc'\n","'Media - Narrative and Ideology Development .gdoc'\n","'MITCHELL GUST - RESUME (Hoyts) w: 2 Referees .pdf'\n","'MITCHELL GUST - RESUME (Hoyts) w: Referees.docx'\n"," ML_Team101\n","'OLD - AA - A2.gdoc'\n"," OpenJuptyerNotebook.sh\n"," other\n","'Oxford+Psychology+VCE+Units+1+&+2+3ed+edition_Extras+link.pdf'\n","'Product Backlog - Jira.gsheet'\n","'RMIT 2022 S2.gsheet'\n","\"RSVP Responses - Aaron's Bucks Night.gsheet\"\n","'SHAKESPEARE: THE KING’S MAN .gdoc'\n"," Shh.gsheet\n","'Task One Article Analysis (MeToo) – Mitchell Gust (12F).gdoc'\n","'TSSI photos'\n","'tsssi besyt'\n","'Tutorial 9 Solutions-v0.3.gdoc'\n","'Uni Checklist.gsheet'\n","'Untitled document (1).gdoc'\n","'Untitled document (2).gdoc'\n","'Untitled document (3).gdoc'\n","'Untitled document (4).gdoc'\n","'Untitled document (5).gdoc'\n","'Untitled document (6).gdoc'\n","'Untitled document.gdoc'\n","'Untitled presentation.gslides'\n","'Untitled spreadsheet (1).gsheet'\n","'Untitled spreadsheet (2).gsheet'\n","'Untitled spreadsheet (3).gsheet'\n","'Untitled spreadsheet (4).gsheet'\n","'Untitled spreadsheet.gsheet'\n"," VideoNot.es\n","'Your big idea.gslides'\n","mv: cannot stat 'data_labels_mainData.csv': No such file or directory\n"]}]},{"cell_type":"code","execution_count":3,"metadata":{"id":"e69abf37","outputId":"80a43cda-b3cb-4919-fb66-6c79f8fbff11","colab":{"base_uri":"https://localhost:8080/","height":204},"executionInfo":{"status":"ok","timestamp":1683783930294,"user_tz":-600,"elapsed":471,"user":{"displayName":"Mitty","userId":"07989125769060825759"}}},"outputs":[{"output_type":"execute_result","data":{"text/plain":["   InstanceID  patientID  ImageName cellTypeName  cellType  isCancerous\n","0       22405          1  22405.png   fibroblast         0            0\n","1       22406          1  22406.png   fibroblast         0            0\n","2       22407          1  22407.png   fibroblast         0            0\n","3       22408          1  22408.png   fibroblast         0            0\n","4       22409          1  22409.png   fibroblast         0            0"],"text/html":["\n","  <div id=\"df-d7c1babf-a7a4-4d60-9bb9-3cc4d5800e36\">\n","    <div class=\"colab-df-container\">\n","      <div>\n","<style scoped>\n","    .dataframe tbody tr th:only-of-type {\n","        vertical-align: middle;\n","    }\n","\n","    .dataframe tbody tr th {\n","        vertical-align: top;\n","    }\n","\n","    .dataframe thead th {\n","        text-align: right;\n","    }\n","</style>\n","<table border=\"1\" class=\"dataframe\">\n","  <thead>\n","    <tr style=\"text-align: right;\">\n","      <th></th>\n","      <th>InstanceID</th>\n","      <th>patientID</th>\n","      <th>ImageName</th>\n","      <th>cellTypeName</th>\n","      <th>cellType</th>\n","      <th>isCancerous</th>\n","    </tr>\n","  </thead>\n","  <tbody>\n","    <tr>\n","      <th>0</th>\n","      <td>22405</td>\n","      <td>1</td>\n","      <td>22405.png</td>\n","      <td>fibroblast</td>\n","      <td>0</td>\n","      <td>0</td>\n","    </tr>\n","    <tr>\n","      <th>1</th>\n","      <td>22406</td>\n","      <td>1</td>\n","      <td>22406.png</td>\n","      <td>fibroblast</td>\n","      <td>0</td>\n","      <td>0</td>\n","    </tr>\n","    <tr>\n","      <th>2</th>\n","      <td>22407</td>\n","      <td>1</td>\n","      <td>22407.png</td>\n","      <td>fibroblast</td>\n","      <td>0</td>\n","      <td>0</td>\n","    </tr>\n","    <tr>\n","      <th>3</th>\n","      <td>22408</td>\n","      <td>1</td>\n","      <td>22408.png</td>\n","      <td>fibroblast</td>\n","      <td>0</td>\n","      <td>0</td>\n","    </tr>\n","    <tr>\n","      <th>4</th>\n","      <td>22409</td>\n","      <td>1</td>\n","      <td>22409.png</td>\n","      <td>fibroblast</td>\n","      <td>0</td>\n","      <td>0</td>\n","    </tr>\n","  </tbody>\n","</table>\n","</div>\n","      <button class=\"colab-df-convert\" onclick=\"convertToInteractive('df-d7c1babf-a7a4-4d60-9bb9-3cc4d5800e36')\"\n","              title=\"Convert this dataframe to an interactive table.\"\n","              style=\"display:none;\">\n","        \n","  <svg xmlns=\"http://www.w3.org/2000/svg\" height=\"24px\"viewBox=\"0 0 24 24\"\n","       width=\"24px\">\n","    <path d=\"M0 0h24v24H0V0z\" fill=\"none\"/>\n","    <path d=\"M18.56 5.44l.94 2.06.94-2.06 2.06-.94-2.06-.94-.94-2.06-.94 2.06-2.06.94zm-11 1L8.5 8.5l.94-2.06 2.06-.94-2.06-.94L8.5 2.5l-.94 2.06-2.06.94zm10 10l.94 2.06.94-2.06 2.06-.94-2.06-.94-.94-2.06-.94 2.06-2.06.94z\"/><path d=\"M17.41 7.96l-1.37-1.37c-.4-.4-.92-.59-1.43-.59-.52 0-1.04.2-1.43.59L10.3 9.45l-7.72 7.72c-.78.78-.78 2.05 0 2.83L4 21.41c.39.39.9.59 1.41.59.51 0 1.02-.2 1.41-.59l7.78-7.78 2.81-2.81c.8-.78.8-2.07 0-2.86zM5.41 20L4 18.59l7.72-7.72 1.47 1.35L5.41 20z\"/>\n","  </svg>\n","      </button>\n","      \n","  <style>\n","    .colab-df-container {\n","      display:flex;\n","      flex-wrap:wrap;\n","      gap: 12px;\n","    }\n","\n","    .colab-df-convert {\n","      background-color: #E8F0FE;\n","      border: none;\n","      border-radius: 50%;\n","      cursor: pointer;\n","      display: none;\n","      fill: #1967D2;\n","      height: 32px;\n","      padding: 0 0 0 0;\n","      width: 32px;\n","    }\n","\n","    .colab-df-convert:hover {\n","      background-color: #E2EBFA;\n","      box-shadow: 0px 1px 2px rgba(60, 64, 67, 0.3), 0px 1px 3px 1px rgba(60, 64, 67, 0.15);\n","      fill: #174EA6;\n","    }\n","\n","    [theme=dark] .colab-df-convert {\n","      background-color: #3B4455;\n","      fill: #D2E3FC;\n","    }\n","\n","    [theme=dark] .colab-df-convert:hover {\n","      background-color: #434B5C;\n","      box-shadow: 0px 1px 3px 1px rgba(0, 0, 0, 0.15);\n","      filter: drop-shadow(0px 1px 2px rgba(0, 0, 0, 0.3));\n","      fill: #FFFFFF;\n","    }\n","  </style>\n","\n","      <script>\n","        const buttonEl =\n","          document.querySelector('#df-d7c1babf-a7a4-4d60-9bb9-3cc4d5800e36 button.colab-df-convert');\n","        buttonEl.style.display =\n","          google.colab.kernel.accessAllowed ? 'block' : 'none';\n","\n","        async function convertToInteractive(key) {\n","          const element = document.querySelector('#df-d7c1babf-a7a4-4d60-9bb9-3cc4d5800e36');\n","          const dataTable =\n","            await google.colab.kernel.invokeFunction('convertToInteractive',\n","                                                     [key], {});\n","          if (!dataTable) return;\n","\n","          const docLinkHtml = 'Like what you see? Visit the ' +\n","            '<a target=\"_blank\" href=https://colab.research.google.com/notebooks/data_table.ipynb>data table notebook</a>'\n","            + ' to learn more about interactive tables.';\n","          element.innerHTML = '';\n","          dataTable['output_type'] = 'display_data';\n","          await google.colab.output.renderOutput(dataTable, element);\n","          const docLink = document.createElement('div');\n","          docLink.innerHTML = docLinkHtml;\n","          element.appendChild(docLink);\n","        }\n","      </script>\n","    </div>\n","  </div>\n","  "]},"metadata":{},"execution_count":3}],"source":["import numpy as np\n","from sklearn.model_selection import train_test_split\n","import pandas as pd\n","\n","data = pd.read_csv('./image_classification_data/data_labels_mainData.csv')\n","data.head()"],"id":"e69abf37"},{"cell_type":"markdown","metadata":{"id":"863f2110"},"source":["## EDA"],"id":"863f2110"},{"cell_type":"markdown","source":["### Column Names and Data Types\n"],"metadata":{"id":"OPPiunwwwrGo"},"id":"OPPiunwwwrGo"},{"cell_type":"code","source":["data.info()"],"metadata":{"id":"UzEc-_wHwA1z","colab":{"base_uri":"https://localhost:8080/"},"executionInfo":{"status":"ok","timestamp":1683783931356,"user_tz":-600,"elapsed":24,"user":{"displayName":"Mitty","userId":"07989125769060825759"}},"outputId":"12253ea4-13e7-46c5-ca73-f12dad649709"},"id":"UzEc-_wHwA1z","execution_count":4,"outputs":[{"output_type":"stream","name":"stdout","text":["<class 'pandas.core.frame.DataFrame'>\n","RangeIndex: 9896 entries, 0 to 9895\n","Data columns (total 6 columns):\n"," #   Column        Non-Null Count  Dtype \n","---  ------        --------------  ----- \n"," 0   InstanceID    9896 non-null   int64 \n"," 1   patientID     9896 non-null   int64 \n"," 2   ImageName     9896 non-null   object\n"," 3   cellTypeName  9896 non-null   object\n"," 4   cellType      9896 non-null   int64 \n"," 5   isCancerous   9896 non-null   int64 \n","dtypes: int64(4), object(2)\n","memory usage: 464.0+ KB\n"]}]},{"cell_type":"markdown","source":["### Verify CellType Values"],"metadata":{"id":"8q_RqUig3a36"},"id":"8q_RqUig3a36"},{"cell_type":"markdown","source":["As we can see from the above output - `cellType` is a attribute that turns our categorical attribute `cellTypeName` into an integer value\n","\n","We will validate whether the mapping was done correctly."],"metadata":{"id":"0ysKQItU3UIU"},"id":"0ysKQItU3UIU"},{"cell_type":"code","source":["correlation_dict = {'fibroblast': 0, 'inflammatory': 1, 'epithelial': 2, 'others': 3}\n","\n","# Produce Expected CellTypeValues using Dictionary\n","data['expectedCellType'] = data['cellTypeName'].map(correlation_dict)\n","\n","# Compare Expected with Actual CellType Values\n","data['results'] = data['cellType'] == data['expectedCellType']\n","\n","# Print Whether CellType Maps to Expected Value\n","if(data['results'].sum().all() == True): \n","    print(\"Consistent Mapping of CellType Values\")\n","else:\n","    print(\"Inconsistent Mapping of CellType Values\")"],"metadata":{"id":"xPoKWw0g3Vs4","colab":{"base_uri":"https://localhost:8080/"},"executionInfo":{"status":"ok","timestamp":1683783931357,"user_tz":-600,"elapsed":20,"user":{"displayName":"Mitty","userId":"07989125769060825759"}},"outputId":"f7a2e88a-fa1f-4998-dba8-8b37d1f50cd4"},"id":"xPoKWw0g3Vs4","execution_count":5,"outputs":[{"output_type":"stream","name":"stdout","text":["Consistent Mapping of CellType Values\n"]}]},{"cell_type":"markdown","source":["### Verify If Missing Values Exist"],"metadata":{"id":"-37kYqRTwRj_"},"id":"-37kYqRTwRj_"},{"cell_type":"code","source":["# Check if Total Null Values Across all Columns are NULL\n","if(data.isnull().sum().all() == 0): \n","    print(\"No Missing Values\")\n","else:\n","    print(\"Missing Values Found\")"],"metadata":{"id":"OKfuTaoMwUP-","colab":{"base_uri":"https://localhost:8080/"},"executionInfo":{"status":"ok","timestamp":1683783931357,"user_tz":-600,"elapsed":14,"user":{"displayName":"Mitty","userId":"07989125769060825759"}},"outputId":"aef40fd0-f3e4-4302-85f7-b411f7f0f763"},"id":"OKfuTaoMwUP-","execution_count":6,"outputs":[{"output_type":"stream","name":"stdout","text":["No Missing Values\n"]}]},{"cell_type":"code","source":["print(\"Data count by cellTypeName\") \n","print(data['cellTypeName'].value_counts())\n","\n","print(\"Data count by isCancerous\")\n","print(data['isCancerous'].value_counts())"],"metadata":{"id":"UwwPEIOews8P","colab":{"base_uri":"https://localhost:8080/"},"executionInfo":{"status":"ok","timestamp":1683783931357,"user_tz":-600,"elapsed":11,"user":{"displayName":"Mitty","userId":"07989125769060825759"}},"outputId":"e581bf21-b505-4c34-e682-551d16a1d0a6"},"id":"UwwPEIOews8P","execution_count":7,"outputs":[{"output_type":"stream","name":"stdout","text":["Data count by cellTypeName\n","epithelial      4079\n","inflammatory    2543\n","fibroblast      1888\n","others          1386\n","Name: cellTypeName, dtype: int64\n","Data count by isCancerous\n","0    5817\n","1    4079\n","Name: isCancerous, dtype: int64\n"]}]},{"cell_type":"markdown","metadata":{"id":"f5a9334f"},"source":["## Splitting Data"],"id":"f5a9334f"},{"cell_type":"code","execution_count":8,"metadata":{"id":"3d776b2e","colab":{"base_uri":"https://localhost:8080/"},"executionInfo":{"status":"ok","timestamp":1683783931357,"user_tz":-600,"elapsed":8,"user":{"displayName":"Mitty","userId":"07989125769060825759"}},"outputId":"34803a54-964e-4bc0-9aea-6a5656b89d80"},"outputs":[{"output_type":"stream","name":"stdout","text":["Train data : 5937, Val Data: 1979, Test Data: 1980\n"]}],"source":["train_data, test_data = train_test_split(data, test_size=0.2, random_state=42)\n","train_data, val_data = train_test_split(train_data, test_size=0.25, random_state=42)\n","\n","print(\"Train data : {}, Val Data: {}, Test Data: {}\".format(train_data.shape[0], val_data.shape[0], test_data.shape[0]))"],"id":"3d776b2e"},{"cell_type":"markdown","source":["## Model Development"],"metadata":{"id":"jpjFgwt2da5f"},"id":"jpjFgwt2da5f"},{"cell_type":"markdown","source":["### Diagnostic Tool "],"metadata":{"id":"HFxkBQAVdjbU"},"id":"HFxkBQAVdjbU"},{"cell_type":"code","source":["import matplotlib.pyplot as plt\n","def plot_learning_curve(train_loss, val_loss, train_metric, val_metric, metric_name='Accuracy'):\n","    plt.figure(figsize=(10,5))\n","    \n","    plt.subplot(1,2,1)\n","    plt.plot(train_loss, 'r--')\n","    plt.plot(val_loss, 'b--')\n","    plt.xlabel(\"epochs\")\n","    plt.ylabel(\"Loss\")\n","    plt.legend(['train', 'val'], loc='upper left')\n","\n","    plt.subplot(1,2,2)\n","    plt.plot(train_metric, 'r--')\n","    plt.plot(val_metric, 'b--')\n","    plt.xlabel(\"epochs\")\n","    plt.ylabel(metric_name)\n","    plt.legend(['train', 'val'], loc='upper left')\n","\n","    plt.show()"],"metadata":{"id":"ax5bjRomYQmx","executionInfo":{"status":"ok","timestamp":1683783931357,"user_tz":-600,"elapsed":5,"user":{"displayName":"Mitty","userId":"07989125769060825759"}}},"id":"ax5bjRomYQmx","execution_count":9,"outputs":[]},{"cell_type":"markdown","source":["### Data Generator "],"metadata":{"id":"qKTZrUIRluaR"},"id":"qKTZrUIRluaR"},{"cell_type":"code","source":["import tensorflow as tf\n","from tensorflow.keras.preprocessing.image import ImageDataGenerator\n","\n","train_data['isCancerous'] = train_data['isCancerous'].astype('str')\n","val_data['isCancerous'] = val_data['isCancerous'].astype('str')\n","\n","train_datagen = ImageDataGenerator(rescale=1./255, data_format='channels_last')\n","val_datagen = ImageDataGenerator(rescale=1./255, data_format='channels_last')\n","\n","batch_size = 32\n","\n","train_generator = train_datagen.flow_from_dataframe(\n","        dataframe=train_data,\n","        directory='/content/image_classification_data/patch_images',\n","        x_col=\"ImageName\",\n","        y_col=\"isCancerous\",\n","        target_size=(26, 26),\n","        batch_size=batch_size,\n","        class_mode='categorical')\n","\n","validation_generator = val_datagen.flow_from_dataframe(\n","        dataframe=val_data,\n","        directory='/content/image_classification_data/patch_images',\n","        x_col=\"ImageName\",\n","        y_col=\"isCancerous\",\n","        target_size=(26, 26),\n","        batch_size=batch_size,\n","        class_mode='categorical')"],"metadata":{"id":"YmH4eMewltt-","colab":{"base_uri":"https://localhost:8080/"},"executionInfo":{"status":"ok","timestamp":1683784018016,"user_tz":-600,"elapsed":679,"user":{"displayName":"Mitty","userId":"07989125769060825759"}},"outputId":"d1c91117-b9d1-4edb-e6ad-20a942e4d656"},"id":"YmH4eMewltt-","execution_count":17,"outputs":[{"output_type":"stream","name":"stdout","text":["Found 5937 validated image filenames belonging to 2 classes.\n","Found 1979 validated image filenames belonging to 2 classes.\n"]}]},{"cell_type":"markdown","source":["### Baseline Model"],"metadata":{"id":"tzxMI8dfdr2H"},"id":"tzxMI8dfdr2H"},{"cell_type":"code","source":["INPUT_DIM = (26,26,3)\n","HIDDEN_LAYER_DIM = 256\n","OUTPUT_CLASSES = 2"],"metadata":{"id":"oCdUIrLvdtcT","executionInfo":{"status":"ok","timestamp":1683783963909,"user_tz":-600,"elapsed":370,"user":{"displayName":"Mitty","userId":"07989125769060825759"}}},"id":"oCdUIrLvdtcT","execution_count":14,"outputs":[]},{"cell_type":"code","source":["model = tf.keras.Sequential([\n","    tf.keras.layers.Flatten(input_shape=INPUT_DIM),\n","    tf.keras.layers.Dense(HIDDEN_LAYER_DIM, activation='sigmoid'),\n","    tf.keras.layers.Dense(OUTPUT_CLASSES)\n","])\n","\n","model.summary()"],"metadata":{"id":"xIjWcPp7g-mW","colab":{"base_uri":"https://localhost:8080/"},"executionInfo":{"status":"ok","timestamp":1683784023617,"user_tz":-600,"elapsed":10,"user":{"displayName":"Mitty","userId":"07989125769060825759"}},"outputId":"3de35769-1776-433b-f32a-2951c44ea376"},"id":"xIjWcPp7g-mW","execution_count":18,"outputs":[{"output_type":"stream","name":"stdout","text":["Model: \"sequential\"\n","_________________________________________________________________\n"," Layer (type)                Output Shape              Param #   \n","=================================================================\n"," flatten (Flatten)           (None, 2028)              0         \n","                                                                 \n"," dense (Dense)               (None, 256)               519424    \n","                                                                 \n"," dense_1 (Dense)             (None, 2)                 514       \n","                                                                 \n","=================================================================\n","Total params: 519,938\n","Trainable params: 519,938\n","Non-trainable params: 0\n","_________________________________________________________________\n"]}]},{"cell_type":"code","source":["tf.keras.utils.plot_model(model, show_shapes=True)"],"metadata":{"id":"pl1OtK5ehoJv","colab":{"base_uri":"https://localhost:8080/","height":422},"executionInfo":{"status":"ok","timestamp":1683784028364,"user_tz":-600,"elapsed":566,"user":{"displayName":"Mitty","userId":"07989125769060825759"}},"outputId":"4eadab24-1649-4092-ec29-4e921158b5e1"},"id":"pl1OtK5ehoJv","execution_count":19,"outputs":[{"output_type":"execute_result","data":{"image/png":"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\n","text/plain":["<IPython.core.display.Image object>"]},"metadata":{},"execution_count":19}]},{"cell_type":"code","source":["model.compile(optimizer='SGD',\n","              loss=tf.keras.losses.CategoricalCrossentropy(from_logits=True),\n","              metrics=['categorical_accuracy'])"],"metadata":{"id":"WrE0735Khoq4","executionInfo":{"status":"ok","timestamp":1683784031280,"user_tz":-600,"elapsed":310,"user":{"displayName":"Mitty","userId":"07989125769060825759"}}},"id":"WrE0735Khoq4","execution_count":20,"outputs":[]},{"cell_type":"code","source":["history = model.fit_generator(train_generator, validation_data = validation_generator, epochs=50, verbose=0)"],"metadata":{"id":"ImSszhXCk9gF","colab":{"base_uri":"https://localhost:8080/"},"executionInfo":{"status":"ok","timestamp":1683784306832,"user_tz":-600,"elapsed":271698,"user":{"displayName":"Mitty","userId":"07989125769060825759"}},"outputId":"882d3c24-3360-4faa-c0f4-bb9ad4a96234"},"id":"ImSszhXCk9gF","execution_count":21,"outputs":[{"output_type":"stream","name":"stderr","text":["<ipython-input-21-243f5d5117d3>:1: UserWarning: `Model.fit_generator` is deprecated and will be removed in a future version. Please use `Model.fit`, which supports generators.\n","  history = model.fit_generator(train_generator, validation_data = validation_generator, epochs=50, verbose=0)\n"]}]},{"cell_type":"code","source":["plot_learning_curve(history.history['loss'], history.history['val_loss'], \n","                    history.history['categorical_accuracy'], history.history['val_categorical_accuracy'], \n","                    metric_name='Accuracy')"],"metadata":{"id":"CNY8RY2BuUMI","executionInfo":{"status":"aborted","timestamp":1683783935659,"user_tz":-600,"elapsed":4,"user":{"displayName":"Mitty","userId":"07989125769060825759"}}},"id":"CNY8RY2BuUMI","execution_count":null,"outputs":[]}],"metadata":{"colab":{"provenance":[]},"kernelspec":{"display_name":"Python 3 (ipykernel)","language":"python","name":"python3"},"language_info":{"codemirror_mode":{"name":"ipython","version":3},"file_extension":".py","mimetype":"text/x-python","name":"python","nbconvert_exporter":"python","pygments_lexer":"ipython3","version":"3.10.9"}},"nbformat":4,"nbformat_minor":5}
=======
{
  "cells": [
    {
      "cell_type": "markdown",
      "metadata": {
        "id": "bff387f2"
      },
      "source": [
        "## Importing Data"
      ],
      "id": "bff387f2"
    },
    {
      "cell_type": "code",
      "execution_count": null,
      "metadata": {
        "id": "0ae1e526"
      },
      "outputs": [],
      "source": [
        "import zipfile\n",
        "with zipfile.ZipFile('/content/drive/MyDrive/ML_Team101/Image_classification_data.zip', 'r') as zip_ref:\n",
        "    zip_ref.extractall('./image_classification_data')"
      ],
      "id": "0ae1e526"
    },
    {
      "cell_type": "code",
      "execution_count": null,
      "metadata": {
        "id": "e69abf37",
        "outputId": "e905027d-648b-4846-9bdf-111995e8892f",
        "colab": {
          "base_uri": "https://localhost:8080/",
          "height": 206
        }
      },
      "outputs": [
        {
          "output_type": "execute_result",
          "data": {
            "text/plain": [
              "   InstanceID  patientID  ImageName cellTypeName  cellType  isCancerous\n",
              "0       22405          1  22405.png   fibroblast         0            0\n",
              "1       22406          1  22406.png   fibroblast         0            0\n",
              "2       22407          1  22407.png   fibroblast         0            0\n",
              "3       22408          1  22408.png   fibroblast         0            0\n",
              "4       22409          1  22409.png   fibroblast         0            0"
            ],
            "text/html": [
              "\n",
              "  <div id=\"df-a787bfbf-7bb1-40ef-9f6e-6b9f71ccdeff\">\n",
              "    <div class=\"colab-df-container\">\n",
              "      <div>\n",
              "<style scoped>\n",
              "    .dataframe tbody tr th:only-of-type {\n",
              "        vertical-align: middle;\n",
              "    }\n",
              "\n",
              "    .dataframe tbody tr th {\n",
              "        vertical-align: top;\n",
              "    }\n",
              "\n",
              "    .dataframe thead th {\n",
              "        text-align: right;\n",
              "    }\n",
              "</style>\n",
              "<table border=\"1\" class=\"dataframe\">\n",
              "  <thead>\n",
              "    <tr style=\"text-align: right;\">\n",
              "      <th></th>\n",
              "      <th>InstanceID</th>\n",
              "      <th>patientID</th>\n",
              "      <th>ImageName</th>\n",
              "      <th>cellTypeName</th>\n",
              "      <th>cellType</th>\n",
              "      <th>isCancerous</th>\n",
              "    </tr>\n",
              "  </thead>\n",
              "  <tbody>\n",
              "    <tr>\n",
              "      <th>0</th>\n",
              "      <td>22405</td>\n",
              "      <td>1</td>\n",
              "      <td>22405.png</td>\n",
              "      <td>fibroblast</td>\n",
              "      <td>0</td>\n",
              "      <td>0</td>\n",
              "    </tr>\n",
              "    <tr>\n",
              "      <th>1</th>\n",
              "      <td>22406</td>\n",
              "      <td>1</td>\n",
              "      <td>22406.png</td>\n",
              "      <td>fibroblast</td>\n",
              "      <td>0</td>\n",
              "      <td>0</td>\n",
              "    </tr>\n",
              "    <tr>\n",
              "      <th>2</th>\n",
              "      <td>22407</td>\n",
              "      <td>1</td>\n",
              "      <td>22407.png</td>\n",
              "      <td>fibroblast</td>\n",
              "      <td>0</td>\n",
              "      <td>0</td>\n",
              "    </tr>\n",
              "    <tr>\n",
              "      <th>3</th>\n",
              "      <td>22408</td>\n",
              "      <td>1</td>\n",
              "      <td>22408.png</td>\n",
              "      <td>fibroblast</td>\n",
              "      <td>0</td>\n",
              "      <td>0</td>\n",
              "    </tr>\n",
              "    <tr>\n",
              "      <th>4</th>\n",
              "      <td>22409</td>\n",
              "      <td>1</td>\n",
              "      <td>22409.png</td>\n",
              "      <td>fibroblast</td>\n",
              "      <td>0</td>\n",
              "      <td>0</td>\n",
              "    </tr>\n",
              "  </tbody>\n",
              "</table>\n",
              "</div>\n",
              "      <button class=\"colab-df-convert\" onclick=\"convertToInteractive('df-a787bfbf-7bb1-40ef-9f6e-6b9f71ccdeff')\"\n",
              "              title=\"Convert this dataframe to an interactive table.\"\n",
              "              style=\"display:none;\">\n",
              "        \n",
              "  <svg xmlns=\"http://www.w3.org/2000/svg\" height=\"24px\"viewBox=\"0 0 24 24\"\n",
              "       width=\"24px\">\n",
              "    <path d=\"M0 0h24v24H0V0z\" fill=\"none\"/>\n",
              "    <path d=\"M18.56 5.44l.94 2.06.94-2.06 2.06-.94-2.06-.94-.94-2.06-.94 2.06-2.06.94zm-11 1L8.5 8.5l.94-2.06 2.06-.94-2.06-.94L8.5 2.5l-.94 2.06-2.06.94zm10 10l.94 2.06.94-2.06 2.06-.94-2.06-.94-.94-2.06-.94 2.06-2.06.94z\"/><path d=\"M17.41 7.96l-1.37-1.37c-.4-.4-.92-.59-1.43-.59-.52 0-1.04.2-1.43.59L10.3 9.45l-7.72 7.72c-.78.78-.78 2.05 0 2.83L4 21.41c.39.39.9.59 1.41.59.51 0 1.02-.2 1.41-.59l7.78-7.78 2.81-2.81c.8-.78.8-2.07 0-2.86zM5.41 20L4 18.59l7.72-7.72 1.47 1.35L5.41 20z\"/>\n",
              "  </svg>\n",
              "      </button>\n",
              "      \n",
              "  <style>\n",
              "    .colab-df-container {\n",
              "      display:flex;\n",
              "      flex-wrap:wrap;\n",
              "      gap: 12px;\n",
              "    }\n",
              "\n",
              "    .colab-df-convert {\n",
              "      background-color: #E8F0FE;\n",
              "      border: none;\n",
              "      border-radius: 50%;\n",
              "      cursor: pointer;\n",
              "      display: none;\n",
              "      fill: #1967D2;\n",
              "      height: 32px;\n",
              "      padding: 0 0 0 0;\n",
              "      width: 32px;\n",
              "    }\n",
              "\n",
              "    .colab-df-convert:hover {\n",
              "      background-color: #E2EBFA;\n",
              "      box-shadow: 0px 1px 2px rgba(60, 64, 67, 0.3), 0px 1px 3px 1px rgba(60, 64, 67, 0.15);\n",
              "      fill: #174EA6;\n",
              "    }\n",
              "\n",
              "    [theme=dark] .colab-df-convert {\n",
              "      background-color: #3B4455;\n",
              "      fill: #D2E3FC;\n",
              "    }\n",
              "\n",
              "    [theme=dark] .colab-df-convert:hover {\n",
              "      background-color: #434B5C;\n",
              "      box-shadow: 0px 1px 3px 1px rgba(0, 0, 0, 0.15);\n",
              "      filter: drop-shadow(0px 1px 2px rgba(0, 0, 0, 0.3));\n",
              "      fill: #FFFFFF;\n",
              "    }\n",
              "  </style>\n",
              "\n",
              "      <script>\n",
              "        const buttonEl =\n",
              "          document.querySelector('#df-a787bfbf-7bb1-40ef-9f6e-6b9f71ccdeff button.colab-df-convert');\n",
              "        buttonEl.style.display =\n",
              "          google.colab.kernel.accessAllowed ? 'block' : 'none';\n",
              "\n",
              "        async function convertToInteractive(key) {\n",
              "          const element = document.querySelector('#df-a787bfbf-7bb1-40ef-9f6e-6b9f71ccdeff');\n",
              "          const dataTable =\n",
              "            await google.colab.kernel.invokeFunction('convertToInteractive',\n",
              "                                                     [key], {});\n",
              "          if (!dataTable) return;\n",
              "\n",
              "          const docLinkHtml = 'Like what you see? Visit the ' +\n",
              "            '<a target=\"_blank\" href=https://colab.research.google.com/notebooks/data_table.ipynb>data table notebook</a>'\n",
              "            + ' to learn more about interactive tables.';\n",
              "          element.innerHTML = '';\n",
              "          dataTable['output_type'] = 'display_data';\n",
              "          await google.colab.output.renderOutput(dataTable, element);\n",
              "          const docLink = document.createElement('div');\n",
              "          docLink.innerHTML = docLinkHtml;\n",
              "          element.appendChild(docLink);\n",
              "        }\n",
              "      </script>\n",
              "    </div>\n",
              "  </div>\n",
              "  "
            ]
          },
          "metadata": {},
          "execution_count": 15
        }
      ],
      "source": [
        "import numpy as np\n",
        "from sklearn.model_selection import train_test_split\n",
        "import pandas as pd\n",
        "\n",
        "data = pd.read_csv('./image_classification_data/data_labels_mainData.csv')\n",
        "data.head()"
      ],
      "id": "e69abf37"
    },
    {
      "cell_type": "markdown",
      "metadata": {
        "id": "863f2110"
      },
      "source": [
        "## EDA"
      ],
      "id": "863f2110"
    },
    {
      "cell_type": "markdown",
      "source": [
        "### Column Names and Data Types\n"
      ],
      "metadata": {
        "id": "OPPiunwwwrGo"
      },
      "id": "OPPiunwwwrGo"
    },
    {
      "cell_type": "code",
      "source": [
        "data.info()"
      ],
      "metadata": {
        "colab": {
          "base_uri": "https://localhost:8080/"
        },
        "id": "UzEc-_wHwA1z",
        "outputId": "9d76718b-49e5-4fd4-c20c-660fbf439807"
      },
      "id": "UzEc-_wHwA1z",
      "execution_count": null,
      "outputs": [
        {
          "output_type": "stream",
          "name": "stdout",
          "text": [
            "<class 'pandas.core.frame.DataFrame'>\n",
            "RangeIndex: 9896 entries, 0 to 9895\n",
            "Data columns (total 6 columns):\n",
            " #   Column        Non-Null Count  Dtype \n",
            "---  ------        --------------  ----- \n",
            " 0   InstanceID    9896 non-null   int64 \n",
            " 1   patientID     9896 non-null   int64 \n",
            " 2   ImageName     9896 non-null   object\n",
            " 3   cellTypeName  9896 non-null   object\n",
            " 4   cellType      9896 non-null   int64 \n",
            " 5   isCancerous   9896 non-null   int64 \n",
            "dtypes: int64(4), object(2)\n",
            "memory usage: 464.0+ KB\n"
          ]
        }
      ]
    },
    {
      "cell_type": "markdown",
      "source": [
        "### Verify CellType Values"
      ],
      "metadata": {
        "id": "8q_RqUig3a36"
      },
      "id": "8q_RqUig3a36"
    },
    {
      "cell_type": "markdown",
      "source": [
        "As we can see from the above output - `cellType` is a attribute that turns our categorical attribute `cellTypeName` into an integer value\n",
        "\n",
        "We will validate whether the mapping was done correctly."
      ],
      "metadata": {
        "id": "0ysKQItU3UIU"
      },
      "id": "0ysKQItU3UIU"
    },
    {
      "cell_type": "code",
      "source": [
        "correlation_dict = {'fibroblast': 0, 'inflammatory': 1, 'epithelial': 2, 'others': 3}\n",
        "\n",
        "# Produce Expected CellTypeValues using Dictionary\n",
        "data['expectedCellType'] = data['cellTypeName'].map(correlation_dict)\n",
        "\n",
        "# Compare Expected with Actual CellType Values\n",
        "data['results'] = data['cellType'] == data['expectedCellType']\n",
        "\n",
        "# Print Whether CellType Maps to Expected Value\n",
        "if(data['results'].sum().all() == True): \n",
        "    print(\"Consistent Mapping of CellType Values\")\n",
        "else:\n",
        "    print(\"Inconsistent Mapping of CellType Values\")"
      ],
      "metadata": {
        "colab": {
          "base_uri": "https://localhost:8080/"
        },
        "id": "xPoKWw0g3Vs4",
        "outputId": "4516201a-d125-4493-8eaa-9db731648057"
      },
      "id": "xPoKWw0g3Vs4",
      "execution_count": 35,
      "outputs": [
        {
          "output_type": "stream",
          "name": "stdout",
          "text": [
            "Consistent Mapping of CellType Values\n"
          ]
        }
      ]
    },
    {
      "cell_type": "markdown",
      "source": [
        "### Verify If Missing Values Exist"
      ],
      "metadata": {
        "id": "-37kYqRTwRj_"
      },
      "id": "-37kYqRTwRj_"
    },
    {
      "cell_type": "code",
      "source": [
        "# Check if Total Null Values Across all Columns are NULL\n",
        "if(data.isnull().sum().all() == 0): \n",
        "    print(\"No Missing Values\")\n",
        "else:\n",
        "    print(\"Missing Values Found\")"
      ],
      "metadata": {
        "colab": {
          "base_uri": "https://localhost:8080/"
        },
        "id": "OKfuTaoMwUP-",
        "outputId": "bbf7c936-c827-4030-c22c-2748fa94ba4c"
      },
      "id": "OKfuTaoMwUP-",
      "execution_count": null,
      "outputs": [
        {
          "output_type": "stream",
          "name": "stdout",
          "text": [
            "No Missing Values\n"
          ]
        }
      ]
    },
    {
      "cell_type": "code",
      "source": [
        "print(\"Data count by cellTypeName\") \n",
        "print(data['cellTypeName'].value_counts())\n",
        "\n",
        "print(\"Data count by isCancerous\")\n",
        "print(data['isCancerous'].value_counts())"
      ],
      "metadata": {
        "id": "UwwPEIOews8P",
        "colab": {
          "base_uri": "https://localhost:8080/"
        },
        "outputId": "cf5c32f1-9351-4b45-b491-5a97783b1939"
      },
      "id": "UwwPEIOews8P",
      "execution_count": null,
      "outputs": [
        {
          "output_type": "stream",
          "name": "stdout",
          "text": [
            "Data count by cellTypeName\n",
            "epithelial      4079\n",
            "inflammatory    2543\n",
            "fibroblast      1888\n",
            "others          1386\n",
            "Name: cellTypeName, dtype: int64\n",
            "Data count by isCancerous\n",
            "0    5817\n",
            "1    4079\n",
            "Name: isCancerous, dtype: int64\n"
          ]
        }
      ]
    },
    {
      "cell_type": "markdown",
      "metadata": {
        "id": "f5a9334f"
      },
      "source": [
        "## Splitting Data"
      ],
      "id": "f5a9334f"
    },
    {
      "cell_type": "code",
      "execution_count": null,
      "metadata": {
        "id": "3d776b2e",
        "outputId": "fb5e9f95-4ba4-4a75-b73e-2c8d6b8d4c0e",
        "colab": {
          "base_uri": "https://localhost:8080/"
        }
      },
      "outputs": [
        {
          "output_type": "stream",
          "name": "stdout",
          "text": [
            "Train data : 5937, Val Data: 1979, Test Data: 1980\n"
          ]
        }
      ],
      "source": [
        "train_data, test_data = train_test_split(data, test_size=0.2, random_state=42)\n",
        "train_data, val_data = train_test_split(train_data, test_size=0.25, random_state=42)\n",
        "\n",
        "print(\"Train data : {}, Val Data: {}, Test Data: {}\".format(train_data.shape[0], val_data.shape[0], test_data.shape[0]))"
      ],
      "id": "3d776b2e"
    }
  ],
  "metadata": {
    "colab": {
      "provenance": []
    },
    "kernelspec": {
      "display_name": "Python 3 (ipykernel)",
      "language": "python",
      "name": "python3"
    },
    "language_info": {
      "codemirror_mode": {
        "name": "ipython",
        "version": 3
      },
      "file_extension": ".py",
      "mimetype": "text/x-python",
      "name": "python",
      "nbconvert_exporter": "python",
      "pygments_lexer": "ipython3",
      "version": "3.10.9"
    }
  },
  "nbformat": 4,
  "nbformat_minor": 5
}
>>>>>>> 949dbb2d28ea18ec17129260fbaf6b801fe919b9
