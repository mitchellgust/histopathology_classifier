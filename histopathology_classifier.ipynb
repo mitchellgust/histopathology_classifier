{
  "cells": [
    {
      "cell_type": "markdown",
      "metadata": {
        "id": "bff387f2"
      },
      "source": [
        "## Importing Data"
      ],
      "id": "bff387f2"
    },
    {
      "cell_type": "code",
      "execution_count": 2,
      "metadata": {
        "colab": {
          "base_uri": "https://localhost:8080/"
        },
        "id": "GNzmukChYbuQ",
        "outputId": "c8ae3841-a8e8-48f9-b056-36d33dd6056c"
      },
      "outputs": [
        {
          "output_type": "stream",
          "name": "stdout",
          "text": [
            "Mounted at /content/drive\n"
          ]
        }
      ],
      "source": [
        "from google.colab import drive\n",
        "drive.mount('/content/drive')\n",
        "# !ls /content/drive/'My Drive'/\n",
        "!cp /content/drive/'My Drive'/image_classification_data.zip .\n",
        "!unzip -q -o image_classification_data.zip\n",
        "!rm image_classification_data.zip\n",
        "!mkdir image_classification_data"
      ],
      "id": "GNzmukChYbuQ"
    },
    {
      "cell_type": "code",
      "execution_count": 3,
      "metadata": {
        "id": "YrVC2smmWDX1"
      },
      "outputs": [],
      "source": [
        "# Used for Moving Zip Contents to Folder\n",
        "\n",
        "!mv data_labels_extraData.csv image_classification_data\n",
        "!mv data_labels_mainData.csv image_classification_data\n",
        "!mv patch_images image_classification_data\n",
        "!rm -r sample_data"
      ],
      "id": "YrVC2smmWDX1"
    },
    {
      "cell_type": "code",
      "execution_count": 7,
      "metadata": {
        "colab": {
          "base_uri": "https://localhost:8080/",
          "height": 201
        },
        "id": "e69abf37",
        "outputId": "3b263d13-6d65-4527-8950-51ff30fd8b2a"
      },
      "outputs": [
        {
          "output_type": "execute_result",
          "data": {
            "text/plain": [
              "   InstanceID  patientID  ImageName cellTypeName  cellType  isCancerous\n",
              "0       22405          1  22405.png   fibroblast       0.0            0\n",
              "1       22406          1  22406.png   fibroblast       0.0            0\n",
              "2       22407          1  22407.png   fibroblast       0.0            0\n",
              "3       22408          1  22408.png   fibroblast       0.0            0\n",
              "4       22409          1  22409.png   fibroblast       0.0            0"
            ],
            "text/html": [
              "\n",
              "  <div id=\"df-3cf7c0cb-bf8a-456d-b305-c91c6d91285f\">\n",
              "    <div class=\"colab-df-container\">\n",
              "      <div>\n",
              "<style scoped>\n",
              "    .dataframe tbody tr th:only-of-type {\n",
              "        vertical-align: middle;\n",
              "    }\n",
              "\n",
              "    .dataframe tbody tr th {\n",
              "        vertical-align: top;\n",
              "    }\n",
              "\n",
              "    .dataframe thead th {\n",
              "        text-align: right;\n",
              "    }\n",
              "</style>\n",
              "<table border=\"1\" class=\"dataframe\">\n",
              "  <thead>\n",
              "    <tr style=\"text-align: right;\">\n",
              "      <th></th>\n",
              "      <th>InstanceID</th>\n",
              "      <th>patientID</th>\n",
              "      <th>ImageName</th>\n",
              "      <th>cellTypeName</th>\n",
              "      <th>cellType</th>\n",
              "      <th>isCancerous</th>\n",
              "    </tr>\n",
              "  </thead>\n",
              "  <tbody>\n",
              "    <tr>\n",
              "      <th>0</th>\n",
              "      <td>22405</td>\n",
              "      <td>1</td>\n",
              "      <td>22405.png</td>\n",
              "      <td>fibroblast</td>\n",
              "      <td>0.0</td>\n",
              "      <td>0</td>\n",
              "    </tr>\n",
              "    <tr>\n",
              "      <th>1</th>\n",
              "      <td>22406</td>\n",
              "      <td>1</td>\n",
              "      <td>22406.png</td>\n",
              "      <td>fibroblast</td>\n",
              "      <td>0.0</td>\n",
              "      <td>0</td>\n",
              "    </tr>\n",
              "    <tr>\n",
              "      <th>2</th>\n",
              "      <td>22407</td>\n",
              "      <td>1</td>\n",
              "      <td>22407.png</td>\n",
              "      <td>fibroblast</td>\n",
              "      <td>0.0</td>\n",
              "      <td>0</td>\n",
              "    </tr>\n",
              "    <tr>\n",
              "      <th>3</th>\n",
              "      <td>22408</td>\n",
              "      <td>1</td>\n",
              "      <td>22408.png</td>\n",
              "      <td>fibroblast</td>\n",
              "      <td>0.0</td>\n",
              "      <td>0</td>\n",
              "    </tr>\n",
              "    <tr>\n",
              "      <th>4</th>\n",
              "      <td>22409</td>\n",
              "      <td>1</td>\n",
              "      <td>22409.png</td>\n",
              "      <td>fibroblast</td>\n",
              "      <td>0.0</td>\n",
              "      <td>0</td>\n",
              "    </tr>\n",
              "  </tbody>\n",
              "</table>\n",
              "</div>\n",
              "      <button class=\"colab-df-convert\" onclick=\"convertToInteractive('df-3cf7c0cb-bf8a-456d-b305-c91c6d91285f')\"\n",
              "              title=\"Convert this dataframe to an interactive table.\"\n",
              "              style=\"display:none;\">\n",
              "        \n",
              "  <svg xmlns=\"http://www.w3.org/2000/svg\" height=\"24px\"viewBox=\"0 0 24 24\"\n",
              "       width=\"24px\">\n",
              "    <path d=\"M0 0h24v24H0V0z\" fill=\"none\"/>\n",
              "    <path d=\"M18.56 5.44l.94 2.06.94-2.06 2.06-.94-2.06-.94-.94-2.06-.94 2.06-2.06.94zm-11 1L8.5 8.5l.94-2.06 2.06-.94-2.06-.94L8.5 2.5l-.94 2.06-2.06.94zm10 10l.94 2.06.94-2.06 2.06-.94-2.06-.94-.94-2.06-.94 2.06-2.06.94z\"/><path d=\"M17.41 7.96l-1.37-1.37c-.4-.4-.92-.59-1.43-.59-.52 0-1.04.2-1.43.59L10.3 9.45l-7.72 7.72c-.78.78-.78 2.05 0 2.83L4 21.41c.39.39.9.59 1.41.59.51 0 1.02-.2 1.41-.59l7.78-7.78 2.81-2.81c.8-.78.8-2.07 0-2.86zM5.41 20L4 18.59l7.72-7.72 1.47 1.35L5.41 20z\"/>\n",
              "  </svg>\n",
              "      </button>\n",
              "      \n",
              "  <style>\n",
              "    .colab-df-container {\n",
              "      display:flex;\n",
              "      flex-wrap:wrap;\n",
              "      gap: 12px;\n",
              "    }\n",
              "\n",
              "    .colab-df-convert {\n",
              "      background-color: #E8F0FE;\n",
              "      border: none;\n",
              "      border-radius: 50%;\n",
              "      cursor: pointer;\n",
              "      display: none;\n",
              "      fill: #1967D2;\n",
              "      height: 32px;\n",
              "      padding: 0 0 0 0;\n",
              "      width: 32px;\n",
              "    }\n",
              "\n",
              "    .colab-df-convert:hover {\n",
              "      background-color: #E2EBFA;\n",
              "      box-shadow: 0px 1px 2px rgba(60, 64, 67, 0.3), 0px 1px 3px 1px rgba(60, 64, 67, 0.15);\n",
              "      fill: #174EA6;\n",
              "    }\n",
              "\n",
              "    [theme=dark] .colab-df-convert {\n",
              "      background-color: #3B4455;\n",
              "      fill: #D2E3FC;\n",
              "    }\n",
              "\n",
              "    [theme=dark] .colab-df-convert:hover {\n",
              "      background-color: #434B5C;\n",
              "      box-shadow: 0px 1px 3px 1px rgba(0, 0, 0, 0.15);\n",
              "      filter: drop-shadow(0px 1px 2px rgba(0, 0, 0, 0.3));\n",
              "      fill: #FFFFFF;\n",
              "    }\n",
              "  </style>\n",
              "\n",
              "      <script>\n",
              "        const buttonEl =\n",
              "          document.querySelector('#df-3cf7c0cb-bf8a-456d-b305-c91c6d91285f button.colab-df-convert');\n",
              "        buttonEl.style.display =\n",
              "          google.colab.kernel.accessAllowed ? 'block' : 'none';\n",
              "\n",
              "        async function convertToInteractive(key) {\n",
              "          const element = document.querySelector('#df-3cf7c0cb-bf8a-456d-b305-c91c6d91285f');\n",
              "          const dataTable =\n",
              "            await google.colab.kernel.invokeFunction('convertToInteractive',\n",
              "                                                     [key], {});\n",
              "          if (!dataTable) return;\n",
              "\n",
              "          const docLinkHtml = 'Like what you see? Visit the ' +\n",
              "            '<a target=\"_blank\" href=https://colab.research.google.com/notebooks/data_table.ipynb>data table notebook</a>'\n",
              "            + ' to learn more about interactive tables.';\n",
              "          element.innerHTML = '';\n",
              "          dataTable['output_type'] = 'display_data';\n",
              "          await google.colab.output.renderOutput(dataTable, element);\n",
              "          const docLink = document.createElement('div');\n",
              "          docLink.innerHTML = docLinkHtml;\n",
              "          element.appendChild(docLink);\n",
              "        }\n",
              "      </script>\n",
              "    </div>\n",
              "  </div>\n",
              "  "
            ]
          },
          "metadata": {},
          "execution_count": 7
        }
      ],
      "source": [
        "import numpy as np\n",
        "from sklearn.model_selection import train_test_split\n",
        "import pandas as pd\n",
        "\n",
        "data = pd.read_csv('./image_classification_data/data_labels_mainData.csv')\n",
        "\n",
        "extra_data = pd.read_csv('./image_classification_data/data_labels_extraData.csv')\n",
        "\n",
        "combined_isCancer_data = pd.concat([data, extra_data])\n",
        "combined_isCancer_data.head()\n"
      ],
      "id": "e69abf37"
    },
    {
      "cell_type": "markdown",
      "metadata": {
        "id": "863f2110"
      },
      "source": [
        "## EDA"
      ],
      "id": "863f2110"
    },
    {
      "cell_type": "markdown",
      "metadata": {
        "id": "OPPiunwwwrGo"
      },
      "source": [
        "### Column Names and Data Types\n"
      ],
      "id": "OPPiunwwwrGo"
    },
    {
      "cell_type": "code",
      "execution_count": null,
      "metadata": {
        "colab": {
          "base_uri": "https://localhost:8080/"
        },
        "id": "UzEc-_wHwA1z",
        "outputId": "7a667993-3378-4fa1-d486-f727eaf42093"
      },
      "outputs": [
        {
          "output_type": "stream",
          "name": "stdout",
          "text": [
            "<class 'pandas.core.frame.DataFrame'>\n",
            "RangeIndex: 9896 entries, 0 to 9895\n",
            "Data columns (total 6 columns):\n",
            " #   Column        Non-Null Count  Dtype \n",
            "---  ------        --------------  ----- \n",
            " 0   InstanceID    9896 non-null   int64 \n",
            " 1   patientID     9896 non-null   int64 \n",
            " 2   ImageName     9896 non-null   object\n",
            " 3   cellTypeName  9896 non-null   object\n",
            " 4   cellType      9896 non-null   int64 \n",
            " 5   isCancerous   9896 non-null   int64 \n",
            "dtypes: int64(4), object(2)\n",
            "memory usage: 464.0+ KB\n"
          ]
        }
      ],
      "source": [
        "data.info()"
      ],
      "id": "UzEc-_wHwA1z"
    },
    {
      "cell_type": "markdown",
      "metadata": {
        "id": "8q_RqUig3a36"
      },
      "source": [
        "### Verify CellType Values"
      ],
      "id": "8q_RqUig3a36"
    },
    {
      "cell_type": "markdown",
      "metadata": {
        "id": "0ysKQItU3UIU"
      },
      "source": [
        "As we can see from the above output - `cellType` is a attribute that turns our categorical attribute `cellTypeName` into an integer value\n",
        "\n",
        "We will validate whether the mapping was done correctly."
      ],
      "id": "0ysKQItU3UIU"
    },
    {
      "cell_type": "code",
      "execution_count": null,
      "metadata": {
        "colab": {
          "base_uri": "https://localhost:8080/"
        },
        "id": "xPoKWw0g3Vs4",
        "outputId": "492d33df-4181-4169-f904-72dda5c7b82e"
      },
      "outputs": [
        {
          "output_type": "stream",
          "name": "stdout",
          "text": [
            "Consistent Mapping of CellType Values\n"
          ]
        }
      ],
      "source": [
        "correlation_dict = {'fibroblast': 0, 'inflammatory': 1, 'epithelial': 2, 'others': 3}\n",
        "\n",
        "# Produce Expected CellTypeValues using Dictionary\n",
        "data['expectedCellType'] = data['cellTypeName'].map(correlation_dict)\n",
        "\n",
        "# Compare Expected with Actual CellType Values\n",
        "data['results'] = data['cellType'] == data['expectedCellType']\n",
        "\n",
        "# Print Whether CellType Maps to Expected Value\n",
        "if(data['results'].sum().all() == True): \n",
        "    print(\"Consistent Mapping of CellType Values\")\n",
        "else:\n",
        "    print(\"Inconsistent Mapping of CellType Values\")"
      ],
      "id": "xPoKWw0g3Vs4"
    },
    {
      "cell_type": "markdown",
      "metadata": {
        "id": "-37kYqRTwRj_"
      },
      "source": [
        "### Verify If Missing Values Exist"
      ],
      "id": "-37kYqRTwRj_"
    },
    {
      "cell_type": "code",
      "execution_count": null,
      "metadata": {
        "colab": {
          "base_uri": "https://localhost:8080/"
        },
        "id": "OKfuTaoMwUP-",
        "outputId": "eb427a0a-1f40-4537-9fd7-ee7b37318e66"
      },
      "outputs": [
        {
          "output_type": "stream",
          "name": "stdout",
          "text": [
            "No Missing Values\n"
          ]
        }
      ],
      "source": [
        "\n",
        "# Check if Total Null Values Across all Columns are NULL\n",
        "if(data.isnull().sum().all() == 0): \n",
        "    print(\"No Missing Values\")\n",
        "else:\n",
        "    print(\"Missing Values Found\")"
      ],
      "id": "OKfuTaoMwUP-"
    },
    {
      "cell_type": "code",
      "execution_count": null,
      "metadata": {
        "colab": {
          "base_uri": "https://localhost:8080/"
        },
        "id": "UwwPEIOews8P",
        "outputId": "ddc2b93a-8d6a-47cf-eeb1-045a45516f9d"
      },
      "outputs": [
        {
          "output_type": "stream",
          "name": "stdout",
          "text": [
            "Data count by cellTypeName\n",
            "epithelial      4079\n",
            "inflammatory    2543\n",
            "fibroblast      1888\n",
            "others          1386\n",
            "Name: cellTypeName, dtype: int64\n",
            "Data count by isCancerous\n",
            "0    5817\n",
            "1    4079\n",
            "Name: isCancerous, dtype: int64\n"
          ]
        }
      ],
      "source": [
        "print(\"Data count by cellTypeName\") \n",
        "print(data['cellTypeName'].value_counts())\n",
        "\n",
        "print(\"Data count by isCancerous\")\n",
        "print(data['isCancerous'].value_counts())"
      ],
      "id": "UwwPEIOews8P"
    },
    {
      "cell_type": "markdown",
      "metadata": {
        "id": "ioMpRmLzUTwe"
      },
      "source": [
        "# Model 1 - isCancerous\n"
      ],
      "id": "ioMpRmLzUTwe"
    },
    {
      "cell_type": "markdown",
      "metadata": {
        "id": "f5a9334f"
      },
      "source": [
        "### Splitting Data"
      ],
      "id": "f5a9334f"
    },
    {
      "cell_type": "code",
      "execution_count": 8,
      "metadata": {
        "colab": {
          "base_uri": "https://localhost:8080/"
        },
        "id": "3d776b2e",
        "outputId": "f2e638a6-99e2-4195-ea19-e2bbd130f6b0"
      },
      "outputs": [
        {
          "output_type": "stream",
          "name": "stdout",
          "text": [
            "Train data : 12168, Val Data: 4056, Test Data: 4056\n"
          ]
        }
      ],
      "source": [
        "from sklearn.model_selection import train_test_split\n",
        "train_data, test_data = train_test_split(combined_isCancer_data, test_size=0.2, random_state=42)\n",
        "train_data, val_data = train_test_split(train_data, test_size=0.25, random_state=42)\n",
        "\n",
        "print(\"Train data : {}, Val Data: {}, Test Data: {}\".format(train_data.shape[0], val_data.shape[0], test_data.shape[0]))"
      ],
      "id": "3d776b2e"
    },
    {
      "cell_type": "markdown",
      "metadata": {
        "id": "HFxkBQAVdjbU"
      },
      "source": [
        "### Diagnostic Tool"
      ],
      "id": "HFxkBQAVdjbU"
    },
    {
      "cell_type": "code",
      "execution_count": 9,
      "metadata": {
        "id": "ax5bjRomYQmx"
      },
      "outputs": [],
      "source": [
        "import matplotlib.pyplot as plt\n",
        "def plot_learning_curve(train_loss, val_loss, train_metric, val_metric, metric_name='Accuracy'):\n",
        "    plt.figure(figsize=(10,5))\n",
        "    \n",
        "    plt.subplot(1,2,1)\n",
        "    plt.plot(train_loss, 'r--')\n",
        "    plt.plot(val_loss, 'b--')\n",
        "    plt.xlabel(\"epochs\")\n",
        "    plt.ylabel(\"Loss\")\n",
        "    plt.legend(['train', 'val'], loc='upper left')\n",
        "\n",
        "    plt.subplot(1,2,2)\n",
        "    plt.plot(train_metric, 'r--')\n",
        "    plt.plot(val_metric, 'b--')\n",
        "    plt.xlabel(\"epochs\")\n",
        "    plt.ylabel(metric_name)\n",
        "    plt.legend(['train', 'val'], loc='upper left')\n",
        "\n",
        "    plt.show()    "
      ],
      "id": "ax5bjRomYQmx"
    },
    {
      "cell_type": "markdown",
      "metadata": {
        "id": "qKTZrUIRluaR"
      },
      "source": [
        "### Data Generator "
      ],
      "id": "qKTZrUIRluaR"
    },
    {
      "cell_type": "code",
      "execution_count": 11,
      "metadata": {
        "colab": {
          "base_uri": "https://localhost:8080/"
        },
        "id": "YmH4eMewltt-",
        "outputId": "0794b378-66a3-4313-c1aa-ab1cf4bc496b"
      },
      "outputs": [
        {
          "output_type": "stream",
          "name": "stdout",
          "text": [
            "Found 12168 validated image filenames belonging to 2 classes.\n",
            "Found 4056 validated image filenames belonging to 2 classes.\n"
          ]
        }
      ],
      "source": [
        "import tensorflow as tf\n",
        "from tensorflow.keras.preprocessing.image import ImageDataGenerator\n",
        "\n",
        "train_data['isCancerous'] = train_data['isCancerous'].astype('str')\n",
        "val_data['isCancerous'] = val_data['isCancerous'].astype('str')\n",
        "\n",
        "# Scale the Image Pixel Values from 0-1\n",
        "# Both the Training and Testing Set is Scaled in the Same Way\n",
        "train_datagen = ImageDataGenerator(rescale=1./255, data_format='channels_last')\n",
        "val_datagen = ImageDataGenerator(rescale=1./255, data_format='channels_last')\n",
        "\n",
        "batch_size = 32\n",
        "\n",
        "train_generator = train_datagen.flow_from_dataframe(\n",
        "        dataframe=train_data,\n",
        "        directory='/content/image_classification_data/patch_images',\n",
        "        x_col=\"ImageName\",\n",
        "        y_col=\"isCancerous\",\n",
        "        target_size=(27, 27),\n",
        "        batch_size=batch_size,\n",
        "        class_mode='categorical')\n",
        "\n",
        "validation_generator = val_datagen.flow_from_dataframe(\n",
        "        dataframe=val_data,\n",
        "        directory='/content/image_classification_data/patch_images',\n",
        "        x_col=\"ImageName\",\n",
        "        y_col=\"isCancerous\",\n",
        "        target_size=(27, 27),\n",
        "        batch_size=batch_size,\n",
        "        class_mode='categorical')"
      ],
      "id": "YmH4eMewltt-"
    },
    {
      "cell_type": "markdown",
      "metadata": {
        "id": "tzxMI8dfdr2H"
      },
      "source": [
        "### Baseline Model"
      ],
      "id": "tzxMI8dfdr2H"
    },
    {
      "cell_type": "code",
      "execution_count": null,
      "metadata": {
        "id": "oCdUIrLvdtcT"
      },
      "outputs": [],
      "source": [
        "INPUT_DIM = (27,27,3) # 26x26 Pixel Images, 3 Channels (RGB) \n",
        "HIDDEN_LAYER_DIM = 256 # Hyper Parameter we can Tune Later\n",
        "OUTPUT_CLASSES = 2 "
      ],
      "id": "oCdUIrLvdtcT"
    },
    {
      "cell_type": "markdown",
      "metadata": {
        "id": "9U9y50_BIo7I"
      },
      "source": [
        "Why is sigmoid good for binary classification? compared to other??"
      ],
      "id": "9U9y50_BIo7I"
    },
    {
      "cell_type": "code",
      "execution_count": null,
      "metadata": {
        "id": "xIjWcPp7g-mW",
        "colab": {
          "base_uri": "https://localhost:8080/"
        },
        "outputId": "77c86415-3a8d-47d1-8805-aa31df1251b6"
      },
      "outputs": [
        {
          "output_type": "stream",
          "name": "stdout",
          "text": [
            "Model: \"sequential\"\n",
            "_________________________________________________________________\n",
            " Layer (type)                Output Shape              Param #   \n",
            "=================================================================\n",
            " flatten (Flatten)           (None, 2187)              0         \n",
            "                                                                 \n",
            " dense (Dense)               (None, 256)               560128    \n",
            "                                                                 \n",
            " dense_1 (Dense)             (None, 2)                 514       \n",
            "                                                                 \n",
            "=================================================================\n",
            "Total params: 560,642\n",
            "Trainable params: 560,642\n",
            "Non-trainable params: 0\n",
            "_________________________________________________________________\n"
          ]
        }
      ],
      "source": [
        "import tensorflow as tf\n",
        "\n",
        "model = tf.keras.Sequential([\n",
        "    tf.keras.layers.Flatten(input_shape=INPUT_DIM),\n",
        "    tf.keras.layers.Dense(HIDDEN_LAYER_DIM, activation='sigmoid'),\n",
        "    tf.keras.layers.Dense(OUTPUT_CLASSES)\n",
        "])\n",
        "\n",
        "model.summary()"
      ],
      "id": "xIjWcPp7g-mW"
    },
    {
      "cell_type": "code",
      "execution_count": null,
      "metadata": {
        "id": "pl1OtK5ehoJv",
        "colab": {
          "base_uri": "https://localhost:8080/",
          "height": 422
        },
        "outputId": "157cdf21-84da-44da-9b2f-91b59ecd4133"
      },
      "outputs": [
        {
          "output_type": "execute_result",
          "data": {
            "image/png": "[encoded data removed]",
            "text/plain": [
              "<IPython.core.display.Image object>"
            ]
          },
          "metadata": {},
          "execution_count": 15
        }
      ],
      "source": [
        "tf.keras.utils.plot_model(model, show_shapes=True)"
      ],
      "id": "pl1OtK5ehoJv"
    },
    {
      "cell_type": "code",
      "execution_count": null,
      "metadata": {
        "id": "WrE0735Khoq4"
      },
      "outputs": [],
      "source": [
        "model.compile(optimizer='SGD',\n",
        "              loss=tf.keras.losses.BinaryCrossentropy(from_logits=True),\n",
        "              metrics=['categorical_accuracy'])"
      ],
      "id": "WrE0735Khoq4"
    },
    {
      "cell_type": "code",
      "execution_count": null,
      "metadata": {
        "id": "ImSszhXCk9gF",
        "colab": {
          "base_uri": "https://localhost:8080/",
          "height": 552
        },
        "outputId": "7e524f79-e01c-4809-bc45-bbcc6c77341c"
      },
      "outputs": [
        {
          "output_type": "stream",
          "name": "stdout",
          "text": [
            "Epoch 1/50\n"
          ]
        },
        {
          "output_type": "stream",
          "name": "stderr",
          "text": [
            "<ipython-input-17-d282d76f89ea>:1: UserWarning: `Model.fit_generator` is deprecated and will be removed in a future version. Please use `Model.fit`, which supports generators.\n",
            "  history = model.fit_generator(train_generator, validation_data = validation_generator, epochs=50, verbose=1)\n"
          ]
        },
        {
          "output_type": "stream",
          "name": "stdout",
          "text": [
            "381/381 [==============================] - 11s 26ms/step - loss: 0.6199 - categorical_accuracy: 0.6510 - val_loss: 0.5904 - val_categorical_accuracy: 0.6573\n",
            "Epoch 2/50\n",
            "381/381 [==============================] - 9s 23ms/step - loss: 0.5737 - categorical_accuracy: 0.6672 - val_loss: 0.5464 - val_categorical_accuracy: 0.7091\n",
            "Epoch 3/50\n",
            "381/381 [==============================] - 10s 27ms/step - loss: 0.5303 - categorical_accuracy: 0.7311 - val_loss: 0.5038 - val_categorical_accuracy: 0.7557\n",
            "Epoch 4/50\n",
            "381/381 [==============================] - 16s 42ms/step - loss: 0.4897 - categorical_accuracy: 0.7868 - val_loss: 0.4657 - val_categorical_accuracy: 0.8173\n",
            "Epoch 5/50\n",
            "251/381 [==================>...........] - ETA: 2s - loss: 0.4579 - categorical_accuracy: 0.8134"
          ]
        },
        {
          "output_type": "error",
          "ename": "KeyboardInterrupt",
          "evalue": "ignored",
          "traceback": [
            "\u001b[0;31m---------------------------------------------------------------------------\u001b[0m",
            "\u001b[0;31mKeyboardInterrupt\u001b[0m                         Traceback (most recent call last)",
            "\u001b[0;32m<ipython-input-17-d282d76f89ea>\u001b[0m in \u001b[0;36m<cell line: 1>\u001b[0;34m()\u001b[0m\n\u001b[0;32m----> 1\u001b[0;31m \u001b[0mhistory\u001b[0m \u001b[0;34m=\u001b[0m \u001b[0mmodel\u001b[0m\u001b[0;34m.\u001b[0m\u001b[0mfit_generator\u001b[0m\u001b[0;34m(\u001b[0m\u001b[0mtrain_generator\u001b[0m\u001b[0;34m,\u001b[0m \u001b[0mvalidation_data\u001b[0m \u001b[0;34m=\u001b[0m \u001b[0mvalidation_generator\u001b[0m\u001b[0;34m,\u001b[0m \u001b[0mepochs\u001b[0m\u001b[0;34m=\u001b[0m\u001b[0;36m50\u001b[0m\u001b[0;34m,\u001b[0m \u001b[0mverbose\u001b[0m\u001b[0;34m=\u001b[0m\u001b[0;36m1\u001b[0m\u001b[0;34m)\u001b[0m\u001b[0;34m\u001b[0m\u001b[0;34m\u001b[0m\u001b[0m\n\u001b[0m",
            "\u001b[0;32m/usr/local/lib/python3.10/dist-packages/keras/engine/training.py\u001b[0m in \u001b[0;36mfit_generator\u001b[0;34m(self, generator, steps_per_epoch, epochs, verbose, callbacks, validation_data, validation_steps, validation_freq, class_weight, max_queue_size, workers, use_multiprocessing, shuffle, initial_epoch)\u001b[0m\n\u001b[1;32m   2634\u001b[0m             \u001b[0mstacklevel\u001b[0m\u001b[0;34m=\u001b[0m\u001b[0;36m2\u001b[0m\u001b[0;34m,\u001b[0m\u001b[0;34m\u001b[0m\u001b[0;34m\u001b[0m\u001b[0m\n\u001b[1;32m   2635\u001b[0m         )\n\u001b[0;32m-> 2636\u001b[0;31m         return self.fit(\n\u001b[0m\u001b[1;32m   2637\u001b[0m             \u001b[0mgenerator\u001b[0m\u001b[0;34m,\u001b[0m\u001b[0;34m\u001b[0m\u001b[0;34m\u001b[0m\u001b[0m\n\u001b[1;32m   2638\u001b[0m             \u001b[0msteps_per_epoch\u001b[0m\u001b[0;34m=\u001b[0m\u001b[0msteps_per_epoch\u001b[0m\u001b[0;34m,\u001b[0m\u001b[0;34m\u001b[0m\u001b[0;34m\u001b[0m\u001b[0m\n",
            "\u001b[0;32m/usr/local/lib/python3.10/dist-packages/keras/utils/traceback_utils.py\u001b[0m in \u001b[0;36merror_handler\u001b[0;34m(*args, **kwargs)\u001b[0m\n\u001b[1;32m     63\u001b[0m         \u001b[0mfiltered_tb\u001b[0m \u001b[0;34m=\u001b[0m \u001b[0;32mNone\u001b[0m\u001b[0;34m\u001b[0m\u001b[0;34m\u001b[0m\u001b[0m\n\u001b[1;32m     64\u001b[0m         \u001b[0;32mtry\u001b[0m\u001b[0;34m:\u001b[0m\u001b[0;34m\u001b[0m\u001b[0;34m\u001b[0m\u001b[0m\n\u001b[0;32m---> 65\u001b[0;31m             \u001b[0;32mreturn\u001b[0m \u001b[0mfn\u001b[0m\u001b[0;34m(\u001b[0m\u001b[0;34m*\u001b[0m\u001b[0margs\u001b[0m\u001b[0;34m,\u001b[0m \u001b[0;34m**\u001b[0m\u001b[0mkwargs\u001b[0m\u001b[0;34m)\u001b[0m\u001b[0;34m\u001b[0m\u001b[0;34m\u001b[0m\u001b[0m\n\u001b[0m\u001b[1;32m     66\u001b[0m         \u001b[0;32mexcept\u001b[0m \u001b[0mException\u001b[0m \u001b[0;32mas\u001b[0m \u001b[0me\u001b[0m\u001b[0;34m:\u001b[0m\u001b[0;34m\u001b[0m\u001b[0;34m\u001b[0m\u001b[0m\n\u001b[1;32m     67\u001b[0m             \u001b[0mfiltered_tb\u001b[0m \u001b[0;34m=\u001b[0m \u001b[0m_process_traceback_frames\u001b[0m\u001b[0;34m(\u001b[0m\u001b[0me\u001b[0m\u001b[0;34m.\u001b[0m\u001b[0m__traceback__\u001b[0m\u001b[0;34m)\u001b[0m\u001b[0;34m\u001b[0m\u001b[0;34m\u001b[0m\u001b[0m\n",
            "\u001b[0;32m/usr/local/lib/python3.10/dist-packages/keras/engine/training.py\u001b[0m in \u001b[0;36mfit\u001b[0;34m(self, x, y, batch_size, epochs, verbose, callbacks, validation_split, validation_data, shuffle, class_weight, sample_weight, initial_epoch, steps_per_epoch, validation_steps, validation_batch_size, validation_freq, max_queue_size, workers, use_multiprocessing)\u001b[0m\n\u001b[1;32m   1683\u001b[0m                         ):\n\u001b[1;32m   1684\u001b[0m                             \u001b[0mcallbacks\u001b[0m\u001b[0;34m.\u001b[0m\u001b[0mon_train_batch_begin\u001b[0m\u001b[0;34m(\u001b[0m\u001b[0mstep\u001b[0m\u001b[0;34m)\u001b[0m\u001b[0;34m\u001b[0m\u001b[0;34m\u001b[0m\u001b[0m\n\u001b[0;32m-> 1685\u001b[0;31m                             \u001b[0mtmp_logs\u001b[0m \u001b[0;34m=\u001b[0m \u001b[0mself\u001b[0m\u001b[0;34m.\u001b[0m\u001b[0mtrain_function\u001b[0m\u001b[0;34m(\u001b[0m\u001b[0miterator\u001b[0m\u001b[0;34m)\u001b[0m\u001b[0;34m\u001b[0m\u001b[0;34m\u001b[0m\u001b[0m\n\u001b[0m\u001b[1;32m   1686\u001b[0m                             \u001b[0;32mif\u001b[0m \u001b[0mdata_handler\u001b[0m\u001b[0;34m.\u001b[0m\u001b[0mshould_sync\u001b[0m\u001b[0;34m:\u001b[0m\u001b[0;34m\u001b[0m\u001b[0;34m\u001b[0m\u001b[0m\n\u001b[1;32m   1687\u001b[0m                                 \u001b[0mcontext\u001b[0m\u001b[0;34m.\u001b[0m\u001b[0masync_wait\u001b[0m\u001b[0;34m(\u001b[0m\u001b[0;34m)\u001b[0m\u001b[0;34m\u001b[0m\u001b[0;34m\u001b[0m\u001b[0m\n",
            "\u001b[0;32m/usr/local/lib/python3.10/dist-packages/tensorflow/python/util/traceback_utils.py\u001b[0m in \u001b[0;36merror_handler\u001b[0;34m(*args, **kwargs)\u001b[0m\n\u001b[1;32m    148\u001b[0m     \u001b[0mfiltered_tb\u001b[0m \u001b[0;34m=\u001b[0m \u001b[0;32mNone\u001b[0m\u001b[0;34m\u001b[0m\u001b[0;34m\u001b[0m\u001b[0m\n\u001b[1;32m    149\u001b[0m     \u001b[0;32mtry\u001b[0m\u001b[0;34m:\u001b[0m\u001b[0;34m\u001b[0m\u001b[0;34m\u001b[0m\u001b[0m\n\u001b[0;32m--> 150\u001b[0;31m       \u001b[0;32mreturn\u001b[0m \u001b[0mfn\u001b[0m\u001b[0;34m(\u001b[0m\u001b[0;34m*\u001b[0m\u001b[0margs\u001b[0m\u001b[0;34m,\u001b[0m \u001b[0;34m**\u001b[0m\u001b[0mkwargs\u001b[0m\u001b[0;34m)\u001b[0m\u001b[0;34m\u001b[0m\u001b[0;34m\u001b[0m\u001b[0m\n\u001b[0m\u001b[1;32m    151\u001b[0m     \u001b[0;32mexcept\u001b[0m \u001b[0mException\u001b[0m \u001b[0;32mas\u001b[0m \u001b[0me\u001b[0m\u001b[0;34m:\u001b[0m\u001b[0;34m\u001b[0m\u001b[0;34m\u001b[0m\u001b[0m\n\u001b[1;32m    152\u001b[0m       \u001b[0mfiltered_tb\u001b[0m \u001b[0;34m=\u001b[0m \u001b[0m_process_traceback_frames\u001b[0m\u001b[0;34m(\u001b[0m\u001b[0me\u001b[0m\u001b[0;34m.\u001b[0m\u001b[0m__traceback__\u001b[0m\u001b[0;34m)\u001b[0m\u001b[0;34m\u001b[0m\u001b[0;34m\u001b[0m\u001b[0m\n",
            "\u001b[0;32m/usr/local/lib/python3.10/dist-packages/tensorflow/python/eager/polymorphic_function/polymorphic_function.py\u001b[0m in \u001b[0;36m__call__\u001b[0;34m(self, *args, **kwds)\u001b[0m\n\u001b[1;32m    892\u001b[0m \u001b[0;34m\u001b[0m\u001b[0m\n\u001b[1;32m    893\u001b[0m       \u001b[0;32mwith\u001b[0m \u001b[0mOptionalXlaContext\u001b[0m\u001b[0;34m(\u001b[0m\u001b[0mself\u001b[0m\u001b[0;34m.\u001b[0m\u001b[0m_jit_compile\u001b[0m\u001b[0;34m)\u001b[0m\u001b[0;34m:\u001b[0m\u001b[0;34m\u001b[0m\u001b[0;34m\u001b[0m\u001b[0m\n\u001b[0;32m--> 894\u001b[0;31m         \u001b[0mresult\u001b[0m \u001b[0;34m=\u001b[0m \u001b[0mself\u001b[0m\u001b[0;34m.\u001b[0m\u001b[0m_call\u001b[0m\u001b[0;34m(\u001b[0m\u001b[0;34m*\u001b[0m\u001b[0margs\u001b[0m\u001b[0;34m,\u001b[0m \u001b[0;34m**\u001b[0m\u001b[0mkwds\u001b[0m\u001b[0;34m)\u001b[0m\u001b[0;34m\u001b[0m\u001b[0;34m\u001b[0m\u001b[0m\n\u001b[0m\u001b[1;32m    895\u001b[0m \u001b[0;34m\u001b[0m\u001b[0m\n\u001b[1;32m    896\u001b[0m       \u001b[0mnew_tracing_count\u001b[0m \u001b[0;34m=\u001b[0m \u001b[0mself\u001b[0m\u001b[0;34m.\u001b[0m\u001b[0mexperimental_get_tracing_count\u001b[0m\u001b[0;34m(\u001b[0m\u001b[0;34m)\u001b[0m\u001b[0;34m\u001b[0m\u001b[0;34m\u001b[0m\u001b[0m\n",
            "\u001b[0;32m/usr/local/lib/python3.10/dist-packages/tensorflow/python/eager/polymorphic_function/polymorphic_function.py\u001b[0m in \u001b[0;36m_call\u001b[0;34m(self, *args, **kwds)\u001b[0m\n\u001b[1;32m    924\u001b[0m       \u001b[0;31m# In this case we have created variables on the first call, so we run the\u001b[0m\u001b[0;34m\u001b[0m\u001b[0;34m\u001b[0m\u001b[0m\n\u001b[1;32m    925\u001b[0m       \u001b[0;31m# defunned version which is guaranteed to never create variables.\u001b[0m\u001b[0;34m\u001b[0m\u001b[0;34m\u001b[0m\u001b[0m\n\u001b[0;32m--> 926\u001b[0;31m       \u001b[0;32mreturn\u001b[0m \u001b[0mself\u001b[0m\u001b[0;34m.\u001b[0m\u001b[0m_no_variable_creation_fn\u001b[0m\u001b[0;34m(\u001b[0m\u001b[0;34m*\u001b[0m\u001b[0margs\u001b[0m\u001b[0;34m,\u001b[0m \u001b[0;34m**\u001b[0m\u001b[0mkwds\u001b[0m\u001b[0;34m)\u001b[0m  \u001b[0;31m# pylint: disable=not-callable\u001b[0m\u001b[0;34m\u001b[0m\u001b[0;34m\u001b[0m\u001b[0m\n\u001b[0m\u001b[1;32m    927\u001b[0m     \u001b[0;32melif\u001b[0m \u001b[0mself\u001b[0m\u001b[0;34m.\u001b[0m\u001b[0m_variable_creation_fn\u001b[0m \u001b[0;32mis\u001b[0m \u001b[0;32mnot\u001b[0m \u001b[0;32mNone\u001b[0m\u001b[0;34m:\u001b[0m\u001b[0;34m\u001b[0m\u001b[0;34m\u001b[0m\u001b[0m\n\u001b[1;32m    928\u001b[0m       \u001b[0;31m# Release the lock early so that multiple threads can perform the call\u001b[0m\u001b[0;34m\u001b[0m\u001b[0;34m\u001b[0m\u001b[0m\n",
            "\u001b[0;32m/usr/local/lib/python3.10/dist-packages/tensorflow/python/eager/polymorphic_function/tracing_compiler.py\u001b[0m in \u001b[0;36m__call__\u001b[0;34m(self, *args, **kwargs)\u001b[0m\n\u001b[1;32m    141\u001b[0m       (concrete_function,\n\u001b[1;32m    142\u001b[0m        filtered_flat_args) = self._maybe_define_function(args, kwargs)\n\u001b[0;32m--> 143\u001b[0;31m     return concrete_function._call_flat(\n\u001b[0m\u001b[1;32m    144\u001b[0m         filtered_flat_args, captured_inputs=concrete_function.captured_inputs)  # pylint: disable=protected-access\n\u001b[1;32m    145\u001b[0m \u001b[0;34m\u001b[0m\u001b[0m\n",
            "\u001b[0;32m/usr/local/lib/python3.10/dist-packages/tensorflow/python/eager/polymorphic_function/monomorphic_function.py\u001b[0m in \u001b[0;36m_call_flat\u001b[0;34m(self, args, captured_inputs, cancellation_manager)\u001b[0m\n\u001b[1;32m   1755\u001b[0m         and executing_eagerly):\n\u001b[1;32m   1756\u001b[0m       \u001b[0;31m# No tape is watching; skip to running the function.\u001b[0m\u001b[0;34m\u001b[0m\u001b[0;34m\u001b[0m\u001b[0m\n\u001b[0;32m-> 1757\u001b[0;31m       return self._build_call_outputs(self._inference_function.call(\n\u001b[0m\u001b[1;32m   1758\u001b[0m           ctx, args, cancellation_manager=cancellation_manager))\n\u001b[1;32m   1759\u001b[0m     forward_backward = self._select_forward_and_backward_functions(\n",
            "\u001b[0;32m/usr/local/lib/python3.10/dist-packages/tensorflow/python/eager/polymorphic_function/monomorphic_function.py\u001b[0m in \u001b[0;36mcall\u001b[0;34m(self, ctx, args, cancellation_manager)\u001b[0m\n\u001b[1;32m    379\u001b[0m       \u001b[0;32mwith\u001b[0m \u001b[0m_InterpolateFunctionError\u001b[0m\u001b[0;34m(\u001b[0m\u001b[0mself\u001b[0m\u001b[0;34m)\u001b[0m\u001b[0;34m:\u001b[0m\u001b[0;34m\u001b[0m\u001b[0;34m\u001b[0m\u001b[0m\n\u001b[1;32m    380\u001b[0m         \u001b[0;32mif\u001b[0m \u001b[0mcancellation_manager\u001b[0m \u001b[0;32mis\u001b[0m \u001b[0;32mNone\u001b[0m\u001b[0;34m:\u001b[0m\u001b[0;34m\u001b[0m\u001b[0;34m\u001b[0m\u001b[0m\n\u001b[0;32m--> 381\u001b[0;31m           outputs = execute.execute(\n\u001b[0m\u001b[1;32m    382\u001b[0m               \u001b[0mstr\u001b[0m\u001b[0;34m(\u001b[0m\u001b[0mself\u001b[0m\u001b[0;34m.\u001b[0m\u001b[0msignature\u001b[0m\u001b[0;34m.\u001b[0m\u001b[0mname\u001b[0m\u001b[0;34m)\u001b[0m\u001b[0;34m,\u001b[0m\u001b[0;34m\u001b[0m\u001b[0;34m\u001b[0m\u001b[0m\n\u001b[1;32m    383\u001b[0m               \u001b[0mnum_outputs\u001b[0m\u001b[0;34m=\u001b[0m\u001b[0mself\u001b[0m\u001b[0;34m.\u001b[0m\u001b[0m_num_outputs\u001b[0m\u001b[0;34m,\u001b[0m\u001b[0;34m\u001b[0m\u001b[0;34m\u001b[0m\u001b[0m\n",
            "\u001b[0;32m/usr/local/lib/python3.10/dist-packages/tensorflow/python/eager/execute.py\u001b[0m in \u001b[0;36mquick_execute\u001b[0;34m(op_name, num_outputs, inputs, attrs, ctx, name)\u001b[0m\n\u001b[1;32m     50\u001b[0m   \u001b[0;32mtry\u001b[0m\u001b[0;34m:\u001b[0m\u001b[0;34m\u001b[0m\u001b[0;34m\u001b[0m\u001b[0m\n\u001b[1;32m     51\u001b[0m     \u001b[0mctx\u001b[0m\u001b[0;34m.\u001b[0m\u001b[0mensure_initialized\u001b[0m\u001b[0;34m(\u001b[0m\u001b[0;34m)\u001b[0m\u001b[0;34m\u001b[0m\u001b[0;34m\u001b[0m\u001b[0m\n\u001b[0;32m---> 52\u001b[0;31m     tensors = pywrap_tfe.TFE_Py_Execute(ctx._handle, device_name, op_name,\n\u001b[0m\u001b[1;32m     53\u001b[0m                                         inputs, attrs, num_outputs)\n\u001b[1;32m     54\u001b[0m   \u001b[0;32mexcept\u001b[0m \u001b[0mcore\u001b[0m\u001b[0;34m.\u001b[0m\u001b[0m_NotOkStatusException\u001b[0m \u001b[0;32mas\u001b[0m \u001b[0me\u001b[0m\u001b[0;34m:\u001b[0m\u001b[0;34m\u001b[0m\u001b[0;34m\u001b[0m\u001b[0m\n",
            "\u001b[0;31mKeyboardInterrupt\u001b[0m: "
          ]
        }
      ],
      "source": [
        "history = model.fit_generator(train_generator, validation_data = validation_generator, epochs=50, verbose=1)"
      ],
      "id": "ImSszhXCk9gF"
    },
    {
      "cell_type": "code",
      "execution_count": null,
      "metadata": {
        "id": "CNY8RY2BuUMI"
      },
      "outputs": [],
      "source": [
        "plot_learning_curve(history.history['loss'], history.history['val_loss'], \n",
        "                    history.history['categorical_accuracy'], history.history['val_categorical_accuracy'], \n",
        "                    metric_name='Accuracy')"
      ],
      "id": "CNY8RY2BuUMI"
    },
    {
      "cell_type": "markdown",
      "metadata": {
        "id": "W4KbCJU3zwdv"
      },
      "source": [
        "### VGG 1 - Deep Learning Model"
      ],
      "id": "W4KbCJU3zwdv"
    },
    {
      "cell_type": "code",
      "execution_count": null,
      "metadata": {
        "id": "2vXFyh89zyiy"
      },
      "outputs": [],
      "source": [
        "import tensorflow as tf\n",
        "\n",
        "model_VGG_1 = tf.keras.Sequential([\n",
        "    #VGG block 1\n",
        "    tf.keras.layers.Conv2D(32, (3, 3), activation='relu', padding='same', input_shape=INPUT_DIM),\n",
        "    tf.keras.layers.Conv2D(32, (3, 3), activation='relu', padding='same'),\n",
        "    tf.keras.layers.MaxPooling2D((2, 2)),\n",
        "    \n",
        "    #VGG block 2\n",
        "    tf.keras.layers.Conv2D(64, (3, 3), activation='relu', padding='same'),\n",
        "    tf.keras.layers.Conv2D(64, (3, 3), activation='relu', padding='same'),\n",
        "    tf.keras.layers.MaxPooling2D((2, 2)),\n",
        "    \n",
        "    #VGG block 3\n",
        "    tf.keras.layers.Conv2D(128, (3, 3), activation='relu', padding='same'),\n",
        "    tf.keras.layers.Conv2D(128, (3, 3), activation='relu', padding='same'),\n",
        "    tf.keras.layers.MaxPooling2D((2, 2)),\n",
        "    \n",
        "    tf.keras.layers.Flatten(),\n",
        "    tf.keras.layers.Dense(128, activation='sigmoid'),\n",
        "    tf.keras.layers.Dropout(0.2),\n",
        "    tf.keras.layers.Dense(OUTPUT_CLASSES),\n",
        "])\n",
        "\n",
        "model_VGG_1.summary()"
      ],
      "id": "2vXFyh89zyiy"
    },
    {
      "cell_type": "code",
      "execution_count": null,
      "metadata": {
        "id": "Z0Ya9_em0GQx"
      },
      "outputs": [],
      "source": [
        "tf.keras.utils.plot_model(model_VGG_1, show_shapes=True)"
      ],
      "id": "Z0Ya9_em0GQx"
    },
    {
      "cell_type": "code",
      "execution_count": null,
      "metadata": {
        "id": "rYbQVTc-0I4C"
      },
      "outputs": [],
      "source": [
        "model_VGG_1.compile(optimizer='adam',\n",
        "              loss=tf.keras.losses.BinaryCrossentropy(from_logits=True),\n",
        "              metrics=['binary_accuracy'])"
      ],
      "id": "rYbQVTc-0I4C"
    },
    {
      "cell_type": "code",
      "execution_count": null,
      "metadata": {
        "id": "CnUiUKmN0KgB"
      },
      "outputs": [],
      "source": [
        "history2 = model_VGG_1.fit_generator(train_generator, validation_data = validation_generator, epochs=50, verbose=1)"
      ],
      "id": "CnUiUKmN0KgB"
    },
    {
      "cell_type": "code",
      "execution_count": null,
      "metadata": {
        "id": "5Oq2tyqO0MLj"
      },
      "outputs": [],
      "source": [
        "plot_learning_curve(history2.history['loss'], history2.history['val_loss'], \n",
        "                    history2.history['binary_accuracy'], history2.history['val_binary_accuracy'], \n",
        "                    metric_name='Accuracy')"
      ],
      "id": "5Oq2tyqO0MLj"
    },
    {
      "cell_type": "markdown",
      "metadata": {
        "id": "vHSBWLX8Z2I4"
      },
      "source": [
        "### VGG 2 - Preventing Overfitting"
      ],
      "id": "vHSBWLX8Z2I4"
    },
    {
      "cell_type": "code",
      "execution_count": null,
      "metadata": {
        "id": "T1SWFHudbP-7"
      },
      "outputs": [],
      "source": [
        "reg_lambda = 0.001\n",
        "\n",
        "model_VGG_2 = tf.keras.Sequential([\n",
        "    #VGG block 1\n",
        "    tf.keras.layers.Conv2D(32, (3, 3), activation='relu', padding='same', \n",
        "                           kernel_regularizer=tf.keras.regularizers.l2(reg_lambda), input_shape=INPUT_DIM),\n",
        "    tf.keras.layers.Conv2D(32, (3, 3), activation='relu', padding='same', \n",
        "                           kernel_regularizer=tf.keras.regularizers.l2(reg_lambda)),\n",
        "    tf.keras.layers.MaxPooling2D((2, 2)),\n",
        "    \n",
        "    #VGG block 2\n",
        "    tf.keras.layers.Conv2D(64, (3, 3), activation='relu', padding='same', \n",
        "                           kernel_regularizer=tf.keras.regularizers.l2(reg_lambda)),\n",
        "    tf.keras.layers.Conv2D(64, (3, 3), activation='relu', padding='same', \n",
        "                           kernel_regularizer=tf.keras.regularizers.l2(reg_lambda)),\n",
        "    tf.keras.layers.MaxPooling2D((2, 2)),\n",
        "    \n",
        "    #VGG block 3\n",
        "    tf.keras.layers.Conv2D(128, (3, 3), activation='relu', padding='same', \n",
        "                           kernel_regularizer=tf.keras.regularizers.l2(reg_lambda)),\n",
        "    tf.keras.layers.Conv2D(128, (3, 3), activation='relu', padding='same', \n",
        "                           kernel_regularizer=tf.keras.regularizers.l2(reg_lambda)),\n",
        "    tf.keras.layers.MaxPooling2D((2, 2)),\n",
        "    \n",
        "    \n",
        "    tf.keras.layers.Flatten(),\n",
        "    tf.keras.layers.Dense(128, activation='relu', kernel_regularizer=tf.keras.regularizers.l2(reg_lambda)),\n",
        "    tf.keras.layers.Dropout(0.2),\n",
        "    tf.keras.layers.Dense(OUTPUT_CLASSES),\n",
        "])"
      ],
      "id": "T1SWFHudbP-7"
    },
    {
      "cell_type": "code",
      "execution_count": null,
      "metadata": {
        "id": "hF6UEfOcfYEV"
      },
      "outputs": [],
      "source": [
        "model_VGG_2.compile(optimizer='adam',\n",
        "              loss=tf.keras.losses.BinaryCrossentropy(from_logits=True),\n",
        "              metrics=['binary_accuracy'])"
      ],
      "id": "hF6UEfOcfYEV"
    },
    {
      "cell_type": "code",
      "execution_count": null,
      "metadata": {
        "id": "c9oV7PLfgRl6",
        "colab": {
          "base_uri": "https://localhost:8080/",
          "height": 445
        },
        "outputId": "4093014b-6d56-4aae-9269-8725fe555578"
      },
      "outputs": [
        {
          "output_type": "stream",
          "name": "stdout",
          "text": [
            "Epoch 1/50\n"
          ]
        },
        {
          "output_type": "stream",
          "name": "stderr",
          "text": [
            "<ipython-input-20-695ed4e5378e>:1: UserWarning: `Model.fit_generator` is deprecated and will be removed in a future version. Please use `Model.fit`, which supports generators.\n",
            "  history3 = model_VGG_2.fit_generator(train_generator, validation_data = validation_generator, epochs=50, verbose=1)\n"
          ]
        },
        {
          "output_type": "stream",
          "name": "stdout",
          "text": [
            "381/381 [==============================] - 97s 250ms/step - loss: 0.5757 - binary_accuracy: 0.7380 - val_loss: 0.4121 - val_binary_accuracy: 0.8226\n",
            "Epoch 2/50\n",
            " 25/381 [>.............................] - ETA: 1:08 - loss: 0.4456 - binary_accuracy: 0.8073"
          ]
        },
        {
          "output_type": "error",
          "ename": "KeyboardInterrupt",
          "evalue": "ignored",
          "traceback": [
            "\u001b[0;31m---------------------------------------------------------------------------\u001b[0m",
            "\u001b[0;31mKeyboardInterrupt\u001b[0m                         Traceback (most recent call last)",
            "\u001b[0;32m<ipython-input-20-695ed4e5378e>\u001b[0m in \u001b[0;36m<cell line: 1>\u001b[0;34m()\u001b[0m\n\u001b[0;32m----> 1\u001b[0;31m \u001b[0mhistory3\u001b[0m \u001b[0;34m=\u001b[0m \u001b[0mmodel_VGG_2\u001b[0m\u001b[0;34m.\u001b[0m\u001b[0mfit_generator\u001b[0m\u001b[0;34m(\u001b[0m\u001b[0mtrain_generator\u001b[0m\u001b[0;34m,\u001b[0m \u001b[0mvalidation_data\u001b[0m \u001b[0;34m=\u001b[0m \u001b[0mvalidation_generator\u001b[0m\u001b[0;34m,\u001b[0m \u001b[0mepochs\u001b[0m\u001b[0;34m=\u001b[0m\u001b[0;36m50\u001b[0m\u001b[0;34m,\u001b[0m \u001b[0mverbose\u001b[0m\u001b[0;34m=\u001b[0m\u001b[0;36m1\u001b[0m\u001b[0;34m)\u001b[0m\u001b[0;34m\u001b[0m\u001b[0;34m\u001b[0m\u001b[0m\n\u001b[0m",
            "\u001b[0;32m/usr/local/lib/python3.10/dist-packages/keras/engine/training.py\u001b[0m in \u001b[0;36mfit_generator\u001b[0;34m(self, generator, steps_per_epoch, epochs, verbose, callbacks, validation_data, validation_steps, validation_freq, class_weight, max_queue_size, workers, use_multiprocessing, shuffle, initial_epoch)\u001b[0m\n\u001b[1;32m   2634\u001b[0m             \u001b[0mstacklevel\u001b[0m\u001b[0;34m=\u001b[0m\u001b[0;36m2\u001b[0m\u001b[0;34m,\u001b[0m\u001b[0;34m\u001b[0m\u001b[0;34m\u001b[0m\u001b[0m\n\u001b[1;32m   2635\u001b[0m         )\n\u001b[0;32m-> 2636\u001b[0;31m         return self.fit(\n\u001b[0m\u001b[1;32m   2637\u001b[0m             \u001b[0mgenerator\u001b[0m\u001b[0;34m,\u001b[0m\u001b[0;34m\u001b[0m\u001b[0;34m\u001b[0m\u001b[0m\n\u001b[1;32m   2638\u001b[0m             \u001b[0msteps_per_epoch\u001b[0m\u001b[0;34m=\u001b[0m\u001b[0msteps_per_epoch\u001b[0m\u001b[0;34m,\u001b[0m\u001b[0;34m\u001b[0m\u001b[0;34m\u001b[0m\u001b[0m\n",
            "\u001b[0;32m/usr/local/lib/python3.10/dist-packages/keras/utils/traceback_utils.py\u001b[0m in \u001b[0;36merror_handler\u001b[0;34m(*args, **kwargs)\u001b[0m\n\u001b[1;32m     63\u001b[0m         \u001b[0mfiltered_tb\u001b[0m \u001b[0;34m=\u001b[0m \u001b[0;32mNone\u001b[0m\u001b[0;34m\u001b[0m\u001b[0;34m\u001b[0m\u001b[0m\n\u001b[1;32m     64\u001b[0m         \u001b[0;32mtry\u001b[0m\u001b[0;34m:\u001b[0m\u001b[0;34m\u001b[0m\u001b[0;34m\u001b[0m\u001b[0m\n\u001b[0;32m---> 65\u001b[0;31m             \u001b[0;32mreturn\u001b[0m \u001b[0mfn\u001b[0m\u001b[0;34m(\u001b[0m\u001b[0;34m*\u001b[0m\u001b[0margs\u001b[0m\u001b[0;34m,\u001b[0m \u001b[0;34m**\u001b[0m\u001b[0mkwargs\u001b[0m\u001b[0;34m)\u001b[0m\u001b[0;34m\u001b[0m\u001b[0;34m\u001b[0m\u001b[0m\n\u001b[0m\u001b[1;32m     66\u001b[0m         \u001b[0;32mexcept\u001b[0m \u001b[0mException\u001b[0m \u001b[0;32mas\u001b[0m \u001b[0me\u001b[0m\u001b[0;34m:\u001b[0m\u001b[0;34m\u001b[0m\u001b[0;34m\u001b[0m\u001b[0m\n\u001b[1;32m     67\u001b[0m             \u001b[0mfiltered_tb\u001b[0m \u001b[0;34m=\u001b[0m \u001b[0m_process_traceback_frames\u001b[0m\u001b[0;34m(\u001b[0m\u001b[0me\u001b[0m\u001b[0;34m.\u001b[0m\u001b[0m__traceback__\u001b[0m\u001b[0;34m)\u001b[0m\u001b[0;34m\u001b[0m\u001b[0;34m\u001b[0m\u001b[0m\n",
            "\u001b[0;32m/usr/local/lib/python3.10/dist-packages/keras/engine/training.py\u001b[0m in \u001b[0;36mfit\u001b[0;34m(self, x, y, batch_size, epochs, verbose, callbacks, validation_split, validation_data, shuffle, class_weight, sample_weight, initial_epoch, steps_per_epoch, validation_steps, validation_batch_size, validation_freq, max_queue_size, workers, use_multiprocessing)\u001b[0m\n\u001b[1;32m   1683\u001b[0m                         ):\n\u001b[1;32m   1684\u001b[0m                             \u001b[0mcallbacks\u001b[0m\u001b[0;34m.\u001b[0m\u001b[0mon_train_batch_begin\u001b[0m\u001b[0;34m(\u001b[0m\u001b[0mstep\u001b[0m\u001b[0;34m)\u001b[0m\u001b[0;34m\u001b[0m\u001b[0;34m\u001b[0m\u001b[0m\n\u001b[0;32m-> 1685\u001b[0;31m                             \u001b[0mtmp_logs\u001b[0m \u001b[0;34m=\u001b[0m \u001b[0mself\u001b[0m\u001b[0;34m.\u001b[0m\u001b[0mtrain_function\u001b[0m\u001b[0;34m(\u001b[0m\u001b[0miterator\u001b[0m\u001b[0;34m)\u001b[0m\u001b[0;34m\u001b[0m\u001b[0;34m\u001b[0m\u001b[0m\n\u001b[0m\u001b[1;32m   1686\u001b[0m                             \u001b[0;32mif\u001b[0m \u001b[0mdata_handler\u001b[0m\u001b[0;34m.\u001b[0m\u001b[0mshould_sync\u001b[0m\u001b[0;34m:\u001b[0m\u001b[0;34m\u001b[0m\u001b[0;34m\u001b[0m\u001b[0m\n\u001b[1;32m   1687\u001b[0m                                 \u001b[0mcontext\u001b[0m\u001b[0;34m.\u001b[0m\u001b[0masync_wait\u001b[0m\u001b[0;34m(\u001b[0m\u001b[0;34m)\u001b[0m\u001b[0;34m\u001b[0m\u001b[0;34m\u001b[0m\u001b[0m\n",
            "\u001b[0;32m/usr/local/lib/python3.10/dist-packages/tensorflow/python/util/traceback_utils.py\u001b[0m in \u001b[0;36merror_handler\u001b[0;34m(*args, **kwargs)\u001b[0m\n\u001b[1;32m    148\u001b[0m     \u001b[0mfiltered_tb\u001b[0m \u001b[0;34m=\u001b[0m \u001b[0;32mNone\u001b[0m\u001b[0;34m\u001b[0m\u001b[0;34m\u001b[0m\u001b[0m\n\u001b[1;32m    149\u001b[0m     \u001b[0;32mtry\u001b[0m\u001b[0;34m:\u001b[0m\u001b[0;34m\u001b[0m\u001b[0;34m\u001b[0m\u001b[0m\n\u001b[0;32m--> 150\u001b[0;31m       \u001b[0;32mreturn\u001b[0m \u001b[0mfn\u001b[0m\u001b[0;34m(\u001b[0m\u001b[0;34m*\u001b[0m\u001b[0margs\u001b[0m\u001b[0;34m,\u001b[0m \u001b[0;34m**\u001b[0m\u001b[0mkwargs\u001b[0m\u001b[0;34m)\u001b[0m\u001b[0;34m\u001b[0m\u001b[0;34m\u001b[0m\u001b[0m\n\u001b[0m\u001b[1;32m    151\u001b[0m     \u001b[0;32mexcept\u001b[0m \u001b[0mException\u001b[0m \u001b[0;32mas\u001b[0m \u001b[0me\u001b[0m\u001b[0;34m:\u001b[0m\u001b[0;34m\u001b[0m\u001b[0;34m\u001b[0m\u001b[0m\n\u001b[1;32m    152\u001b[0m       \u001b[0mfiltered_tb\u001b[0m \u001b[0;34m=\u001b[0m \u001b[0m_process_traceback_frames\u001b[0m\u001b[0;34m(\u001b[0m\u001b[0me\u001b[0m\u001b[0;34m.\u001b[0m\u001b[0m__traceback__\u001b[0m\u001b[0;34m)\u001b[0m\u001b[0;34m\u001b[0m\u001b[0;34m\u001b[0m\u001b[0m\n",
            "\u001b[0;32m/usr/local/lib/python3.10/dist-packages/tensorflow/python/eager/polymorphic_function/polymorphic_function.py\u001b[0m in \u001b[0;36m__call__\u001b[0;34m(self, *args, **kwds)\u001b[0m\n\u001b[1;32m    892\u001b[0m \u001b[0;34m\u001b[0m\u001b[0m\n\u001b[1;32m    893\u001b[0m       \u001b[0;32mwith\u001b[0m \u001b[0mOptionalXlaContext\u001b[0m\u001b[0;34m(\u001b[0m\u001b[0mself\u001b[0m\u001b[0;34m.\u001b[0m\u001b[0m_jit_compile\u001b[0m\u001b[0;34m)\u001b[0m\u001b[0;34m:\u001b[0m\u001b[0;34m\u001b[0m\u001b[0;34m\u001b[0m\u001b[0m\n\u001b[0;32m--> 894\u001b[0;31m         \u001b[0mresult\u001b[0m \u001b[0;34m=\u001b[0m \u001b[0mself\u001b[0m\u001b[0;34m.\u001b[0m\u001b[0m_call\u001b[0m\u001b[0;34m(\u001b[0m\u001b[0;34m*\u001b[0m\u001b[0margs\u001b[0m\u001b[0;34m,\u001b[0m \u001b[0;34m**\u001b[0m\u001b[0mkwds\u001b[0m\u001b[0;34m)\u001b[0m\u001b[0;34m\u001b[0m\u001b[0;34m\u001b[0m\u001b[0m\n\u001b[0m\u001b[1;32m    895\u001b[0m \u001b[0;34m\u001b[0m\u001b[0m\n\u001b[1;32m    896\u001b[0m       \u001b[0mnew_tracing_count\u001b[0m \u001b[0;34m=\u001b[0m \u001b[0mself\u001b[0m\u001b[0;34m.\u001b[0m\u001b[0mexperimental_get_tracing_count\u001b[0m\u001b[0;34m(\u001b[0m\u001b[0;34m)\u001b[0m\u001b[0;34m\u001b[0m\u001b[0;34m\u001b[0m\u001b[0m\n",
            "\u001b[0;32m/usr/local/lib/python3.10/dist-packages/tensorflow/python/eager/polymorphic_function/polymorphic_function.py\u001b[0m in \u001b[0;36m_call\u001b[0;34m(self, *args, **kwds)\u001b[0m\n\u001b[1;32m    924\u001b[0m       \u001b[0;31m# In this case we have created variables on the first call, so we run the\u001b[0m\u001b[0;34m\u001b[0m\u001b[0;34m\u001b[0m\u001b[0m\n\u001b[1;32m    925\u001b[0m       \u001b[0;31m# defunned version which is guaranteed to never create variables.\u001b[0m\u001b[0;34m\u001b[0m\u001b[0;34m\u001b[0m\u001b[0m\n\u001b[0;32m--> 926\u001b[0;31m       \u001b[0;32mreturn\u001b[0m \u001b[0mself\u001b[0m\u001b[0;34m.\u001b[0m\u001b[0m_no_variable_creation_fn\u001b[0m\u001b[0;34m(\u001b[0m\u001b[0;34m*\u001b[0m\u001b[0margs\u001b[0m\u001b[0;34m,\u001b[0m \u001b[0;34m**\u001b[0m\u001b[0mkwds\u001b[0m\u001b[0;34m)\u001b[0m  \u001b[0;31m# pylint: disable=not-callable\u001b[0m\u001b[0;34m\u001b[0m\u001b[0;34m\u001b[0m\u001b[0m\n\u001b[0m\u001b[1;32m    927\u001b[0m     \u001b[0;32melif\u001b[0m \u001b[0mself\u001b[0m\u001b[0;34m.\u001b[0m\u001b[0m_variable_creation_fn\u001b[0m \u001b[0;32mis\u001b[0m \u001b[0;32mnot\u001b[0m \u001b[0;32mNone\u001b[0m\u001b[0;34m:\u001b[0m\u001b[0;34m\u001b[0m\u001b[0;34m\u001b[0m\u001b[0m\n\u001b[1;32m    928\u001b[0m       \u001b[0;31m# Release the lock early so that multiple threads can perform the call\u001b[0m\u001b[0;34m\u001b[0m\u001b[0;34m\u001b[0m\u001b[0m\n",
            "\u001b[0;32m/usr/local/lib/python3.10/dist-packages/tensorflow/python/eager/polymorphic_function/tracing_compiler.py\u001b[0m in \u001b[0;36m__call__\u001b[0;34m(self, *args, **kwargs)\u001b[0m\n\u001b[1;32m    141\u001b[0m       (concrete_function,\n\u001b[1;32m    142\u001b[0m        filtered_flat_args) = self._maybe_define_function(args, kwargs)\n\u001b[0;32m--> 143\u001b[0;31m     return concrete_function._call_flat(\n\u001b[0m\u001b[1;32m    144\u001b[0m         filtered_flat_args, captured_inputs=concrete_function.captured_inputs)  # pylint: disable=protected-access\n\u001b[1;32m    145\u001b[0m \u001b[0;34m\u001b[0m\u001b[0m\n",
            "\u001b[0;32m/usr/local/lib/python3.10/dist-packages/tensorflow/python/eager/polymorphic_function/monomorphic_function.py\u001b[0m in \u001b[0;36m_call_flat\u001b[0;34m(self, args, captured_inputs, cancellation_manager)\u001b[0m\n\u001b[1;32m   1755\u001b[0m         and executing_eagerly):\n\u001b[1;32m   1756\u001b[0m       \u001b[0;31m# No tape is watching; skip to running the function.\u001b[0m\u001b[0;34m\u001b[0m\u001b[0;34m\u001b[0m\u001b[0m\n\u001b[0;32m-> 1757\u001b[0;31m       return self._build_call_outputs(self._inference_function.call(\n\u001b[0m\u001b[1;32m   1758\u001b[0m           ctx, args, cancellation_manager=cancellation_manager))\n\u001b[1;32m   1759\u001b[0m     forward_backward = self._select_forward_and_backward_functions(\n",
            "\u001b[0;32m/usr/local/lib/python3.10/dist-packages/tensorflow/python/eager/polymorphic_function/monomorphic_function.py\u001b[0m in \u001b[0;36mcall\u001b[0;34m(self, ctx, args, cancellation_manager)\u001b[0m\n\u001b[1;32m    379\u001b[0m       \u001b[0;32mwith\u001b[0m \u001b[0m_InterpolateFunctionError\u001b[0m\u001b[0;34m(\u001b[0m\u001b[0mself\u001b[0m\u001b[0;34m)\u001b[0m\u001b[0;34m:\u001b[0m\u001b[0;34m\u001b[0m\u001b[0;34m\u001b[0m\u001b[0m\n\u001b[1;32m    380\u001b[0m         \u001b[0;32mif\u001b[0m \u001b[0mcancellation_manager\u001b[0m \u001b[0;32mis\u001b[0m \u001b[0;32mNone\u001b[0m\u001b[0;34m:\u001b[0m\u001b[0;34m\u001b[0m\u001b[0;34m\u001b[0m\u001b[0m\n\u001b[0;32m--> 381\u001b[0;31m           outputs = execute.execute(\n\u001b[0m\u001b[1;32m    382\u001b[0m               \u001b[0mstr\u001b[0m\u001b[0;34m(\u001b[0m\u001b[0mself\u001b[0m\u001b[0;34m.\u001b[0m\u001b[0msignature\u001b[0m\u001b[0;34m.\u001b[0m\u001b[0mname\u001b[0m\u001b[0;34m)\u001b[0m\u001b[0;34m,\u001b[0m\u001b[0;34m\u001b[0m\u001b[0;34m\u001b[0m\u001b[0m\n\u001b[1;32m    383\u001b[0m               \u001b[0mnum_outputs\u001b[0m\u001b[0;34m=\u001b[0m\u001b[0mself\u001b[0m\u001b[0;34m.\u001b[0m\u001b[0m_num_outputs\u001b[0m\u001b[0;34m,\u001b[0m\u001b[0;34m\u001b[0m\u001b[0;34m\u001b[0m\u001b[0m\n",
            "\u001b[0;32m/usr/local/lib/python3.10/dist-packages/tensorflow/python/eager/execute.py\u001b[0m in \u001b[0;36mquick_execute\u001b[0;34m(op_name, num_outputs, inputs, attrs, ctx, name)\u001b[0m\n\u001b[1;32m     50\u001b[0m   \u001b[0;32mtry\u001b[0m\u001b[0;34m:\u001b[0m\u001b[0;34m\u001b[0m\u001b[0;34m\u001b[0m\u001b[0m\n\u001b[1;32m     51\u001b[0m     \u001b[0mctx\u001b[0m\u001b[0;34m.\u001b[0m\u001b[0mensure_initialized\u001b[0m\u001b[0;34m(\u001b[0m\u001b[0;34m)\u001b[0m\u001b[0;34m\u001b[0m\u001b[0;34m\u001b[0m\u001b[0m\n\u001b[0;32m---> 52\u001b[0;31m     tensors = pywrap_tfe.TFE_Py_Execute(ctx._handle, device_name, op_name,\n\u001b[0m\u001b[1;32m     53\u001b[0m                                         inputs, attrs, num_outputs)\n\u001b[1;32m     54\u001b[0m   \u001b[0;32mexcept\u001b[0m \u001b[0mcore\u001b[0m\u001b[0;34m.\u001b[0m\u001b[0m_NotOkStatusException\u001b[0m \u001b[0;32mas\u001b[0m \u001b[0me\u001b[0m\u001b[0;34m:\u001b[0m\u001b[0;34m\u001b[0m\u001b[0;34m\u001b[0m\u001b[0m\n",
            "\u001b[0;31mKeyboardInterrupt\u001b[0m: "
          ]
        }
      ],
      "source": [
        "history3 = model_VGG_2.fit_generator(train_generator, validation_data = validation_generator, epochs=30, verbose=1)"
      ],
      "id": "c9oV7PLfgRl6"
    },
    {
      "cell_type": "code",
      "execution_count": null,
      "metadata": {
        "id": "NVEKUshJot6a"
      },
      "outputs": [],
      "source": [
        "plot_learning_curve(history3.history['loss'], history3.history['val_loss'], \n",
        "                    history3.history['binary_accuracy'], history3.history['val_binary_accuracy'], \n",
        "                    metric_name='Accuracy')"
      ],
      "id": "NVEKUshJot6a"
    },
    {
      "cell_type": "markdown",
      "metadata": {
        "id": "jPnAj196jmeQ"
      },
      "source": [
        "# Model Two - Classify Cell Type"
      ],
      "id": "jPnAj196jmeQ"
    },
    {
      "cell_type": "markdown",
      "metadata": {
        "id": "KmGwuZLbF5VX"
      },
      "source": [
        "## Load the Data"
      ],
      "id": "KmGwuZLbF5VX"
    },
    {
      "cell_type": "code",
      "execution_count": null,
      "metadata": {
        "colab": {
          "base_uri": "https://localhost:8080/"
        },
        "id": "OYOeScIpWwdp",
        "outputId": "eb94ec53-eee8-4e53-c8ae-db0be9f1a040"
      },
      "outputs": [
        {
          "output_type": "stream",
          "name": "stdout",
          "text": [
            "Train data : 5937, Val Data: 1979, Test Data: 1980\n"
          ]
        }
      ],
      "source": [
        "from sklearn.model_selection import train_test_split\n",
        "train_data, test_data = train_test_split(data, test_size=0.2, random_state=42)\n",
        "train_data, val_data = train_test_split(train_data, test_size=0.25, random_state=42)\n",
        "\n",
        "print(\"Train data : {}, Val Data: {}, Test Data: {}\".format(train_data.shape[0], val_data.shape[0], test_data.shape[0]))"
      ],
      "id": "OYOeScIpWwdp"
    },
    {
      "cell_type": "markdown",
      "metadata": {
        "id": "xc-SSv8zUJcT"
      },
      "source": [
        "## VGG Model for cellTye"
      ],
      "id": "xc-SSv8zUJcT"
    },
    {
      "cell_type": "code",
      "execution_count": null,
      "metadata": {
        "colab": {
          "base_uri": "https://localhost:8080/"
        },
        "id": "L4kuWA66YrkI",
        "outputId": "a4c1c88d-f79d-40dc-90b5-2b6d6373ea3b"
      },
      "outputs": [
        {
          "output_type": "stream",
          "name": "stdout",
          "text": [
            "Found 5937 validated image filenames belonging to 4 classes.\n",
            "Found 1979 validated image filenames belonging to 4 classes.\n"
          ]
        }
      ],
      "source": [
        "import tensorflow as tf\n",
        "from tensorflow.keras.preprocessing.image import ImageDataGenerator\n",
        "\n",
        "train_data['cellType'] = train_data['cellType'].astype('str')\n",
        "val_data['cellType'] = val_data['cellType'].astype('str')\n",
        "\n",
        "# Scale the Image Pixel Values from 0-1\n",
        "# Both the Training and Testing Set is Scaled in the Same Way\n",
        "train_datagen = ImageDataGenerator(rescale=1./255, data_format='channels_last')\n",
        "val_datagen = ImageDataGenerator(rescale=1./255, data_format='channels_last')\n",
        "\n",
        "batch_size = 32\n",
        "\n",
        "train_generator = train_datagen.flow_from_dataframe(\n",
        "        dataframe=train_data,\n",
        "        directory='/content/image_classification_data/patch_images',\n",
        "        x_col=\"ImageName\",\n",
        "        y_col=\"cellType\",\n",
        "        target_size=(27, 27),\n",
        "        batch_size=batch_size,\n",
        "        class_mode='categorical')\n",
        "\n",
        "validation_generator = val_datagen.flow_from_dataframe(\n",
        "        dataframe=val_data,\n",
        "        directory='/content/image_classification_data/patch_images',\n",
        "        x_col=\"ImageName\",\n",
        "        y_col=\"cellType\",\n",
        "        target_size=(27, 27),\n",
        "        batch_size=batch_size,\n",
        "        class_mode='categorical')"
      ],
      "id": "L4kuWA66YrkI"
    },
    {
      "cell_type": "code",
      "execution_count": null,
      "metadata": {
        "id": "mFLCuNSwUt_4"
      },
      "outputs": [],
      "source": [
        "INPUT_DIM = (27,27,3) # 26x26 Pixel Images, 3 Channels (RGB) \n",
        "OUTPUT_CLASSES = 4"
      ],
      "id": "mFLCuNSwUt_4"
    },
    {
      "cell_type": "code",
      "execution_count": null,
      "metadata": {
        "id": "P5jXOfDNKZPh"
      },
      "outputs": [],
      "source": [
        "from tensorflow.keras import regularizers\n",
        "\n",
        "reg_lambda = 0.001\n",
        "\n",
        "model_VGG_3 = tf.keras.Sequential([\n",
        "    #VGG block 1\n",
        "    tf.keras.layers.Conv2D(64, (3, 3), activation='relu', padding='same', input_shape=INPUT_DIM, \n",
        "                           kernel_regularizer=regularizers.l2(reg_lambda)),\n",
        "    tf.keras.layers.Conv2D(64, (3, 3), activation='relu', padding='same', \n",
        "                           kernel_regularizer=regularizers.l2(reg_lambda)),\n",
        "    tf.keras.layers.MaxPooling2D((2, 2)),\n",
        "    \n",
        "    #VGG block 2\n",
        "    tf.keras.layers.Conv2D(64, (3, 3), activation='relu', padding='same', \n",
        "                           kernel_regularizer=regularizers.l2(reg_lambda)),\n",
        "    tf.keras.layers.Conv2D(64, (3, 3), activation='relu', padding='same', \n",
        "                           kernel_regularizer=regularizers.l2(reg_lambda)),\n",
        "    tf.keras.layers.MaxPooling2D((2, 2)),\n",
        "    \n",
        "    #VGG block 3\n",
        "    tf.keras.layers.Conv2D(256, (3, 3), activation='relu', padding='same', \n",
        "                           kernel_regularizer=regularizers.l2(reg_lambda)),\n",
        "    tf.keras.layers.Conv2D(256, (3, 3), activation='relu', padding='same', \n",
        "                           kernel_regularizer=regularizers.l2(reg_lambda)),\n",
        "    tf.keras.layers.MaxPooling2D((2, 2)),\n",
        "    \n",
        "    #VGG block 4 \n",
        "    tf.keras.layers.Conv2D(256, (3, 3), activation='relu', padding='same', \n",
        "                           kernel_regularizer=regularizers.l2(reg_lambda)),\n",
        "    tf.keras.layers.Conv2D(256, (3, 3), activation='relu', padding='same', \n",
        "                           kernel_regularizer=regularizers.l2(reg_lambda)),\n",
        "    tf.keras.layers.MaxPooling2D((2, 2)),\n",
        "\n",
        "\n",
        "    tf.keras.layers.Flatten(),\n",
        "    tf.keras.layers.Dense(256, activation='relu', \n",
        "                          kernel_regularizer=regularizers.l2(reg_lambda)),\n",
        "    tf.keras.layers.Dropout(0.2),\n",
        "    tf.keras.layers.Dense(OUTPUT_CLASSES),\n",
        "])"
      ],
      "id": "P5jXOfDNKZPh"
    },
    {
      "cell_type": "code",
      "execution_count": null,
      "metadata": {
        "id": "NBH5xv0jLNp4"
      },
      "outputs": [],
      "source": [
        "model_VGG_3.compile(optimizer='adam',\n",
        "              loss=tf.keras.losses.CategoricalCrossentropy(from_logits=True),\n",
        "              metrics=['categorical_accuracy'])"
      ],
      "id": "NBH5xv0jLNp4"
    },
    {
      "cell_type": "code",
      "execution_count": null,
      "metadata": {
        "colab": {
          "base_uri": "https://localhost:8080/"
        },
        "id": "vysXid3sLOef",
        "outputId": "ae0caada-bf85-41b0-aaaa-497a24571dc6"
      },
      "outputs": [
        {
          "output_type": "stream",
          "name": "stdout",
          "text": [
            "Epoch 1/50\n"
          ]
        },
        {
          "output_type": "stream",
          "name": "stderr",
          "text": [
            "<ipython-input-37-e14b3466e5c4>:1: UserWarning: `Model.fit_generator` is deprecated and will be removed in a future version. Please use `Model.fit`, which supports generators.\n",
            "  history4 = model_VGG_3.fit_generator(train_generator, validation_data = validation_generator, epochs=50, verbose=1)\n"
          ]
        },
        {
          "output_type": "stream",
          "name": "stdout",
          "text": [
            "186/186 [==============================] - 123s 647ms/step - loss: 1.5366 - categorical_accuracy: 0.4154 - val_loss: 1.3632 - val_categorical_accuracy: 0.4093\n",
            "Epoch 2/50\n",
            "186/186 [==============================] - 119s 641ms/step - loss: 1.3316 - categorical_accuracy: 0.4174 - val_loss: 1.3397 - val_categorical_accuracy: 0.4093\n",
            "Epoch 3/50\n",
            "186/186 [==============================] - 118s 635ms/step - loss: 1.1968 - categorical_accuracy: 0.4772 - val_loss: 1.3616 - val_categorical_accuracy: 0.4598\n",
            "Epoch 4/50\n",
            "186/186 [==============================] - 118s 634ms/step - loss: 1.0790 - categorical_accuracy: 0.5405 - val_loss: 1.1235 - val_categorical_accuracy: 0.5124\n",
            "Epoch 5/50\n",
            "186/186 [==============================] - 118s 634ms/step - loss: 1.0208 - categorical_accuracy: 0.5631 - val_loss: 0.9517 - val_categorical_accuracy: 0.5937\n",
            "Epoch 6/50\n",
            "186/186 [==============================] - 118s 634ms/step - loss: 0.9731 - categorical_accuracy: 0.5922 - val_loss: 0.9262 - val_categorical_accuracy: 0.6104\n",
            "Epoch 7/50\n",
            "186/186 [==============================] - 116s 624ms/step - loss: 0.9413 - categorical_accuracy: 0.6003 - val_loss: 0.9303 - val_categorical_accuracy: 0.6129\n",
            "Epoch 8/50\n",
            "186/186 [==============================] - 121s 649ms/step - loss: 0.9779 - categorical_accuracy: 0.5831 - val_loss: 0.8980 - val_categorical_accuracy: 0.6210\n",
            "Epoch 9/50\n",
            "186/186 [==============================] - 119s 640ms/step - loss: 0.9348 - categorical_accuracy: 0.6074 - val_loss: 0.8897 - val_categorical_accuracy: 0.6190\n",
            "Epoch 10/50\n",
            "186/186 [==============================] - 118s 633ms/step - loss: 0.9422 - categorical_accuracy: 0.5974 - val_loss: 0.8916 - val_categorical_accuracy: 0.6306\n",
            "Epoch 11/50\n",
            "186/186 [==============================] - 118s 636ms/step - loss: 0.9428 - categorical_accuracy: 0.6075 - val_loss: 0.9032 - val_categorical_accuracy: 0.6286\n",
            "Epoch 12/50\n",
            "186/186 [==============================] - 118s 637ms/step - loss: 0.9440 - categorical_accuracy: 0.6045 - val_loss: 0.9642 - val_categorical_accuracy: 0.6033\n",
            "Epoch 13/50\n",
            "186/186 [==============================] - 114s 615ms/step - loss: 0.9139 - categorical_accuracy: 0.6209 - val_loss: 0.9082 - val_categorical_accuracy: 0.6382\n",
            "Epoch 14/50\n",
            "186/186 [==============================] - 119s 638ms/step - loss: 0.9050 - categorical_accuracy: 0.6271 - val_loss: 0.8823 - val_categorical_accuracy: 0.6321\n",
            "Epoch 15/50\n",
            "186/186 [==============================] - 122s 656ms/step - loss: 0.9360 - categorical_accuracy: 0.6096 - val_loss: 1.0082 - val_categorical_accuracy: 0.5862\n",
            "Epoch 16/50\n",
            "186/186 [==============================] - 118s 637ms/step - loss: 0.8812 - categorical_accuracy: 0.6443 - val_loss: 0.8288 - val_categorical_accuracy: 0.6579\n",
            "Epoch 17/50\n",
            "186/186 [==============================] - 118s 635ms/step - loss: 0.8806 - categorical_accuracy: 0.6493 - val_loss: 0.9867 - val_categorical_accuracy: 0.6109\n",
            "Epoch 18/50\n",
            "186/186 [==============================] - 118s 636ms/step - loss: 0.8464 - categorical_accuracy: 0.6734 - val_loss: 0.8115 - val_categorical_accuracy: 0.6958\n",
            "Epoch 19/50\n",
            "186/186 [==============================] - 119s 640ms/step - loss: 0.8486 - categorical_accuracy: 0.6801 - val_loss: 0.8247 - val_categorical_accuracy: 0.6933\n",
            "Epoch 20/50\n",
            "186/186 [==============================] - 121s 649ms/step - loss: 0.8356 - categorical_accuracy: 0.6926 - val_loss: 0.9581 - val_categorical_accuracy: 0.6276\n",
            "Epoch 21/50\n",
            "186/186 [==============================] - 120s 644ms/step - loss: 0.8224 - categorical_accuracy: 0.6965 - val_loss: 0.7870 - val_categorical_accuracy: 0.7100\n",
            "Epoch 22/50\n",
            "186/186 [==============================] - 115s 618ms/step - loss: 0.7977 - categorical_accuracy: 0.7076 - val_loss: 0.7799 - val_categorical_accuracy: 0.7170\n",
            "Epoch 23/50\n",
            "186/186 [==============================] - 118s 635ms/step - loss: 0.7797 - categorical_accuracy: 0.7169 - val_loss: 0.7707 - val_categorical_accuracy: 0.7094\n",
            "Epoch 24/50\n",
            "186/186 [==============================] - 118s 636ms/step - loss: 0.7855 - categorical_accuracy: 0.7148 - val_loss: 0.7870 - val_categorical_accuracy: 0.7206\n",
            "Epoch 25/50\n",
            "186/186 [==============================] - 118s 638ms/step - loss: 0.7741 - categorical_accuracy: 0.7224 - val_loss: 0.8003 - val_categorical_accuracy: 0.7079\n",
            "Epoch 26/50\n",
            "186/186 [==============================] - 118s 637ms/step - loss: 0.7754 - categorical_accuracy: 0.7216 - val_loss: 0.7276 - val_categorical_accuracy: 0.7408\n",
            "Epoch 27/50\n",
            "186/186 [==============================] - 119s 638ms/step - loss: 0.7683 - categorical_accuracy: 0.7219 - val_loss: 0.8240 - val_categorical_accuracy: 0.6918\n",
            "Epoch 28/50\n",
            "186/186 [==============================] - 119s 641ms/step - loss: 0.7516 - categorical_accuracy: 0.7249 - val_loss: 0.7229 - val_categorical_accuracy: 0.7418\n",
            "Epoch 29/50\n",
            "186/186 [==============================] - 119s 639ms/step - loss: 0.7490 - categorical_accuracy: 0.7300 - val_loss: 0.7600 - val_categorical_accuracy: 0.7236\n",
            "Epoch 30/50\n",
            "186/186 [==============================] - 118s 636ms/step - loss: 0.7581 - categorical_accuracy: 0.7324 - val_loss: 0.7126 - val_categorical_accuracy: 0.7463\n",
            "Epoch 31/50\n",
            "186/186 [==============================] - 118s 636ms/step - loss: 0.7431 - categorical_accuracy: 0.7361 - val_loss: 0.7231 - val_categorical_accuracy: 0.7423\n",
            "Epoch 32/50\n",
            "186/186 [==============================] - 118s 636ms/step - loss: 0.7423 - categorical_accuracy: 0.7371 - val_loss: 0.7506 - val_categorical_accuracy: 0.7206\n",
            "Epoch 33/50\n",
            "186/186 [==============================] - 118s 636ms/step - loss: 0.7267 - categorical_accuracy: 0.7416 - val_loss: 0.7146 - val_categorical_accuracy: 0.7549\n",
            "Epoch 34/50\n",
            "186/186 [==============================] - 116s 626ms/step - loss: 0.7293 - categorical_accuracy: 0.7389 - val_loss: 0.7110 - val_categorical_accuracy: 0.7524\n",
            "Epoch 35/50\n",
            "186/186 [==============================] - 120s 646ms/step - loss: 0.7296 - categorical_accuracy: 0.7415 - val_loss: 0.7243 - val_categorical_accuracy: 0.7357\n",
            "Epoch 36/50\n",
            "186/186 [==============================] - 118s 635ms/step - loss: 0.7257 - categorical_accuracy: 0.7396 - val_loss: 0.7078 - val_categorical_accuracy: 0.7504\n",
            "Epoch 37/50\n",
            "186/186 [==============================] - 114s 613ms/step - loss: 0.7296 - categorical_accuracy: 0.7413 - val_loss: 0.7319 - val_categorical_accuracy: 0.7362\n",
            "Epoch 38/50\n",
            "186/186 [==============================] - 122s 658ms/step - loss: 0.7194 - categorical_accuracy: 0.7409 - val_loss: 0.8966 - val_categorical_accuracy: 0.6716\n",
            "Epoch 39/50\n",
            "186/186 [==============================] - 118s 635ms/step - loss: 0.7086 - categorical_accuracy: 0.7484 - val_loss: 0.7024 - val_categorical_accuracy: 0.7388\n",
            "Epoch 40/50\n",
            "186/186 [==============================] - 118s 637ms/step - loss: 0.7056 - categorical_accuracy: 0.7490 - val_loss: 0.7199 - val_categorical_accuracy: 0.7463\n",
            "Epoch 41/50\n",
            "186/186 [==============================] - 118s 635ms/step - loss: 0.7042 - categorical_accuracy: 0.7499 - val_loss: 0.7644 - val_categorical_accuracy: 0.7201\n",
            "Epoch 42/50\n",
            "186/186 [==============================] - 122s 654ms/step - loss: 0.6959 - categorical_accuracy: 0.7514 - val_loss: 0.6900 - val_categorical_accuracy: 0.7610\n",
            "Epoch 43/50\n",
            "186/186 [==============================] - 117s 627ms/step - loss: 0.7025 - categorical_accuracy: 0.7502 - val_loss: 0.6882 - val_categorical_accuracy: 0.7524\n",
            "Epoch 44/50\n",
            "186/186 [==============================] - 118s 636ms/step - loss: 0.6949 - categorical_accuracy: 0.7569 - val_loss: 0.7087 - val_categorical_accuracy: 0.7559\n",
            "Epoch 45/50\n",
            "186/186 [==============================] - 118s 636ms/step - loss: 0.7000 - categorical_accuracy: 0.7511 - val_loss: 0.6905 - val_categorical_accuracy: 0.7630\n",
            "Epoch 46/50\n",
            "186/186 [==============================] - 120s 646ms/step - loss: 0.7037 - categorical_accuracy: 0.7509 - val_loss: 0.7417 - val_categorical_accuracy: 0.7307\n",
            "Epoch 47/50\n",
            "186/186 [==============================] - 121s 647ms/step - loss: 0.6882 - categorical_accuracy: 0.7543 - val_loss: 0.7124 - val_categorical_accuracy: 0.7494\n",
            "Epoch 48/50\n",
            "186/186 [==============================] - 122s 653ms/step - loss: 0.6779 - categorical_accuracy: 0.7615 - val_loss: 0.7081 - val_categorical_accuracy: 0.7585\n",
            "Epoch 49/50\n",
            "186/186 [==============================] - 118s 635ms/step - loss: 0.6824 - categorical_accuracy: 0.7600 - val_loss: 0.6875 - val_categorical_accuracy: 0.7569\n",
            "Epoch 50/50\n",
            "186/186 [==============================] - 118s 635ms/step - loss: 0.7015 - categorical_accuracy: 0.7517 - val_loss: 0.6973 - val_categorical_accuracy: 0.7625\n"
          ]
        }
      ],
      "source": [
        "history4 = model_VGG_3.fit_generator(train_generator, validation_data = validation_generator, epochs=50, verbose=1)"
      ],
      "id": "vysXid3sLOef"
    },
    {
      "cell_type": "code",
      "execution_count": null,
      "metadata": {
        "colab": {
          "base_uri": "https://localhost:8080/",
          "height": 465
        },
        "id": "4M8xQYZZOHUe",
        "outputId": "6073348c-2f8f-4de0-ff99-52c913d5e643"
      },
      "outputs": [
        {
          "output_type": "display_data",
          "data": {
            "text/plain": [
              "<Figure size 1000x500 with 2 Axes>"
            ],
            "image/png": "[encoded data removed]"
          },
          "metadata": {}
        }
      ],
      "source": [
        "plot_learning_curve(history4.history['loss'], history4.history['val_loss'], \n",
        "                    history4.history['categorical_accuracy'], history4.history['val_categorical_accuracy'], \n",
        "                    metric_name='Accuracy')"
      ],
      "id": "4M8xQYZZOHUe"
    },
    {
      "cell_type": "markdown",
      "metadata": {
        "id": "lcn-00aWTE7c"
      },
      "source": [
        "# Transfer learning - Using Extra Data File to assist classifynig cell-tye"
      ],
      "id": "lcn-00aWTE7c"
    },
    {
      "cell_type": "code",
      "source": [
        "model_VGG_3.save_weights('model_weights.h5')"
      ],
      "metadata": {
        "id": "GvP6qDJkWQkg"
      },
      "id": "GvP6qDJkWQkg",
      "execution_count": null,
      "outputs": []
    },
    {
      "cell_type": "code",
      "execution_count": null,
      "metadata": {
        "id": "7ZzNKPq-zZ8W",
        "colab": {
          "base_uri": "https://localhost:8080/"
        },
        "outputId": "7375b647-edb6-448f-fb71-3a7305a64830"
      },
      "outputs": [
        {
          "output_type": "stream",
          "name": "stdout",
          "text": [
            "Found 10384 validated image filenames.\n"
          ]
        }
      ],
      "source": [
        "import tensorflow as tf\n",
        "from tensorflow.keras.preprocessing.image import ImageDataGenerator\n",
        "\n",
        "# Scale the Image Pixel Values from 0-1\n",
        "# Both the Training and Testing Set is Scaled in the Same Way\n",
        "extra_datagen = ImageDataGenerator(rescale=1./255, data_format='channels_last')\n",
        "\n",
        "batch_size = 32\n",
        "\n",
        "extra_generator = extra_datagen.flow_from_dataframe(\n",
        "    extra_data,\n",
        "    directory='/content/image_classification_data/patch_images',\n",
        "    x_col='ImageName',\n",
        "    target_size=(27, 27),\n",
        "    class_mode=None,\n",
        "    batch_size=32,\n",
        "    shuffle=False)"
      ],
      "id": "7ZzNKPq-zZ8W"
    },
    {
      "cell_type": "code",
      "source": [
        "model_VGG_3.load_weights('model_weights.h5')\n",
        "predictions = model_VGG_3.predict(extra_generator)\n",
        "predicted_classes = np.argmax(predictions, axis=1)\n",
        "\n",
        "extra_data['cellType'] = predicted_classes\n",
        "extra_data.head()"
      ],
      "metadata": {
        "colab": {
          "base_uri": "https://localhost:8080/",
          "height": 224
        },
        "id": "crUzvLkY-1qE",
        "outputId": "9d2b38c6-2922-47eb-c569-eccb0e21acc4"
      },
      "id": "crUzvLkY-1qE",
      "execution_count": null,
      "outputs": [
        {
          "output_type": "stream",
          "name": "stdout",
          "text": [
            "325/325 [==============================] - 43s 132ms/step\n"
          ]
        },
        {
          "output_type": "execute_result",
          "data": {
            "text/plain": [
              "   InstanceID  patientID  ImageName  isCancerous  cellType\n",
              "0       12681         61  12681.png            0         0\n",
              "1       12682         61  12682.png            0         0\n",
              "2       12683         61  12683.png            0         0\n",
              "3       12684         61  12684.png            0         0\n",
              "4       12685         61  12685.png            0         0"
            ],
            "text/html": [
              "\n",
              "  <div id=\"df-eaed6cc9-445c-47d6-afd8-c96ef479a498\">\n",
              "    <div class=\"colab-df-container\">\n",
              "      <div>\n",
              "<style scoped>\n",
              "    .dataframe tbody tr th:only-of-type {\n",
              "        vertical-align: middle;\n",
              "    }\n",
              "\n",
              "    .dataframe tbody tr th {\n",
              "        vertical-align: top;\n",
              "    }\n",
              "\n",
              "    .dataframe thead th {\n",
              "        text-align: right;\n",
              "    }\n",
              "</style>\n",
              "<table border=\"1\" class=\"dataframe\">\n",
              "  <thead>\n",
              "    <tr style=\"text-align: right;\">\n",
              "      <th></th>\n",
              "      <th>InstanceID</th>\n",
              "      <th>patientID</th>\n",
              "      <th>ImageName</th>\n",
              "      <th>isCancerous</th>\n",
              "      <th>cellType</th>\n",
              "    </tr>\n",
              "  </thead>\n",
              "  <tbody>\n",
              "    <tr>\n",
              "      <th>0</th>\n",
              "      <td>12681</td>\n",
              "      <td>61</td>\n",
              "      <td>12681.png</td>\n",
              "      <td>0</td>\n",
              "      <td>0</td>\n",
              "    </tr>\n",
              "    <tr>\n",
              "      <th>1</th>\n",
              "      <td>12682</td>\n",
              "      <td>61</td>\n",
              "      <td>12682.png</td>\n",
              "      <td>0</td>\n",
              "      <td>0</td>\n",
              "    </tr>\n",
              "    <tr>\n",
              "      <th>2</th>\n",
              "      <td>12683</td>\n",
              "      <td>61</td>\n",
              "      <td>12683.png</td>\n",
              "      <td>0</td>\n",
              "      <td>0</td>\n",
              "    </tr>\n",
              "    <tr>\n",
              "      <th>3</th>\n",
              "      <td>12684</td>\n",
              "      <td>61</td>\n",
              "      <td>12684.png</td>\n",
              "      <td>0</td>\n",
              "      <td>0</td>\n",
              "    </tr>\n",
              "    <tr>\n",
              "      <th>4</th>\n",
              "      <td>12685</td>\n",
              "      <td>61</td>\n",
              "      <td>12685.png</td>\n",
              "      <td>0</td>\n",
              "      <td>0</td>\n",
              "    </tr>\n",
              "  </tbody>\n",
              "</table>\n",
              "</div>\n",
              "      <button class=\"colab-df-convert\" onclick=\"convertToInteractive('df-eaed6cc9-445c-47d6-afd8-c96ef479a498')\"\n",
              "              title=\"Convert this dataframe to an interactive table.\"\n",
              "              style=\"display:none;\">\n",
              "        \n",
              "  <svg xmlns=\"http://www.w3.org/2000/svg\" height=\"24px\"viewBox=\"0 0 24 24\"\n",
              "       width=\"24px\">\n",
              "    <path d=\"M0 0h24v24H0V0z\" fill=\"none\"/>\n",
              "    <path d=\"M18.56 5.44l.94 2.06.94-2.06 2.06-.94-2.06-.94-.94-2.06-.94 2.06-2.06.94zm-11 1L8.5 8.5l.94-2.06 2.06-.94-2.06-.94L8.5 2.5l-.94 2.06-2.06.94zm10 10l.94 2.06.94-2.06 2.06-.94-2.06-.94-.94-2.06-.94 2.06-2.06.94z\"/><path d=\"M17.41 7.96l-1.37-1.37c-.4-.4-.92-.59-1.43-.59-.52 0-1.04.2-1.43.59L10.3 9.45l-7.72 7.72c-.78.78-.78 2.05 0 2.83L4 21.41c.39.39.9.59 1.41.59.51 0 1.02-.2 1.41-.59l7.78-7.78 2.81-2.81c.8-.78.8-2.07 0-2.86zM5.41 20L4 18.59l7.72-7.72 1.47 1.35L5.41 20z\"/>\n",
              "  </svg>\n",
              "      </button>\n",
              "      \n",
              "  <style>\n",
              "    .colab-df-container {\n",
              "      display:flex;\n",
              "      flex-wrap:wrap;\n",
              "      gap: 12px;\n",
              "    }\n",
              "\n",
              "    .colab-df-convert {\n",
              "      background-color: #E8F0FE;\n",
              "      border: none;\n",
              "      border-radius: 50%;\n",
              "      cursor: pointer;\n",
              "      display: none;\n",
              "      fill: #1967D2;\n",
              "      height: 32px;\n",
              "      padding: 0 0 0 0;\n",
              "      width: 32px;\n",
              "    }\n",
              "\n",
              "    .colab-df-convert:hover {\n",
              "      background-color: #E2EBFA;\n",
              "      box-shadow: 0px 1px 2px rgba(60, 64, 67, 0.3), 0px 1px 3px 1px rgba(60, 64, 67, 0.15);\n",
              "      fill: #174EA6;\n",
              "    }\n",
              "\n",
              "    [theme=dark] .colab-df-convert {\n",
              "      background-color: #3B4455;\n",
              "      fill: #D2E3FC;\n",
              "    }\n",
              "\n",
              "    [theme=dark] .colab-df-convert:hover {\n",
              "      background-color: #434B5C;\n",
              "      box-shadow: 0px 1px 3px 1px rgba(0, 0, 0, 0.15);\n",
              "      filter: drop-shadow(0px 1px 2px rgba(0, 0, 0, 0.3));\n",
              "      fill: #FFFFFF;\n",
              "    }\n",
              "  </style>\n",
              "\n",
              "      <script>\n",
              "        const buttonEl =\n",
              "          document.querySelector('#df-eaed6cc9-445c-47d6-afd8-c96ef479a498 button.colab-df-convert');\n",
              "        buttonEl.style.display =\n",
              "          google.colab.kernel.accessAllowed ? 'block' : 'none';\n",
              "\n",
              "        async function convertToInteractive(key) {\n",
              "          const element = document.querySelector('#df-eaed6cc9-445c-47d6-afd8-c96ef479a498');\n",
              "          const dataTable =\n",
              "            await google.colab.kernel.invokeFunction('convertToInteractive',\n",
              "                                                     [key], {});\n",
              "          if (!dataTable) return;\n",
              "\n",
              "          const docLinkHtml = 'Like what you see? Visit the ' +\n",
              "            '<a target=\"_blank\" href=https://colab.research.google.com/notebooks/data_table.ipynb>data table notebook</a>'\n",
              "            + ' to learn more about interactive tables.';\n",
              "          element.innerHTML = '';\n",
              "          dataTable['output_type'] = 'display_data';\n",
              "          await google.colab.output.renderOutput(dataTable, element);\n",
              "          const docLink = document.createElement('div');\n",
              "          docLink.innerHTML = docLinkHtml;\n",
              "          element.appendChild(docLink);\n",
              "        }\n",
              "      </script>\n",
              "    </div>\n",
              "  </div>\n",
              "  "
            ]
          },
          "metadata": {},
          "execution_count": 41
        }
      ]
    },
    {
      "cell_type": "code",
      "source": [
        "combined_df = pd.concat([data, extra_data])\n",
        "combined_df.head()"
      ],
      "metadata": {
        "colab": {
          "base_uri": "https://localhost:8080/",
          "height": 206
        },
        "id": "ISKKeiowbFIL",
        "outputId": "cb429126-dc59-47c4-cb1a-fec771134de6"
      },
      "id": "ISKKeiowbFIL",
      "execution_count": null,
      "outputs": [
        {
          "output_type": "execute_result",
          "data": {
            "text/plain": [
              "   InstanceID  patientID  ImageName cellTypeName  cellType  isCancerous  \\\n",
              "0       22405          1  22405.png   fibroblast         0            0   \n",
              "1       22406          1  22406.png   fibroblast         0            0   \n",
              "2       22407          1  22407.png   fibroblast         0            0   \n",
              "3       22408          1  22408.png   fibroblast         0            0   \n",
              "4       22409          1  22409.png   fibroblast         0            0   \n",
              "\n",
              "   expectedCellType results  \n",
              "0               0.0    True  \n",
              "1               0.0    True  \n",
              "2               0.0    True  \n",
              "3               0.0    True  \n",
              "4               0.0    True  "
            ],
            "text/html": [
              "\n",
              "  <div id=\"df-726b57a1-d5d1-4dd8-b27e-80b2c29adcc8\">\n",
              "    <div class=\"colab-df-container\">\n",
              "      <div>\n",
              "<style scoped>\n",
              "    .dataframe tbody tr th:only-of-type {\n",
              "        vertical-align: middle;\n",
              "    }\n",
              "\n",
              "    .dataframe tbody tr th {\n",
              "        vertical-align: top;\n",
              "    }\n",
              "\n",
              "    .dataframe thead th {\n",
              "        text-align: right;\n",
              "    }\n",
              "</style>\n",
              "<table border=\"1\" class=\"dataframe\">\n",
              "  <thead>\n",
              "    <tr style=\"text-align: right;\">\n",
              "      <th></th>\n",
              "      <th>InstanceID</th>\n",
              "      <th>patientID</th>\n",
              "      <th>ImageName</th>\n",
              "      <th>cellTypeName</th>\n",
              "      <th>cellType</th>\n",
              "      <th>isCancerous</th>\n",
              "      <th>expectedCellType</th>\n",
              "      <th>results</th>\n",
              "    </tr>\n",
              "  </thead>\n",
              "  <tbody>\n",
              "    <tr>\n",
              "      <th>0</th>\n",
              "      <td>22405</td>\n",
              "      <td>1</td>\n",
              "      <td>22405.png</td>\n",
              "      <td>fibroblast</td>\n",
              "      <td>0</td>\n",
              "      <td>0</td>\n",
              "      <td>0.0</td>\n",
              "      <td>True</td>\n",
              "    </tr>\n",
              "    <tr>\n",
              "      <th>1</th>\n",
              "      <td>22406</td>\n",
              "      <td>1</td>\n",
              "      <td>22406.png</td>\n",
              "      <td>fibroblast</td>\n",
              "      <td>0</td>\n",
              "      <td>0</td>\n",
              "      <td>0.0</td>\n",
              "      <td>True</td>\n",
              "    </tr>\n",
              "    <tr>\n",
              "      <th>2</th>\n",
              "      <td>22407</td>\n",
              "      <td>1</td>\n",
              "      <td>22407.png</td>\n",
              "      <td>fibroblast</td>\n",
              "      <td>0</td>\n",
              "      <td>0</td>\n",
              "      <td>0.0</td>\n",
              "      <td>True</td>\n",
              "    </tr>\n",
              "    <tr>\n",
              "      <th>3</th>\n",
              "      <td>22408</td>\n",
              "      <td>1</td>\n",
              "      <td>22408.png</td>\n",
              "      <td>fibroblast</td>\n",
              "      <td>0</td>\n",
              "      <td>0</td>\n",
              "      <td>0.0</td>\n",
              "      <td>True</td>\n",
              "    </tr>\n",
              "    <tr>\n",
              "      <th>4</th>\n",
              "      <td>22409</td>\n",
              "      <td>1</td>\n",
              "      <td>22409.png</td>\n",
              "      <td>fibroblast</td>\n",
              "      <td>0</td>\n",
              "      <td>0</td>\n",
              "      <td>0.0</td>\n",
              "      <td>True</td>\n",
              "    </tr>\n",
              "  </tbody>\n",
              "</table>\n",
              "</div>\n",
              "      <button class=\"colab-df-convert\" onclick=\"convertToInteractive('df-726b57a1-d5d1-4dd8-b27e-80b2c29adcc8')\"\n",
              "              title=\"Convert this dataframe to an interactive table.\"\n",
              "              style=\"display:none;\">\n",
              "        \n",
              "  <svg xmlns=\"http://www.w3.org/2000/svg\" height=\"24px\"viewBox=\"0 0 24 24\"\n",
              "       width=\"24px\">\n",
              "    <path d=\"M0 0h24v24H0V0z\" fill=\"none\"/>\n",
              "    <path d=\"M18.56 5.44l.94 2.06.94-2.06 2.06-.94-2.06-.94-.94-2.06-.94 2.06-2.06.94zm-11 1L8.5 8.5l.94-2.06 2.06-.94-2.06-.94L8.5 2.5l-.94 2.06-2.06.94zm10 10l.94 2.06.94-2.06 2.06-.94-2.06-.94-.94-2.06-.94 2.06-2.06.94z\"/><path d=\"M17.41 7.96l-1.37-1.37c-.4-.4-.92-.59-1.43-.59-.52 0-1.04.2-1.43.59L10.3 9.45l-7.72 7.72c-.78.78-.78 2.05 0 2.83L4 21.41c.39.39.9.59 1.41.59.51 0 1.02-.2 1.41-.59l7.78-7.78 2.81-2.81c.8-.78.8-2.07 0-2.86zM5.41 20L4 18.59l7.72-7.72 1.47 1.35L5.41 20z\"/>\n",
              "  </svg>\n",
              "      </button>\n",
              "      \n",
              "  <style>\n",
              "    .colab-df-container {\n",
              "      display:flex;\n",
              "      flex-wrap:wrap;\n",
              "      gap: 12px;\n",
              "    }\n",
              "\n",
              "    .colab-df-convert {\n",
              "      background-color: #E8F0FE;\n",
              "      border: none;\n",
              "      border-radius: 50%;\n",
              "      cursor: pointer;\n",
              "      display: none;\n",
              "      fill: #1967D2;\n",
              "      height: 32px;\n",
              "      padding: 0 0 0 0;\n",
              "      width: 32px;\n",
              "    }\n",
              "\n",
              "    .colab-df-convert:hover {\n",
              "      background-color: #E2EBFA;\n",
              "      box-shadow: 0px 1px 2px rgba(60, 64, 67, 0.3), 0px 1px 3px 1px rgba(60, 64, 67, 0.15);\n",
              "      fill: #174EA6;\n",
              "    }\n",
              "\n",
              "    [theme=dark] .colab-df-convert {\n",
              "      background-color: #3B4455;\n",
              "      fill: #D2E3FC;\n",
              "    }\n",
              "\n",
              "    [theme=dark] .colab-df-convert:hover {\n",
              "      background-color: #434B5C;\n",
              "      box-shadow: 0px 1px 3px 1px rgba(0, 0, 0, 0.15);\n",
              "      filter: drop-shadow(0px 1px 2px rgba(0, 0, 0, 0.3));\n",
              "      fill: #FFFFFF;\n",
              "    }\n",
              "  </style>\n",
              "\n",
              "      <script>\n",
              "        const buttonEl =\n",
              "          document.querySelector('#df-726b57a1-d5d1-4dd8-b27e-80b2c29adcc8 button.colab-df-convert');\n",
              "        buttonEl.style.display =\n",
              "          google.colab.kernel.accessAllowed ? 'block' : 'none';\n",
              "\n",
              "        async function convertToInteractive(key) {\n",
              "          const element = document.querySelector('#df-726b57a1-d5d1-4dd8-b27e-80b2c29adcc8');\n",
              "          const dataTable =\n",
              "            await google.colab.kernel.invokeFunction('convertToInteractive',\n",
              "                                                     [key], {});\n",
              "          if (!dataTable) return;\n",
              "\n",
              "          const docLinkHtml = 'Like what you see? Visit the ' +\n",
              "            '<a target=\"_blank\" href=https://colab.research.google.com/notebooks/data_table.ipynb>data table notebook</a>'\n",
              "            + ' to learn more about interactive tables.';\n",
              "          element.innerHTML = '';\n",
              "          dataTable['output_type'] = 'display_data';\n",
              "          await google.colab.output.renderOutput(dataTable, element);\n",
              "          const docLink = document.createElement('div');\n",
              "          docLink.innerHTML = docLinkHtml;\n",
              "          element.appendChild(docLink);\n",
              "        }\n",
              "      </script>\n",
              "    </div>\n",
              "  </div>\n",
              "  "
            ]
          },
          "metadata": {},
          "execution_count": 42
        }
      ]
    },
    {
      "cell_type": "code",
      "source": [
        "from sklearn.model_selection import train_test_split\n",
        "train_data, test_data = train_test_split(combined_df, test_size=0.2, random_state=42)\n",
        "train_data, val_data = train_test_split(train_data, test_size=0.25, random_state=42)\n",
        "\n",
        "print(\"Train data : {}, Val Data: {}, Test Data: {}\".format(train_data.shape[0], val_data.shape[0], test_data.shape[0]))"
      ],
      "metadata": {
        "colab": {
          "base_uri": "https://localhost:8080/"
        },
        "id": "sn9K2qxSeVVk",
        "outputId": "756ca3b5-375c-4efd-c753-9411ead01d97"
      },
      "id": "sn9K2qxSeVVk",
      "execution_count": null,
      "outputs": [
        {
          "output_type": "stream",
          "name": "stdout",
          "text": [
            "Train data : 12168, Val Data: 4056, Test Data: 4056\n"
          ]
        }
      ]
    },
    {
      "cell_type": "code",
      "source": [
        "import tensorflow as tf\n",
        "from tensorflow.keras.preprocessing.image import ImageDataGenerator\n",
        "\n",
        "train_data['cellType'] = train_data['cellType'].astype('str')\n",
        "val_data['cellType'] = val_data['cellType'].astype('str')\n",
        "\n",
        "# Scale the Image Pixel Values from 0-1\n",
        "# Both the Training and Testing Set is Scaled in the Same Way\n",
        "train_datagen = ImageDataGenerator(rescale=1./255, data_format='channels_last')\n",
        "val_datagen = ImageDataGenerator(rescale=1./255, data_format='channels_last')\n",
        "\n",
        "batch_size = 32\n",
        "\n",
        "train_generator = train_datagen.flow_from_dataframe(\n",
        "        dataframe=train_data,\n",
        "        directory='/content/image_classification_data/patch_images',\n",
        "        x_col=\"ImageName\",\n",
        "        y_col=\"cellType\",\n",
        "        target_size=(27, 27),\n",
        "        batch_size=batch_size,\n",
        "        class_mode='categorical')\n",
        "\n",
        "validation_generator = val_datagen.flow_from_dataframe(\n",
        "        dataframe=val_data,\n",
        "        directory='/content/image_classification_data/patch_images',\n",
        "        x_col=\"ImageName\",\n",
        "        y_col=\"cellType\",\n",
        "        target_size=(27, 27),\n",
        "        batch_size=batch_size,\n",
        "        class_mode='categorical')"
      ],
      "metadata": {
        "colab": {
          "base_uri": "https://localhost:8080/"
        },
        "id": "n0GqYJW6fkDJ",
        "outputId": "4c3d0367-265e-429a-ee41-2984884b7165"
      },
      "id": "n0GqYJW6fkDJ",
      "execution_count": null,
      "outputs": [
        {
          "output_type": "stream",
          "name": "stdout",
          "text": [
            "Found 12168 validated image filenames belonging to 4 classes.\n",
            "Found 4056 validated image filenames belonging to 4 classes.\n"
          ]
        }
      ]
    },
    {
      "cell_type": "code",
      "source": [
        "history5 = model_VGG_3.fit_generator(train_generator, validation_data = validation_generator, epochs=20, verbose=1)"
      ],
      "metadata": {
        "colab": {
          "base_uri": "https://localhost:8080/"
        },
        "id": "R0QX_VyygsSp",
        "outputId": "37d838ac-9f79-42fa-a149-3ed47005c0e5"
      },
      "id": "R0QX_VyygsSp",
      "execution_count": null,
      "outputs": [
        {
          "output_type": "stream",
          "name": "stdout",
          "text": [
            "Epoch 1/20\n"
          ]
        },
        {
          "output_type": "stream",
          "name": "stderr",
          "text": [
            "<ipython-input-45-64cc1dc5cbb1>:1: UserWarning: `Model.fit_generator` is deprecated and will be removed in a future version. Please use `Model.fit`, which supports generators.\n",
            "  history5 = model_VGG_3.fit_generator(train_generator, validation_data = validation_generator, epochs=20, verbose=1)\n"
          ]
        },
        {
          "output_type": "stream",
          "name": "stdout",
          "text": [
            "381/381 [==============================] - 249s 654ms/step - loss: 0.5449 - categorical_accuracy: 0.8291 - val_loss: 0.5059 - val_categorical_accuracy: 0.8444\n",
            "Epoch 2/20\n",
            "381/381 [==============================] - 309s 812ms/step - loss: 0.5352 - categorical_accuracy: 0.8301 - val_loss: 0.5162 - val_categorical_accuracy: 0.8417\n",
            "Epoch 3/20\n",
            "381/381 [==============================] - 247s 649ms/step - loss: 0.5219 - categorical_accuracy: 0.8367 - val_loss: 0.5420 - val_categorical_accuracy: 0.8205\n",
            "Epoch 4/20\n",
            "381/381 [==============================] - 245s 644ms/step - loss: 0.5181 - categorical_accuracy: 0.8405 - val_loss: 0.5046 - val_categorical_accuracy: 0.8402\n",
            "Epoch 5/20\n",
            "381/381 [==============================] - 239s 627ms/step - loss: 0.5189 - categorical_accuracy: 0.8350 - val_loss: 0.4962 - val_categorical_accuracy: 0.8521\n",
            "Epoch 6/20\n",
            "381/381 [==============================] - 250s 655ms/step - loss: 0.5150 - categorical_accuracy: 0.8408 - val_loss: 0.5070 - val_categorical_accuracy: 0.8425\n",
            "Epoch 7/20\n",
            "381/381 [==============================] - 243s 636ms/step - loss: 0.5210 - categorical_accuracy: 0.8388 - val_loss: 0.5066 - val_categorical_accuracy: 0.8422\n",
            "Epoch 8/20\n",
            "381/381 [==============================] - 244s 641ms/step - loss: 0.5123 - categorical_accuracy: 0.8395 - val_loss: 0.5144 - val_categorical_accuracy: 0.8296\n",
            "Epoch 9/20\n",
            "381/381 [==============================] - 247s 649ms/step - loss: 0.5148 - categorical_accuracy: 0.8395 - val_loss: 0.5049 - val_categorical_accuracy: 0.8454\n",
            "Epoch 10/20\n",
            "381/381 [==============================] - 243s 636ms/step - loss: 0.4961 - categorical_accuracy: 0.8468 - val_loss: 0.5482 - val_categorical_accuracy: 0.8171\n",
            "Epoch 11/20\n",
            "381/381 [==============================] - 244s 640ms/step - loss: 0.5048 - categorical_accuracy: 0.8406 - val_loss: 0.4969 - val_categorical_accuracy: 0.8516\n",
            "Epoch 12/20\n",
            "381/381 [==============================] - 239s 627ms/step - loss: 0.4900 - categorical_accuracy: 0.8499 - val_loss: 0.5007 - val_categorical_accuracy: 0.8417\n",
            "Epoch 13/20\n",
            "381/381 [==============================] - 237s 621ms/step - loss: 0.5148 - categorical_accuracy: 0.8387 - val_loss: 0.5884 - val_categorical_accuracy: 0.7949\n",
            "Epoch 14/20\n",
            "381/381 [==============================] - 244s 641ms/step - loss: 0.5014 - categorical_accuracy: 0.8443 - val_loss: 0.5095 - val_categorical_accuracy: 0.8378\n",
            "Epoch 15/20\n",
            "381/381 [==============================] - 242s 635ms/step - loss: 0.5021 - categorical_accuracy: 0.8470 - val_loss: 0.4860 - val_categorical_accuracy: 0.8449\n",
            "Epoch 16/20\n",
            "381/381 [==============================] - 238s 626ms/step - loss: 0.4931 - categorical_accuracy: 0.8480 - val_loss: 0.5327 - val_categorical_accuracy: 0.8282\n",
            "Epoch 17/20\n",
            "381/381 [==============================] - 237s 620ms/step - loss: 0.4960 - categorical_accuracy: 0.8471 - val_loss: 0.5295 - val_categorical_accuracy: 0.8279\n",
            "Epoch 18/20\n",
            "381/381 [==============================] - 244s 640ms/step - loss: 0.4979 - categorical_accuracy: 0.8454 - val_loss: 0.5857 - val_categorical_accuracy: 0.8126\n",
            "Epoch 19/20\n",
            "381/381 [==============================] - 244s 640ms/step - loss: 0.4921 - categorical_accuracy: 0.8519 - val_loss: 0.5266 - val_categorical_accuracy: 0.8341\n",
            "Epoch 20/20\n",
            "381/381 [==============================] - 238s 625ms/step - loss: 0.5023 - categorical_accuracy: 0.8448 - val_loss: 0.5049 - val_categorical_accuracy: 0.8454\n"
          ]
        }
      ]
    },
    {
      "cell_type": "code",
      "source": [
        "plot_learning_curve(history5.history['loss'], history5.history['val_loss'], \n",
        "                    history5.history['categorical_accuracy'], history5.history['val_categorical_accuracy'], \n",
        "                    metric_name='Accuracy')"
      ],
      "metadata": {
        "colab": {
          "base_uri": "https://localhost:8080/",
          "height": 465
        },
        "id": "uZwEjd6_Y2SS",
        "outputId": "8169b6c1-c9fc-4edd-85aa-7e24791adb2e"
      },
      "id": "uZwEjd6_Y2SS",
      "execution_count": null,
      "outputs": [
        {
          "output_type": "display_data",
          "data": {
            "text/plain": [
              "<Figure size 1000x500 with 2 Axes>"
            ],
            "image/png": "[encoded data removed]"
          },
          "metadata": {}
        }
      ]
    },
    {
      "cell_type": "markdown",
      "source": [
        "# Testing"
      ],
      "metadata": {
        "id": "T7ojwH3d9kaU"
      },
      "id": "T7ojwH3d9kaU"
    },
    {
      "cell_type": "markdown",
      "source": [
        "## Model 1"
      ],
      "metadata": {
        "id": "v5N2Juis98nS"
      },
      "id": "v5N2Juis98nS"
    },
    {
      "cell_type": "code",
      "source": [
        "test_data['isCancerous'] = test_data['isCancerous'].astype('str')\n",
        "\n",
        "# Scale the Image Pixel Values from 0-1\n",
        "# Both the Training and Testing Set is Scaled in the Same Way\n",
        "test_datagen = ImageDataGenerator(rescale=1./255, data_format='channels_last')\n",
        "\n",
        "batch_size = 32\n",
        "\n",
        "testing_generator = val_datagen.flow_from_dataframe(\n",
        "        dataframe=test_data,\n",
        "        directory='/content/image_classification_data/patch_images',\n",
        "        x_col=\"ImageName\",\n",
        "        y_col=\"isCancerous\",\n",
        "        target_size=(27, 27),\n",
        "        batch_size=batch_size,\n",
        "        class_mode='categorical')"
      ],
      "metadata": {
        "colab": {
          "base_uri": "https://localhost:8080/",
          "height": 224
        },
        "id": "KwjU_ksA9-yY",
        "outputId": "05dc8f23-22a3-4a48-a25f-d1cc2bc81751"
      },
      "id": "KwjU_ksA9-yY",
      "execution_count": 10,
      "outputs": [
        {
          "output_type": "error",
          "ename": "NameError",
          "evalue": "ignored",
          "traceback": [
            "\u001b[0;31m---------------------------------------------------------------------------\u001b[0m",
            "\u001b[0;31mNameError\u001b[0m                                 Traceback (most recent call last)",
            "\u001b[0;32m<ipython-input-10-e2fa0b5ac5bc>\u001b[0m in \u001b[0;36m<cell line: 5>\u001b[0;34m()\u001b[0m\n\u001b[1;32m      3\u001b[0m \u001b[0;31m# Scale the Image Pixel Values from 0-1\u001b[0m\u001b[0;34m\u001b[0m\u001b[0;34m\u001b[0m\u001b[0m\n\u001b[1;32m      4\u001b[0m \u001b[0;31m# Both the Training and Testing Set is Scaled in the Same Way\u001b[0m\u001b[0;34m\u001b[0m\u001b[0;34m\u001b[0m\u001b[0m\n\u001b[0;32m----> 5\u001b[0;31m \u001b[0mtest_datagen\u001b[0m \u001b[0;34m=\u001b[0m \u001b[0mImageDataGenerator\u001b[0m\u001b[0;34m(\u001b[0m\u001b[0mrescale\u001b[0m\u001b[0;34m=\u001b[0m\u001b[0;36m1.\u001b[0m\u001b[0;34m/\u001b[0m\u001b[0;36m255\u001b[0m\u001b[0;34m,\u001b[0m \u001b[0mdata_format\u001b[0m\u001b[0;34m=\u001b[0m\u001b[0;34m'channels_last'\u001b[0m\u001b[0;34m)\u001b[0m\u001b[0;34m\u001b[0m\u001b[0;34m\u001b[0m\u001b[0m\n\u001b[0m\u001b[1;32m      6\u001b[0m \u001b[0;34m\u001b[0m\u001b[0m\n\u001b[1;32m      7\u001b[0m \u001b[0mbatch_size\u001b[0m \u001b[0;34m=\u001b[0m \u001b[0;36m32\u001b[0m\u001b[0;34m\u001b[0m\u001b[0;34m\u001b[0m\u001b[0m\n",
            "\u001b[0;31mNameError\u001b[0m: name 'ImageDataGenerator' is not defined"
          ]
        }
      ]
    },
    {
      "cell_type": "code",
      "source": [
        "from sklearn.metrics import confusion_matrix\n",
        "import matplotlib.pyplot as plt\n",
        "import seaborn as sns\n",
        "\n",
        "true_labels = testing_generator.labels\n",
        "\n",
        "# Generate predictions using the model\n",
        "y_pred = model_VGG_2.predict(testing_generator)\n",
        "y_pred_classes = y_pred.argmax(axis=1)\n",
        "\n",
        "# Calculate confusion matrix\n",
        "cm = confusion_matrix(true_labels, y_pred_classes)\n",
        "plt.figure(figsize=(8, 6))\n",
        "sns.heatmap(cm, annot=True, fmt='d', cmap='Blues')\n",
        "plt.xlabel('Predicted Labels')\n",
        "plt.ylabel('True Labels')\n",
        "plt.title('Confusion Matrix')\n",
        "plt.show()"
      ],
      "metadata": {
        "id": "RopOAQVe9mlC"
      },
      "id": "RopOAQVe9mlC",
      "execution_count": null,
      "outputs": []
    },
    {
      "cell_type": "markdown",
      "source": [
        "## Model 2"
      ],
      "metadata": {
        "id": "2J3Mt8CG-K5c"
      },
      "id": "2J3Mt8CG-K5c"
    },
    {
      "cell_type": "code",
      "source": [
        "test_data['cellType'] = test_data['cellType'].astype('str')\n",
        "\n",
        "# Scale the Image Pixel Values from 0-1\n",
        "# Both the Training and Testing Set is Scaled in the Same Way\n",
        "test_datagen = ImageDataGenerator(rescale=1./255, data_format='channels_last')\n",
        "\n",
        "batch_size = 32\n",
        "\n",
        "test_generator = test_datagen.flow_from_dataframe(\n",
        "        dataframe=test_data,\n",
        "        directory='/content/image_classification_data/patch_images',\n",
        "        x_col=\"ImageName\",\n",
        "        y_col=\"cellType\",\n",
        "        target_size=(27, 27),\n",
        "        batch_size=batch_size,\n",
        "        class_mode='categorical')"
      ],
      "metadata": {
        "id": "YrpF1lAH99xq"
      },
      "id": "YrpF1lAH99xq",
      "execution_count": null,
      "outputs": []
    },
    {
      "cell_type": "code",
      "source": [
        "true_labels = testing_generator.labels\n",
        "\n",
        "# Generate predictions using the model\n",
        "y_pred = model_VGG_3.predict(testing_generator)\n",
        "y_pred_classes = y_pred.argmax(axis=1)\n",
        "\n",
        "# Calculate confusion matrix\n",
        "cm = confusion_matrix(true_labels, y_pred_classes)\n",
        "plt.figure(figsize=(8, 6))\n",
        "sns.heatmap(cm, annot=True, fmt='d', cmap='Blues')\n",
        "plt.xlabel('Predicted Labels')\n",
        "plt.ylabel('True Labels')\n",
        "plt.title('Confusion Matrix')\n",
        "plt.show()"
      ],
      "metadata": {
        "id": "Gf7h4Ufj-W5Q"
      },
      "id": "Gf7h4Ufj-W5Q",
      "execution_count": null,
      "outputs": []
    }
  ],
  "metadata": {
    "colab": {
      "provenance": [],
      "collapsed_sections": [
        "OPPiunwwwrGo",
        "f5a9334f",
        "HFxkBQAVdjbU",
        "tzxMI8dfdr2H",
        "W4KbCJU3zwdv",
        "vHSBWLX8Z2I4",
        "KmGwuZLbF5VX"
      ]
    },
    "kernelspec": {
      "display_name": "Python 3 (ipykernel)",
      "language": "python",
      "name": "python3"
    },
    "language_info": {
      "codemirror_mode": {
        "name": "ipython",
        "version": 3
      },
      "file_extension": ".py",
      "mimetype": "text/x-python",
      "name": "python",
      "nbconvert_exporter": "python",
      "pygments_lexer": "ipython3",
      "version": "3.10.9"
    }
  },
  "nbformat": 4,
  "nbformat_minor": 5
}