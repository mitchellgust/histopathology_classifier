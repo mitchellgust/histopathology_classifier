{
 "cells": [
  {
   "cell_type": "markdown",
   "id": "bff387f2",
   "metadata": {
    "id": "bff387f2"
   },
   "source": [
    "## Importing Data"
   ]
  },
  {
   "cell_type": "code",
   "execution_count": null,
   "id": "GNzmukChYbuQ",
   "metadata": {
    "colab": {
     "base_uri": "https://localhost:8080/"
    },
    "id": "GNzmukChYbuQ",
    "outputId": "d30b813b-7d67-414f-d5b4-39475c7b1092"
   },
   "outputs": [],
   "source": [
    "# Google Colab .zip File\n",
    "from google.colab import drive\n",
    "drive.mount('/content/drive')\n",
    "!cp /content/drive/'My Drive'/image_classification_data.zip .\n",
    "!unzip -q -o image_classification_data.zip\n",
    "!rm image_classification_data.zip\n",
    "!mkdir image_classification_data\n",
    "\n",
    "# Move Zip Contents to Folder\n",
    "!mv data_labels_extraData.csv image_classification_data\n",
    "!mv data_labels_mainData.csv image_classification_data\n",
    "!mv patch_images image_classification_data\n",
    "!rm -r sample_data"
   ]
  },
  {
   "cell_type": "code",
   "execution_count": 2,
   "id": "642a132d",
   "metadata": {},
   "outputs": [],
   "source": [
    "# OR Local .zip File (uncomment)\n",
    "\n",
    "# import zipfile\n",
    "# with zipfile.ZipFile('./image_classification_data.zip', 'r') as zip_ref:\n",
    "#     zip_ref.extractall('./')"
   ]
  },
  {
   "cell_type": "code",
   "execution_count": 3,
   "id": "e69abf37",
   "metadata": {
    "colab": {
     "base_uri": "https://localhost:8080/",
     "height": 206
    },
    "id": "e69abf37",
    "outputId": "d9acd7fc-cf58-4371-8a45-bcace8a965fe"
   },
   "outputs": [
    {
     "data": {
      "text/html": [
       "<div>\n",
       "<style scoped>\n",
       "    .dataframe tbody tr th:only-of-type {\n",
       "        vertical-align: middle;\n",
       "    }\n",
       "\n",
       "    .dataframe tbody tr th {\n",
       "        vertical-align: top;\n",
       "    }\n",
       "\n",
       "    .dataframe thead th {\n",
       "        text-align: right;\n",
       "    }\n",
       "</style>\n",
       "<table border=\"1\" class=\"dataframe\">\n",
       "  <thead>\n",
       "    <tr style=\"text-align: right;\">\n",
       "      <th></th>\n",
       "      <th>InstanceID</th>\n",
       "      <th>patientID</th>\n",
       "      <th>ImageName</th>\n",
       "      <th>cellTypeName</th>\n",
       "      <th>cellType</th>\n",
       "      <th>isCancerous</th>\n",
       "    </tr>\n",
       "  </thead>\n",
       "  <tbody>\n",
       "    <tr>\n",
       "      <th>0</th>\n",
       "      <td>22405</td>\n",
       "      <td>1</td>\n",
       "      <td>22405.png</td>\n",
       "      <td>fibroblast</td>\n",
       "      <td>0.0</td>\n",
       "      <td>0</td>\n",
       "    </tr>\n",
       "    <tr>\n",
       "      <th>1</th>\n",
       "      <td>22406</td>\n",
       "      <td>1</td>\n",
       "      <td>22406.png</td>\n",
       "      <td>fibroblast</td>\n",
       "      <td>0.0</td>\n",
       "      <td>0</td>\n",
       "    </tr>\n",
       "    <tr>\n",
       "      <th>2</th>\n",
       "      <td>22407</td>\n",
       "      <td>1</td>\n",
       "      <td>22407.png</td>\n",
       "      <td>fibroblast</td>\n",
       "      <td>0.0</td>\n",
       "      <td>0</td>\n",
       "    </tr>\n",
       "    <tr>\n",
       "      <th>3</th>\n",
       "      <td>22408</td>\n",
       "      <td>1</td>\n",
       "      <td>22408.png</td>\n",
       "      <td>fibroblast</td>\n",
       "      <td>0.0</td>\n",
       "      <td>0</td>\n",
       "    </tr>\n",
       "    <tr>\n",
       "      <th>4</th>\n",
       "      <td>22409</td>\n",
       "      <td>1</td>\n",
       "      <td>22409.png</td>\n",
       "      <td>fibroblast</td>\n",
       "      <td>0.0</td>\n",
       "      <td>0</td>\n",
       "    </tr>\n",
       "  </tbody>\n",
       "</table>\n",
       "</div>"
      ],
      "text/plain": [
       "   InstanceID  patientID  ImageName cellTypeName  cellType  isCancerous\n",
       "0       22405          1  22405.png   fibroblast       0.0            0\n",
       "1       22406          1  22406.png   fibroblast       0.0            0\n",
       "2       22407          1  22407.png   fibroblast       0.0            0\n",
       "3       22408          1  22408.png   fibroblast       0.0            0\n",
       "4       22409          1  22409.png   fibroblast       0.0            0"
      ]
     },
     "execution_count": 3,
     "metadata": {},
     "output_type": "execute_result"
    }
   ],
   "source": [
    "import numpy as np\n",
    "from sklearn.model_selection import train_test_split\n",
    "import pandas as pd\n",
    "\n",
    "data = pd.read_csv('./image_classification_data/data_labels_mainData.csv')\n",
    "\n",
    "extra_data = pd.read_csv('./image_classification_data/data_labels_extraData.csv')\n",
    "\n",
    "combined_isCancer_data = pd.concat([data, extra_data])\n",
    "combined_isCancer_data.head()\n"
   ]
  },
  {
   "cell_type": "markdown",
   "id": "863f2110",
   "metadata": {
    "id": "863f2110"
   },
   "source": [
    "## EDA"
   ]
  },
  {
   "cell_type": "markdown",
   "id": "OPPiunwwwrGo",
   "metadata": {
    "id": "OPPiunwwwrGo"
   },
   "source": [
    "### Data Overview\n"
   ]
  },
  {
   "cell_type": "markdown",
   "id": "DcgtbZzcDpzM",
   "metadata": {
    "id": "DcgtbZzcDpzM"
   },
   "source": [
    "#### Data Types"
   ]
  },
  {
   "cell_type": "code",
   "execution_count": null,
   "id": "UzEc-_wHwA1z",
   "metadata": {
    "colab": {
     "base_uri": "https://localhost:8080/"
    },
    "id": "UzEc-_wHwA1z",
    "outputId": "cfec406d-8858-49ec-bf40-529bdad6ed38"
   },
   "outputs": [
    {
     "name": "stdout",
     "output_type": "stream",
     "text": [
      "<class 'pandas.core.frame.DataFrame'>\n",
      "RangeIndex: 9896 entries, 0 to 9895\n",
      "Data columns (total 6 columns):\n",
      " #   Column        Non-Null Count  Dtype \n",
      "---  ------        --------------  ----- \n",
      " 0   InstanceID    9896 non-null   int64 \n",
      " 1   patientID     9896 non-null   int64 \n",
      " 2   ImageName     9896 non-null   object\n",
      " 3   cellTypeName  9896 non-null   object\n",
      " 4   cellType      9896 non-null   int64 \n",
      " 5   isCancerous   9896 non-null   int64 \n",
      "dtypes: int64(4), object(2)\n",
      "memory usage: 464.0+ KB\n"
     ]
    }
   ],
   "source": [
    "data.info()"
   ]
  },
  {
   "cell_type": "markdown",
   "id": "vG3S0xGwEhtP",
   "metadata": {
    "id": "vG3S0xGwEhtP"
   },
   "source": [
    "Used for model 2 on our classification of cell type."
   ]
  },
  {
   "cell_type": "code",
   "execution_count": null,
   "id": "6MOISgfITlvM",
   "metadata": {
    "colab": {
     "base_uri": "https://localhost:8080/"
    },
    "id": "6MOISgfITlvM",
    "outputId": "ffdcf0f4-3fb0-4fbe-c8a7-a5502e1d8391"
   },
   "outputs": [
    {
     "name": "stdout",
     "output_type": "stream",
     "text": [
      "<class 'pandas.core.frame.DataFrame'>\n",
      "RangeIndex: 10384 entries, 0 to 10383\n",
      "Data columns (total 4 columns):\n",
      " #   Column       Non-Null Count  Dtype \n",
      "---  ------       --------------  ----- \n",
      " 0   InstanceID   10384 non-null  int64 \n",
      " 1   patientID    10384 non-null  int64 \n",
      " 2   ImageName    10384 non-null  object\n",
      " 3   isCancerous  10384 non-null  int64 \n",
      "dtypes: int64(3), object(1)\n",
      "memory usage: 324.6+ KB\n"
     ]
    }
   ],
   "source": [
    "extra_data.info()"
   ]
  },
  {
   "cell_type": "markdown",
   "id": "ryd_Mt3mEUct",
   "metadata": {
    "id": "ryd_Mt3mEUct"
   },
   "source": [
    "Used to add data points to our main data to further improve our cancerous cell classification."
   ]
  },
  {
   "cell_type": "code",
   "execution_count": null,
   "id": "3JIqn16GT5_5",
   "metadata": {
    "colab": {
     "base_uri": "https://localhost:8080/"
    },
    "id": "3JIqn16GT5_5",
    "outputId": "c0ae6c45-4ac3-4b76-9e95-09a9fc0ece32"
   },
   "outputs": [
    {
     "name": "stdout",
     "output_type": "stream",
     "text": [
      "<class 'pandas.core.frame.DataFrame'>\n",
      "Int64Index: 20280 entries, 0 to 10383\n",
      "Data columns (total 6 columns):\n",
      " #   Column        Non-Null Count  Dtype  \n",
      "---  ------        --------------  -----  \n",
      " 0   InstanceID    20280 non-null  int64  \n",
      " 1   patientID     20280 non-null  int64  \n",
      " 2   ImageName     20280 non-null  object \n",
      " 3   cellTypeName  9896 non-null   object \n",
      " 4   cellType      9896 non-null   float64\n",
      " 5   isCancerous   20280 non-null  int64  \n",
      "dtypes: float64(1), int64(3), object(2)\n",
      "memory usage: 1.1+ MB\n"
     ]
    }
   ],
   "source": [
    "combined_isCancer_data.info()"
   ]
  },
  {
   "cell_type": "markdown",
   "id": "fppkKyLdEmgd",
   "metadata": {
    "id": "fppkKyLdEmgd"
   },
   "source": [
    "Used for model 1 on our classification of cancerous cells."
   ]
  },
  {
   "cell_type": "markdown",
   "id": "ebtsft7OFGiw",
   "metadata": {
    "id": "ebtsft7OFGiw"
   },
   "source": [
    "## Feature Analysis"
   ]
  },
  {
   "cell_type": "markdown",
   "id": "txRBfYwuIp5a",
   "metadata": {
    "id": "txRBfYwuIp5a"
   },
   "source": [
    "### Target Feature Balance"
   ]
  },
  {
   "cell_type": "markdown",
   "id": "UqgwkioHVksR",
   "metadata": {
    "id": "UqgwkioHVksR"
   },
   "source": [
    "#### Class Balance - Is Cancerous"
   ]
  },
  {
   "cell_type": "code",
   "execution_count": null,
   "id": "xiItYE9tVUGH",
   "metadata": {
    "colab": {
     "base_uri": "https://localhost:8080/",
     "height": 471
    },
    "id": "xiItYE9tVUGH",
    "outputId": "de212d56-3e1a-4f2e-8326-d636110a8e10"
   },
   "outputs": [
    {
     "data": {
      "image/png": "[encoded data removed]",
      "text/plain": [
       "<Figure size 640x480 with 1 Axes>"
      ]
     },
     "metadata": {},
     "output_type": "display_data"
    }
   ],
   "source": [
    "isCancerousCount = combined_isCancer_data['isCancerous'].value_counts()\n",
    "\n",
    "plt.bar(isCancerousCount.index, isCancerousCount.values)\n",
    "plt.xlabel('Cancerous Classification')\n",
    "plt.ylabel('Count')\n",
    "plt.title('Class count by isCancerous')\n",
    "plt.show()"
   ]
  },
  {
   "cell_type": "markdown",
   "id": "D933XD72UKBl",
   "metadata": {
    "id": "D933XD72UKBl"
   },
   "source": [
    "#### Class Balance - Cell Type"
   ]
  },
  {
   "cell_type": "code",
   "execution_count": null,
   "id": "UwwPEIOews8P",
   "metadata": {
    "colab": {
     "base_uri": "https://localhost:8080/",
     "height": 471
    },
    "id": "UwwPEIOews8P",
    "outputId": "ccfe5556-b8a0-451b-be7e-4dd287673368"
   },
   "outputs": [
    {
     "data": {
      "image/png": "[encoded data removed]",
      "text/plain": [
       "<Figure size 640x480 with 1 Axes>"
      ]
     },
     "metadata": {},
     "output_type": "display_data"
    }
   ],
   "source": [
    "import matplotlib.pyplot as plt\n",
    "\n",
    "cellTypeNameCount = combined_isCancer_data['cellTypeName'].value_counts()\n",
    "\n",
    "plt.bar(cellTypeNameCount.index, cellTypeNameCount.values)\n",
    "plt.xlabel('Cell Type Name')\n",
    "plt.ylabel('Count')\n",
    "plt.title('Class Count by Cell Type Name')\n",
    "plt.show()"
   ]
  },
  {
   "cell_type": "markdown",
   "id": "FxgrInlMFgsY",
   "metadata": {
    "id": "FxgrInlMFgsY"
   },
   "source": [
    "Though we observe a class imbalance in cell type and cancerous classes, due to the sufficient size of the dataset and the number of instances from each class the model will generally still learn from the minority class hence we will withdraw from attempting to correct the balance.\n",
    "It may also be the case that the class imbalance is a natural characteristic of the data."
   ]
  },
  {
   "cell_type": "markdown",
   "id": "DaZ7WG3IHp20",
   "metadata": {
    "id": "DaZ7WG3IHp20"
   },
   "source": [
    "### Missing Features"
   ]
  },
  {
   "cell_type": "markdown",
   "id": "RvS-_9wxH3R5",
   "metadata": {
    "id": "RvS-_9wxH3R5"
   },
   "source": [
    "#### Model 1 Dataset"
   ]
  },
  {
   "cell_type": "code",
   "execution_count": null,
   "id": "e-Bd6JtOHy81",
   "metadata": {
    "colab": {
     "base_uri": "https://localhost:8080/"
    },
    "id": "e-Bd6JtOHy81",
    "outputId": "5270df33-853a-43f0-c0a4-95e871b712f0"
   },
   "outputs": [
    {
     "name": "stdout",
     "output_type": "stream",
     "text": [
      "Missing Values\n",
      "InstanceID          0\n",
      "patientID           0\n",
      "ImageName           0\n",
      "cellTypeName    10384\n",
      "cellType        10384\n",
      "isCancerous         0\n",
      "dtype: int64\n"
     ]
    }
   ],
   "source": [
    "missing_values = combined_isCancer_data.isnull().sum()\n",
    "\n",
    "# Display the percentage of missing values\n",
    "print(\"Missing Values\")\n",
    "print(missing_values)"
   ]
  },
  {
   "cell_type": "markdown",
   "id": "O9WhUM7pHzzt",
   "metadata": {
    "id": "O9WhUM7pHzzt"
   },
   "source": [
    "#### Model 2 Dataset"
   ]
  },
  {
   "cell_type": "code",
   "execution_count": null,
   "id": "5OK6RqgPHwB-",
   "metadata": {
    "colab": {
     "base_uri": "https://localhost:8080/"
    },
    "id": "5OK6RqgPHwB-",
    "outputId": "ff83e807-9321-4ccd-dfd9-c8dfe35e5321"
   },
   "outputs": [
    {
     "name": "stdout",
     "output_type": "stream",
     "text": [
      "Missing Values\n",
      "InstanceID      0\n",
      "patientID       0\n",
      "ImageName       0\n",
      "cellTypeName    0\n",
      "cellType        0\n",
      "isCancerous     0\n",
      "dtype: int64\n"
     ]
    }
   ],
   "source": [
    "missing_values = data.isnull().sum()\n",
    "\n",
    "# Display the percentage of missing values\n",
    "print(\"Missing Values\")\n",
    "print(missing_values)"
   ]
  },
  {
   "cell_type": "markdown",
   "id": "hhmApDKOIJFO",
   "metadata": {
    "id": "hhmApDKOIJFO"
   },
   "source": [
    "Observing above, our combined dataset does not contain values for the cell type feature so it cannot be used when we produce our second model that classifies cell type. However, this combined dataset will be useful as it provides us with greater data points to classify our binary feature, isCancerous, in model 1."
   ]
  },
  {
   "cell_type": "markdown",
   "id": "eJdWeVqMKH0F",
   "metadata": {
    "id": "eJdWeVqMKH0F"
   },
   "source": [
    "### Unique Values"
   ]
  },
  {
   "cell_type": "code",
   "execution_count": null,
   "id": "_9P3gN-kKHPc",
   "metadata": {
    "colab": {
     "base_uri": "https://localhost:8080/"
    },
    "id": "_9P3gN-kKHPc",
    "outputId": "081a57cc-75b9-4cc1-b1e3-e62dc0926d11"
   },
   "outputs": [
    {
     "name": "stdout",
     "output_type": "stream",
     "text": [
      "Unique patients: 98\n",
      "Unique image categories: 20280\n",
      "Unique cell types: 4\n",
      "Unique cellType values: 4\n"
     ]
    }
   ],
   "source": [
    "print(\"Unique patients:\", combined_isCancer_data[\"patientID\"].nunique())\n",
    "print(\"Unique image categories:\", combined_isCancer_data[\"ImageName\"].nunique())\n",
    "print(\"Unique cell types:\", combined_isCancer_data[\"cellTypeName\"].nunique())\n",
    "print(\"Unique cellType values:\", combined_isCancer_data[\"cellType\"].nunique())"
   ]
  },
  {
   "cell_type": "markdown",
   "id": "E8xAbbNVK4Q-",
   "metadata": {
    "id": "E8xAbbNVK4Q-"
   },
   "source": [
    "### Correlation between Cell Type and Cancerous Cell"
   ]
  },
  {
   "cell_type": "code",
   "execution_count": null,
   "id": "aHei9ZQxK5F9",
   "metadata": {
    "colab": {
     "base_uri": "https://localhost:8080/",
     "height": 549
    },
    "id": "aHei9ZQxK5F9",
    "outputId": "1241d691-3679-4d15-b607-0d4c941ad612"
   },
   "outputs": [
    {
     "data": {
      "text/plain": [
       "<Figure size 1000x600 with 0 Axes>"
      ]
     },
     "metadata": {},
     "output_type": "display_data"
    },
    {
     "data": {
      "image/png": "[encoded data removed]",
      "text/plain": [
       "<Figure size 640x480 with 1 Axes>"
      ]
     },
     "metadata": {},
     "output_type": "display_data"
    }
   ],
   "source": [
    "cell_type_cancer_counts = combined_isCancer_data.groupby(['cellTypeName', 'isCancerous']).size().unstack()\n",
    "\n",
    "plt.figure(figsize=(10, 6))\n",
    "cell_type_cancer_counts.plot(kind='bar', stacked=True)\n",
    "\n",
    "plt.title('Distribution of Cell Types by Cancerous Status')\n",
    "plt.ylabel('Count')\n",
    "plt.xlabel('Cell Type Name')\n",
    "plt.legend(['Non-Cancerous', 'Cancerous'])\n",
    "\n",
    "# Flip Labels\n",
    "plt.xticks(rotation=45)\n",
    "plt.show()"
   ]
  },
  {
   "cell_type": "markdown",
   "id": "of07pOVsLh1R",
   "metadata": {
    "id": "of07pOVsLh1R"
   },
   "source": [
    "### Encoding Categorical"
   ]
  },
  {
   "cell_type": "markdown",
   "id": "vuT4LHO-LmAU",
   "metadata": {
    "id": "vuT4LHO-LmAU"
   },
   "source": [
    "The cellType feature is an encoded version of the cellTypeName hence we don't need to perform further encoding. We will however verify if the values map as expected\n"
   ]
  },
  {
   "cell_type": "code",
   "execution_count": null,
   "id": "xPoKWw0g3Vs4",
   "metadata": {
    "colab": {
     "base_uri": "https://localhost:8080/"
    },
    "id": "xPoKWw0g3Vs4",
    "outputId": "3bbf0955-97ce-4dc1-b456-a0d58dbc8c27"
   },
   "outputs": [
    {
     "name": "stdout",
     "output_type": "stream",
     "text": [
      "Consistent Mapping of CellType Values\n"
     ]
    }
   ],
   "source": [
    "correlation_dict = {'fibroblast': 0, 'inflammatory': 1, 'epithelial': 2, 'others': 3}\n",
    "\n",
    "# Produce Expected CellTypeValues using Dictionary\n",
    "data['expectedCellType'] = data['cellTypeName'].map(correlation_dict)\n",
    "\n",
    "# Compare Expected with Actual CellType Values\n",
    "data['results'] = data['cellType'] == data['expectedCellType']\n",
    "\n",
    "# Print Whether CellType Maps to Expected Value\n",
    "if(data['results'].sum().all() == True): \n",
    "    print(\"Consistent Mapping of CellType Values\")\n",
    "else:\n",
    "    print(\"Inconsistent Mapping of CellType Values\")"
   ]
  },
  {
   "cell_type": "markdown",
   "id": "ioMpRmLzUTwe",
   "metadata": {
    "id": "ioMpRmLzUTwe"
   },
   "source": [
    "# Model 1 - isCancerous\n"
   ]
  },
  {
   "cell_type": "markdown",
   "id": "f5a9334f",
   "metadata": {
    "id": "f5a9334f"
   },
   "source": [
    "### Splitting Data"
   ]
  },
  {
   "cell_type": "code",
   "execution_count": null,
   "id": "3d776b2e",
   "metadata": {
    "colab": {
     "base_uri": "https://localhost:8080/"
    },
    "id": "3d776b2e",
    "outputId": "63d7f66f-515a-45e7-e106-bfa623b57f4a"
   },
   "outputs": [
    {
     "name": "stdout",
     "output_type": "stream",
     "text": [
      "Train data : 12168, Val Data: 4056, Test Data: 4056\n"
     ]
    }
   ],
   "source": [
    "from sklearn.model_selection import train_test_split\n",
    "train_data, test_data = train_test_split(combined_isCancer_data, test_size=0.2, random_state=42)\n",
    "train_data, val_data = train_test_split(train_data, test_size=0.25, random_state=42)\n",
    "\n",
    "print(\"Train data : {}, Val Data: {}, Test Data: {}\".format(train_data.shape[0], val_data.shape[0], test_data.shape[0]))"
   ]
  },
  {
   "cell_type": "markdown",
   "id": "HFxkBQAVdjbU",
   "metadata": {
    "id": "HFxkBQAVdjbU"
   },
   "source": [
    "### Diagnostic Tool"
   ]
  },
  {
   "cell_type": "code",
   "execution_count": null,
   "id": "ax5bjRomYQmx",
   "metadata": {
    "id": "ax5bjRomYQmx"
   },
   "outputs": [],
   "source": [
    "def plot_learning_curve(train_loss, val_loss, train_metric, val_metric, metric_name='Accuracy'):\n",
    "    plt.figure(figsize=(10,5))\n",
    "    \n",
    "    plt.subplot(1,2,1)\n",
    "    plt.plot(train_loss, 'r--')\n",
    "    plt.plot(val_loss, 'b--')\n",
    "    plt.xlabel(\"epochs\")\n",
    "    plt.ylabel(\"Loss\")\n",
    "    plt.legend(['train', 'val'], loc='upper left')\n",
    "\n",
    "    plt.subplot(1,2,2)\n",
    "    plt.plot(train_metric, 'r--')\n",
    "    plt.plot(val_metric, 'b--')\n",
    "    plt.xlabel(\"epochs\")\n",
    "    plt.ylabel(metric_name)\n",
    "    plt.legend(['train', 'val'], loc='upper left')\n",
    "\n",
    "    plt.show()    "
   ]
  },
  {
   "cell_type": "markdown",
   "id": "qKTZrUIRluaR",
   "metadata": {
    "id": "qKTZrUIRluaR"
   },
   "source": [
    "### Data Generator "
   ]
  },
  {
   "cell_type": "code",
   "execution_count": null,
   "id": "YmH4eMewltt-",
   "metadata": {
    "colab": {
     "base_uri": "https://localhost:8080/"
    },
    "id": "YmH4eMewltt-",
    "outputId": "8ac0a1b3-3c44-4e69-a5a8-a60f3d1df637"
   },
   "outputs": [
    {
     "name": "stdout",
     "output_type": "stream",
     "text": [
      "Found 12168 validated image filenames belonging to 2 classes.\n",
      "Found 4056 validated image filenames belonging to 2 classes.\n"
     ]
    }
   ],
   "source": [
    "import tensorflow as tf\n",
    "from tensorflow.keras.preprocessing.image import ImageDataGenerator\n",
    "\n",
    "train_data['isCancerous'] = train_data['isCancerous'].astype('str')\n",
    "val_data['isCancerous'] = val_data['isCancerous'].astype('str')\n",
    "\n",
    "# Scale the Image Pixel Values from 0-1\n",
    "# Both the Training and Testing Set is Scaled in the Same Way\n",
    "train_datagen = ImageDataGenerator(rescale=1./255, data_format='channels_last')\n",
    "val_datagen = ImageDataGenerator(rescale=1./255, data_format='channels_last')\n",
    "\n",
    "batch_size = 32\n",
    "\n",
    "train_generator = train_datagen.flow_from_dataframe(\n",
    "        dataframe=train_data,\n",
    "        directory='/content/image_classification_data/patch_images',\n",
    "        x_col=\"ImageName\",\n",
    "        y_col=\"isCancerous\",\n",
    "        target_size=(27, 27),\n",
    "        batch_size=batch_size,\n",
    "        class_mode='categorical')\n",
    "\n",
    "validation_generator = val_datagen.flow_from_dataframe(\n",
    "        dataframe=val_data,\n",
    "        directory='/content/image_classification_data/patch_images',\n",
    "        x_col=\"ImageName\",\n",
    "        y_col=\"isCancerous\",\n",
    "        target_size=(27, 27),\n",
    "        batch_size=batch_size,\n",
    "        class_mode='categorical')"
   ]
  },
  {
   "cell_type": "markdown",
   "id": "tzxMI8dfdr2H",
   "metadata": {
    "id": "tzxMI8dfdr2H"
   },
   "source": [
    "### Baseline Model"
   ]
  },
  {
   "cell_type": "code",
   "execution_count": null,
   "id": "oCdUIrLvdtcT",
   "metadata": {
    "id": "oCdUIrLvdtcT"
   },
   "outputs": [],
   "source": [
    "INPUT_DIM = (27,27,3) # 26x26 Pixel Images, 3 Channels (RGB) \n",
    "HIDDEN_LAYER_DIM = 256 # Hyper Parameter we can Tune Later\n",
    "OUTPUT_CLASSES = 2 "
   ]
  },
  {
   "cell_type": "markdown",
   "id": "9U9y50_BIo7I",
   "metadata": {
    "id": "9U9y50_BIo7I"
   },
   "source": [
    "Why is sigmoid good for binary classification? compared to other??"
   ]
  },
  {
   "cell_type": "code",
   "execution_count": null,
   "id": "xIjWcPp7g-mW",
   "metadata": {
    "colab": {
     "base_uri": "https://localhost:8080/"
    },
    "id": "xIjWcPp7g-mW",
    "outputId": "77c86415-3a8d-47d1-8805-aa31df1251b6"
   },
   "outputs": [
    {
     "name": "stdout",
     "output_type": "stream",
     "text": [
      "Model: \"sequential\"\n",
      "_________________________________________________________________\n",
      " Layer (type)                Output Shape              Param #   \n",
      "=================================================================\n",
      " flatten (Flatten)           (None, 2187)              0         \n",
      "                                                                 \n",
      " dense (Dense)               (None, 256)               560128    \n",
      "                                                                 \n",
      " dense_1 (Dense)             (None, 2)                 514       \n",
      "                                                                 \n",
      "=================================================================\n",
      "Total params: 560,642\n",
      "Trainable params: 560,642\n",
      "Non-trainable params: 0\n",
      "_________________________________________________________________\n"
     ]
    }
   ],
   "source": [
    "import tensorflow as tf\n",
    "\n",
    "model = tf.keras.Sequential([\n",
    "    tf.keras.layers.Flatten(input_shape=INPUT_DIM),\n",
    "    tf.keras.layers.Dense(HIDDEN_LAYER_DIM, activation='sigmoid'),\n",
    "    tf.keras.layers.Dense(OUTPUT_CLASSES)\n",
    "])\n",
    "\n",
    "model.summary()"
   ]
  },
  {
   "cell_type": "code",
   "execution_count": null,
   "id": "pl1OtK5ehoJv",
   "metadata": {
    "colab": {
     "base_uri": "https://localhost:8080/",
     "height": 422
    },
    "id": "pl1OtK5ehoJv",
    "outputId": "157cdf21-84da-44da-9b2f-91b59ecd4133"
   },
   "outputs": [
    {
     "data": {
      "image/png": "[encoded data removed]",
      "text/plain": [
       "<IPython.core.display.Image object>"
      ]
     },
     "execution_count": 15,
     "metadata": {},
     "output_type": "execute_result"
    }
   ],
   "source": [
    "tf.keras.utils.plot_model(model, show_shapes=True)"
   ]
  },
  {
   "cell_type": "code",
   "execution_count": null,
   "id": "WrE0735Khoq4",
   "metadata": {
    "id": "WrE0735Khoq4"
   },
   "outputs": [],
   "source": [
    "model.compile(optimizer='SGD',\n",
    "              loss=tf.keras.losses.BinaryCrossentropy(from_logits=True),\n",
    "              metrics=['categorical_accuracy'])"
   ]
  },
  {
   "cell_type": "code",
   "execution_count": null,
   "id": "ImSszhXCk9gF",
   "metadata": {
    "colab": {
     "base_uri": "https://localhost:8080/",
     "height": 552
    },
    "id": "ImSszhXCk9gF",
    "outputId": "7e524f79-e01c-4809-bc45-bbcc6c77341c"
   },
   "outputs": [
    {
     "name": "stdout",
     "output_type": "stream",
     "text": [
      "Epoch 1/50\n"
     ]
    },
    {
     "name": "stderr",
     "output_type": "stream",
     "text": [
      "<ipython-input-17-d282d76f89ea>:1: UserWarning: `Model.fit_generator` is deprecated and will be removed in a future version. Please use `Model.fit`, which supports generators.\n",
      "  history = model.fit_generator(train_generator, validation_data = validation_generator, epochs=50, verbose=1)\n"
     ]
    },
    {
     "name": "stdout",
     "output_type": "stream",
     "text": [
      "381/381 [==============================] - 11s 26ms/step - loss: 0.6199 - categorical_accuracy: 0.6510 - val_loss: 0.5904 - val_categorical_accuracy: 0.6573\n",
      "Epoch 2/50\n",
      "381/381 [==============================] - 9s 23ms/step - loss: 0.5737 - categorical_accuracy: 0.6672 - val_loss: 0.5464 - val_categorical_accuracy: 0.7091\n",
      "Epoch 3/50\n",
      "381/381 [==============================] - 10s 27ms/step - loss: 0.5303 - categorical_accuracy: 0.7311 - val_loss: 0.5038 - val_categorical_accuracy: 0.7557\n",
      "Epoch 4/50\n",
      "381/381 [==============================] - 16s 42ms/step - loss: 0.4897 - categorical_accuracy: 0.7868 - val_loss: 0.4657 - val_categorical_accuracy: 0.8173\n",
      "Epoch 5/50\n",
      "251/381 [==================>...........] - ETA: 2s - loss: 0.4579 - categorical_accuracy: 0.8134"
     ]
    },
    {
     "ename": "KeyboardInterrupt",
     "evalue": "ignored",
     "output_type": "error",
     "traceback": [
      "\u001b[0;31m---------------------------------------------------------------------------\u001b[0m",
      "\u001b[0;31mKeyboardInterrupt\u001b[0m                         Traceback (most recent call last)",
      "\u001b[0;32m<ipython-input-17-d282d76f89ea>\u001b[0m in \u001b[0;36m<cell line: 1>\u001b[0;34m()\u001b[0m\n\u001b[0;32m----> 1\u001b[0;31m \u001b[0mhistory\u001b[0m \u001b[0;34m=\u001b[0m \u001b[0mmodel\u001b[0m\u001b[0;34m.\u001b[0m\u001b[0mfit_generator\u001b[0m\u001b[0;34m(\u001b[0m\u001b[0mtrain_generator\u001b[0m\u001b[0;34m,\u001b[0m \u001b[0mvalidation_data\u001b[0m \u001b[0;34m=\u001b[0m \u001b[0mvalidation_generator\u001b[0m\u001b[0;34m,\u001b[0m \u001b[0mepochs\u001b[0m\u001b[0;34m=\u001b[0m\u001b[0;36m50\u001b[0m\u001b[0;34m,\u001b[0m \u001b[0mverbose\u001b[0m\u001b[0;34m=\u001b[0m\u001b[0;36m1\u001b[0m\u001b[0;34m)\u001b[0m\u001b[0;34m\u001b[0m\u001b[0;34m\u001b[0m\u001b[0m\n\u001b[0m",
      "\u001b[0;32m/usr/local/lib/python3.10/dist-packages/keras/engine/training.py\u001b[0m in \u001b[0;36mfit_generator\u001b[0;34m(self, generator, steps_per_epoch, epochs, verbose, callbacks, validation_data, validation_steps, validation_freq, class_weight, max_queue_size, workers, use_multiprocessing, shuffle, initial_epoch)\u001b[0m\n\u001b[1;32m   2634\u001b[0m             \u001b[0mstacklevel\u001b[0m\u001b[0;34m=\u001b[0m\u001b[0;36m2\u001b[0m\u001b[0;34m,\u001b[0m\u001b[0;34m\u001b[0m\u001b[0;34m\u001b[0m\u001b[0m\n\u001b[1;32m   2635\u001b[0m         )\n\u001b[0;32m-> 2636\u001b[0;31m         return self.fit(\n\u001b[0m\u001b[1;32m   2637\u001b[0m             \u001b[0mgenerator\u001b[0m\u001b[0;34m,\u001b[0m\u001b[0;34m\u001b[0m\u001b[0;34m\u001b[0m\u001b[0m\n\u001b[1;32m   2638\u001b[0m             \u001b[0msteps_per_epoch\u001b[0m\u001b[0;34m=\u001b[0m\u001b[0msteps_per_epoch\u001b[0m\u001b[0;34m,\u001b[0m\u001b[0;34m\u001b[0m\u001b[0;34m\u001b[0m\u001b[0m\n",
      "\u001b[0;32m/usr/local/lib/python3.10/dist-packages/keras/utils/traceback_utils.py\u001b[0m in \u001b[0;36merror_handler\u001b[0;34m(*args, **kwargs)\u001b[0m\n\u001b[1;32m     63\u001b[0m         \u001b[0mfiltered_tb\u001b[0m \u001b[0;34m=\u001b[0m \u001b[0;32mNone\u001b[0m\u001b[0;34m\u001b[0m\u001b[0;34m\u001b[0m\u001b[0m\n\u001b[1;32m     64\u001b[0m         \u001b[0;32mtry\u001b[0m\u001b[0;34m:\u001b[0m\u001b[0;34m\u001b[0m\u001b[0;34m\u001b[0m\u001b[0m\n\u001b[0;32m---> 65\u001b[0;31m             \u001b[0;32mreturn\u001b[0m \u001b[0mfn\u001b[0m\u001b[0;34m(\u001b[0m\u001b[0;34m*\u001b[0m\u001b[0margs\u001b[0m\u001b[0;34m,\u001b[0m \u001b[0;34m**\u001b[0m\u001b[0mkwargs\u001b[0m\u001b[0;34m)\u001b[0m\u001b[0;34m\u001b[0m\u001b[0;34m\u001b[0m\u001b[0m\n\u001b[0m\u001b[1;32m     66\u001b[0m         \u001b[0;32mexcept\u001b[0m \u001b[0mException\u001b[0m \u001b[0;32mas\u001b[0m \u001b[0me\u001b[0m\u001b[0;34m:\u001b[0m\u001b[0;34m\u001b[0m\u001b[0;34m\u001b[0m\u001b[0m\n\u001b[1;32m     67\u001b[0m             \u001b[0mfiltered_tb\u001b[0m \u001b[0;34m=\u001b[0m \u001b[0m_process_traceback_frames\u001b[0m\u001b[0;34m(\u001b[0m\u001b[0me\u001b[0m\u001b[0;34m.\u001b[0m\u001b[0m__traceback__\u001b[0m\u001b[0;34m)\u001b[0m\u001b[0;34m\u001b[0m\u001b[0;34m\u001b[0m\u001b[0m\n",
      "\u001b[0;32m/usr/local/lib/python3.10/dist-packages/keras/engine/training.py\u001b[0m in \u001b[0;36mfit\u001b[0;34m(self, x, y, batch_size, epochs, verbose, callbacks, validation_split, validation_data, shuffle, class_weight, sample_weight, initial_epoch, steps_per_epoch, validation_steps, validation_batch_size, validation_freq, max_queue_size, workers, use_multiprocessing)\u001b[0m\n\u001b[1;32m   1683\u001b[0m                         ):\n\u001b[1;32m   1684\u001b[0m                             \u001b[0mcallbacks\u001b[0m\u001b[0;34m.\u001b[0m\u001b[0mon_train_batch_begin\u001b[0m\u001b[0;34m(\u001b[0m\u001b[0mstep\u001b[0m\u001b[0;34m)\u001b[0m\u001b[0;34m\u001b[0m\u001b[0;34m\u001b[0m\u001b[0m\n\u001b[0;32m-> 1685\u001b[0;31m                             \u001b[0mtmp_logs\u001b[0m \u001b[0;34m=\u001b[0m \u001b[0mself\u001b[0m\u001b[0;34m.\u001b[0m\u001b[0mtrain_function\u001b[0m\u001b[0;34m(\u001b[0m\u001b[0miterator\u001b[0m\u001b[0;34m)\u001b[0m\u001b[0;34m\u001b[0m\u001b[0;34m\u001b[0m\u001b[0m\n\u001b[0m\u001b[1;32m   1686\u001b[0m                             \u001b[0;32mif\u001b[0m \u001b[0mdata_handler\u001b[0m\u001b[0;34m.\u001b[0m\u001b[0mshould_sync\u001b[0m\u001b[0;34m:\u001b[0m\u001b[0;34m\u001b[0m\u001b[0;34m\u001b[0m\u001b[0m\n\u001b[1;32m   1687\u001b[0m                                 \u001b[0mcontext\u001b[0m\u001b[0;34m.\u001b[0m\u001b[0masync_wait\u001b[0m\u001b[0;34m(\u001b[0m\u001b[0;34m)\u001b[0m\u001b[0;34m\u001b[0m\u001b[0;34m\u001b[0m\u001b[0m\n",
      "\u001b[0;32m/usr/local/lib/python3.10/dist-packages/tensorflow/python/util/traceback_utils.py\u001b[0m in \u001b[0;36merror_handler\u001b[0;34m(*args, **kwargs)\u001b[0m\n\u001b[1;32m    148\u001b[0m     \u001b[0mfiltered_tb\u001b[0m \u001b[0;34m=\u001b[0m \u001b[0;32mNone\u001b[0m\u001b[0;34m\u001b[0m\u001b[0;34m\u001b[0m\u001b[0m\n\u001b[1;32m    149\u001b[0m     \u001b[0;32mtry\u001b[0m\u001b[0;34m:\u001b[0m\u001b[0;34m\u001b[0m\u001b[0;34m\u001b[0m\u001b[0m\n\u001b[0;32m--> 150\u001b[0;31m       \u001b[0;32mreturn\u001b[0m \u001b[0mfn\u001b[0m\u001b[0;34m(\u001b[0m\u001b[0;34m*\u001b[0m\u001b[0margs\u001b[0m\u001b[0;34m,\u001b[0m \u001b[0;34m**\u001b[0m\u001b[0mkwargs\u001b[0m\u001b[0;34m)\u001b[0m\u001b[0;34m\u001b[0m\u001b[0;34m\u001b[0m\u001b[0m\n\u001b[0m\u001b[1;32m    151\u001b[0m     \u001b[0;32mexcept\u001b[0m \u001b[0mException\u001b[0m \u001b[0;32mas\u001b[0m \u001b[0me\u001b[0m\u001b[0;34m:\u001b[0m\u001b[0;34m\u001b[0m\u001b[0;34m\u001b[0m\u001b[0m\n\u001b[1;32m    152\u001b[0m       \u001b[0mfiltered_tb\u001b[0m \u001b[0;34m=\u001b[0m \u001b[0m_process_traceback_frames\u001b[0m\u001b[0;34m(\u001b[0m\u001b[0me\u001b[0m\u001b[0;34m.\u001b[0m\u001b[0m__traceback__\u001b[0m\u001b[0;34m)\u001b[0m\u001b[0;34m\u001b[0m\u001b[0;34m\u001b[0m\u001b[0m\n",
      "\u001b[0;32m/usr/local/lib/python3.10/dist-packages/tensorflow/python/eager/polymorphic_function/polymorphic_function.py\u001b[0m in \u001b[0;36m__call__\u001b[0;34m(self, *args, **kwds)\u001b[0m\n\u001b[1;32m    892\u001b[0m \u001b[0;34m\u001b[0m\u001b[0m\n\u001b[1;32m    893\u001b[0m       \u001b[0;32mwith\u001b[0m \u001b[0mOptionalXlaContext\u001b[0m\u001b[0;34m(\u001b[0m\u001b[0mself\u001b[0m\u001b[0;34m.\u001b[0m\u001b[0m_jit_compile\u001b[0m\u001b[0;34m)\u001b[0m\u001b[0;34m:\u001b[0m\u001b[0;34m\u001b[0m\u001b[0;34m\u001b[0m\u001b[0m\n\u001b[0;32m--> 894\u001b[0;31m         \u001b[0mresult\u001b[0m \u001b[0;34m=\u001b[0m \u001b[0mself\u001b[0m\u001b[0;34m.\u001b[0m\u001b[0m_call\u001b[0m\u001b[0;34m(\u001b[0m\u001b[0;34m*\u001b[0m\u001b[0margs\u001b[0m\u001b[0;34m,\u001b[0m \u001b[0;34m**\u001b[0m\u001b[0mkwds\u001b[0m\u001b[0;34m)\u001b[0m\u001b[0;34m\u001b[0m\u001b[0;34m\u001b[0m\u001b[0m\n\u001b[0m\u001b[1;32m    895\u001b[0m \u001b[0;34m\u001b[0m\u001b[0m\n\u001b[1;32m    896\u001b[0m       \u001b[0mnew_tracing_count\u001b[0m \u001b[0;34m=\u001b[0m \u001b[0mself\u001b[0m\u001b[0;34m.\u001b[0m\u001b[0mexperimental_get_tracing_count\u001b[0m\u001b[0;34m(\u001b[0m\u001b[0;34m)\u001b[0m\u001b[0;34m\u001b[0m\u001b[0;34m\u001b[0m\u001b[0m\n",
      "\u001b[0;32m/usr/local/lib/python3.10/dist-packages/tensorflow/python/eager/polymorphic_function/polymorphic_function.py\u001b[0m in \u001b[0;36m_call\u001b[0;34m(self, *args, **kwds)\u001b[0m\n\u001b[1;32m    924\u001b[0m       \u001b[0;31m# In this case we have created variables on the first call, so we run the\u001b[0m\u001b[0;34m\u001b[0m\u001b[0;34m\u001b[0m\u001b[0m\n\u001b[1;32m    925\u001b[0m       \u001b[0;31m# defunned version which is guaranteed to never create variables.\u001b[0m\u001b[0;34m\u001b[0m\u001b[0;34m\u001b[0m\u001b[0m\n\u001b[0;32m--> 926\u001b[0;31m       \u001b[0;32mreturn\u001b[0m \u001b[0mself\u001b[0m\u001b[0;34m.\u001b[0m\u001b[0m_no_variable_creation_fn\u001b[0m\u001b[0;34m(\u001b[0m\u001b[0;34m*\u001b[0m\u001b[0margs\u001b[0m\u001b[0;34m,\u001b[0m \u001b[0;34m**\u001b[0m\u001b[0mkwds\u001b[0m\u001b[0;34m)\u001b[0m  \u001b[0;31m# pylint: disable=not-callable\u001b[0m\u001b[0;34m\u001b[0m\u001b[0;34m\u001b[0m\u001b[0m\n\u001b[0m\u001b[1;32m    927\u001b[0m     \u001b[0;32melif\u001b[0m \u001b[0mself\u001b[0m\u001b[0;34m.\u001b[0m\u001b[0m_variable_creation_fn\u001b[0m \u001b[0;32mis\u001b[0m \u001b[0;32mnot\u001b[0m \u001b[0;32mNone\u001b[0m\u001b[0;34m:\u001b[0m\u001b[0;34m\u001b[0m\u001b[0;34m\u001b[0m\u001b[0m\n\u001b[1;32m    928\u001b[0m       \u001b[0;31m# Release the lock early so that multiple threads can perform the call\u001b[0m\u001b[0;34m\u001b[0m\u001b[0;34m\u001b[0m\u001b[0m\n",
      "\u001b[0;32m/usr/local/lib/python3.10/dist-packages/tensorflow/python/eager/polymorphic_function/tracing_compiler.py\u001b[0m in \u001b[0;36m__call__\u001b[0;34m(self, *args, **kwargs)\u001b[0m\n\u001b[1;32m    141\u001b[0m       (concrete_function,\n\u001b[1;32m    142\u001b[0m        filtered_flat_args) = self._maybe_define_function(args, kwargs)\n\u001b[0;32m--> 143\u001b[0;31m     return concrete_function._call_flat(\n\u001b[0m\u001b[1;32m    144\u001b[0m         filtered_flat_args, captured_inputs=concrete_function.captured_inputs)  # pylint: disable=protected-access\n\u001b[1;32m    145\u001b[0m \u001b[0;34m\u001b[0m\u001b[0m\n",
      "\u001b[0;32m/usr/local/lib/python3.10/dist-packages/tensorflow/python/eager/polymorphic_function/monomorphic_function.py\u001b[0m in \u001b[0;36m_call_flat\u001b[0;34m(self, args, captured_inputs, cancellation_manager)\u001b[0m\n\u001b[1;32m   1755\u001b[0m         and executing_eagerly):\n\u001b[1;32m   1756\u001b[0m       \u001b[0;31m# No tape is watching; skip to running the function.\u001b[0m\u001b[0;34m\u001b[0m\u001b[0;34m\u001b[0m\u001b[0m\n\u001b[0;32m-> 1757\u001b[0;31m       return self._build_call_outputs(self._inference_function.call(\n\u001b[0m\u001b[1;32m   1758\u001b[0m           ctx, args, cancellation_manager=cancellation_manager))\n\u001b[1;32m   1759\u001b[0m     forward_backward = self._select_forward_and_backward_functions(\n",
      "\u001b[0;32m/usr/local/lib/python3.10/dist-packages/tensorflow/python/eager/polymorphic_function/monomorphic_function.py\u001b[0m in \u001b[0;36mcall\u001b[0;34m(self, ctx, args, cancellation_manager)\u001b[0m\n\u001b[1;32m    379\u001b[0m       \u001b[0;32mwith\u001b[0m \u001b[0m_InterpolateFunctionError\u001b[0m\u001b[0;34m(\u001b[0m\u001b[0mself\u001b[0m\u001b[0;34m)\u001b[0m\u001b[0;34m:\u001b[0m\u001b[0;34m\u001b[0m\u001b[0;34m\u001b[0m\u001b[0m\n\u001b[1;32m    380\u001b[0m         \u001b[0;32mif\u001b[0m \u001b[0mcancellation_manager\u001b[0m \u001b[0;32mis\u001b[0m \u001b[0;32mNone\u001b[0m\u001b[0;34m:\u001b[0m\u001b[0;34m\u001b[0m\u001b[0;34m\u001b[0m\u001b[0m\n\u001b[0;32m--> 381\u001b[0;31m           outputs = execute.execute(\n\u001b[0m\u001b[1;32m    382\u001b[0m               \u001b[0mstr\u001b[0m\u001b[0;34m(\u001b[0m\u001b[0mself\u001b[0m\u001b[0;34m.\u001b[0m\u001b[0msignature\u001b[0m\u001b[0;34m.\u001b[0m\u001b[0mname\u001b[0m\u001b[0;34m)\u001b[0m\u001b[0;34m,\u001b[0m\u001b[0;34m\u001b[0m\u001b[0;34m\u001b[0m\u001b[0m\n\u001b[1;32m    383\u001b[0m               \u001b[0mnum_outputs\u001b[0m\u001b[0;34m=\u001b[0m\u001b[0mself\u001b[0m\u001b[0;34m.\u001b[0m\u001b[0m_num_outputs\u001b[0m\u001b[0;34m,\u001b[0m\u001b[0;34m\u001b[0m\u001b[0;34m\u001b[0m\u001b[0m\n",
      "\u001b[0;32m/usr/local/lib/python3.10/dist-packages/tensorflow/python/eager/execute.py\u001b[0m in \u001b[0;36mquick_execute\u001b[0;34m(op_name, num_outputs, inputs, attrs, ctx, name)\u001b[0m\n\u001b[1;32m     50\u001b[0m   \u001b[0;32mtry\u001b[0m\u001b[0;34m:\u001b[0m\u001b[0;34m\u001b[0m\u001b[0;34m\u001b[0m\u001b[0m\n\u001b[1;32m     51\u001b[0m     \u001b[0mctx\u001b[0m\u001b[0;34m.\u001b[0m\u001b[0mensure_initialized\u001b[0m\u001b[0;34m(\u001b[0m\u001b[0;34m)\u001b[0m\u001b[0;34m\u001b[0m\u001b[0;34m\u001b[0m\u001b[0m\n\u001b[0;32m---> 52\u001b[0;31m     tensors = pywrap_tfe.TFE_Py_Execute(ctx._handle, device_name, op_name,\n\u001b[0m\u001b[1;32m     53\u001b[0m                                         inputs, attrs, num_outputs)\n\u001b[1;32m     54\u001b[0m   \u001b[0;32mexcept\u001b[0m \u001b[0mcore\u001b[0m\u001b[0;34m.\u001b[0m\u001b[0m_NotOkStatusException\u001b[0m \u001b[0;32mas\u001b[0m \u001b[0me\u001b[0m\u001b[0;34m:\u001b[0m\u001b[0;34m\u001b[0m\u001b[0;34m\u001b[0m\u001b[0m\n",
      "\u001b[0;31mKeyboardInterrupt\u001b[0m: "
     ]
    }
   ],
   "source": [
    "history = model.fit_generator(train_generator, validation_data = validation_generator, epochs=50, verbose=1)"
   ]
  },
  {
   "cell_type": "code",
   "execution_count": null,
   "id": "CNY8RY2BuUMI",
   "metadata": {
    "id": "CNY8RY2BuUMI"
   },
   "outputs": [],
   "source": [
    "plot_learning_curve(history.history['loss'], history.history['val_loss'], \n",
    "                    history.history['categorical_accuracy'], history.history['val_categorical_accuracy'], \n",
    "                    metric_name='Accuracy')"
   ]
  },
  {
   "cell_type": "markdown",
   "id": "W4KbCJU3zwdv",
   "metadata": {
    "id": "W4KbCJU3zwdv"
   },
   "source": [
    "### VGG 1 - Deep Learning Model"
   ]
  },
  {
   "cell_type": "code",
   "execution_count": null,
   "id": "2vXFyh89zyiy",
   "metadata": {
    "colab": {
     "base_uri": "https://localhost:8080/",
     "height": 240
    },
    "id": "2vXFyh89zyiy",
    "outputId": "3381b0f9-0c87-4f6b-ef57-6156afe67eff"
   },
   "outputs": [
    {
     "ename": "NameError",
     "evalue": "ignored",
     "output_type": "error",
     "traceback": [
      "\u001b[0;31m---------------------------------------------------------------------------\u001b[0m",
      "\u001b[0;31mNameError\u001b[0m                                 Traceback (most recent call last)",
      "\u001b[0;32m<ipython-input-12-c3ec5760706d>\u001b[0m in \u001b[0;36m<cell line: 3>\u001b[0;34m()\u001b[0m\n\u001b[1;32m      3\u001b[0m model_VGG_1 = tf.keras.Sequential([\n\u001b[1;32m      4\u001b[0m     \u001b[0;31m#VGG block 1\u001b[0m\u001b[0;34m\u001b[0m\u001b[0;34m\u001b[0m\u001b[0m\n\u001b[0;32m----> 5\u001b[0;31m     \u001b[0mtf\u001b[0m\u001b[0;34m.\u001b[0m\u001b[0mkeras\u001b[0m\u001b[0;34m.\u001b[0m\u001b[0mlayers\u001b[0m\u001b[0;34m.\u001b[0m\u001b[0mConv2D\u001b[0m\u001b[0;34m(\u001b[0m\u001b[0;36m32\u001b[0m\u001b[0;34m,\u001b[0m \u001b[0;34m(\u001b[0m\u001b[0;36m3\u001b[0m\u001b[0;34m,\u001b[0m \u001b[0;36m3\u001b[0m\u001b[0;34m)\u001b[0m\u001b[0;34m,\u001b[0m \u001b[0mactivation\u001b[0m\u001b[0;34m=\u001b[0m\u001b[0;34m'relu'\u001b[0m\u001b[0;34m,\u001b[0m \u001b[0mpadding\u001b[0m\u001b[0;34m=\u001b[0m\u001b[0;34m'same'\u001b[0m\u001b[0;34m,\u001b[0m \u001b[0minput_shape\u001b[0m\u001b[0;34m=\u001b[0m\u001b[0mINPUT_DIM\u001b[0m\u001b[0;34m)\u001b[0m\u001b[0;34m,\u001b[0m\u001b[0;34m\u001b[0m\u001b[0;34m\u001b[0m\u001b[0m\n\u001b[0m\u001b[1;32m      6\u001b[0m     \u001b[0mtf\u001b[0m\u001b[0;34m.\u001b[0m\u001b[0mkeras\u001b[0m\u001b[0;34m.\u001b[0m\u001b[0mlayers\u001b[0m\u001b[0;34m.\u001b[0m\u001b[0mConv2D\u001b[0m\u001b[0;34m(\u001b[0m\u001b[0;36m32\u001b[0m\u001b[0;34m,\u001b[0m \u001b[0;34m(\u001b[0m\u001b[0;36m3\u001b[0m\u001b[0;34m,\u001b[0m \u001b[0;36m3\u001b[0m\u001b[0;34m)\u001b[0m\u001b[0;34m,\u001b[0m \u001b[0mactivation\u001b[0m\u001b[0;34m=\u001b[0m\u001b[0;34m'relu'\u001b[0m\u001b[0;34m,\u001b[0m \u001b[0mpadding\u001b[0m\u001b[0;34m=\u001b[0m\u001b[0;34m'same'\u001b[0m\u001b[0;34m)\u001b[0m\u001b[0;34m,\u001b[0m\u001b[0;34m\u001b[0m\u001b[0;34m\u001b[0m\u001b[0m\n\u001b[1;32m      7\u001b[0m     \u001b[0mtf\u001b[0m\u001b[0;34m.\u001b[0m\u001b[0mkeras\u001b[0m\u001b[0;34m.\u001b[0m\u001b[0mlayers\u001b[0m\u001b[0;34m.\u001b[0m\u001b[0mMaxPooling2D\u001b[0m\u001b[0;34m(\u001b[0m\u001b[0;34m(\u001b[0m\u001b[0;36m2\u001b[0m\u001b[0;34m,\u001b[0m \u001b[0;36m2\u001b[0m\u001b[0;34m)\u001b[0m\u001b[0;34m)\u001b[0m\u001b[0;34m,\u001b[0m\u001b[0;34m\u001b[0m\u001b[0;34m\u001b[0m\u001b[0m\n",
      "\u001b[0;31mNameError\u001b[0m: name 'INPUT_DIM' is not defined"
     ]
    }
   ],
   "source": [
    "import tensorflow as tf\n",
    "\n",
    "model_VGG_1 = tf.keras.Sequential([\n",
    "    #VGG block 1\n",
    "    tf.keras.layers.Conv2D(32, (3, 3), activation='relu', padding='same', input_shape=INPUT_DIM),\n",
    "    tf.keras.layers.Conv2D(32, (3, 3), activation='relu', padding='same'),\n",
    "    tf.keras.layers.MaxPooling2D((2, 2)),\n",
    "    \n",
    "    #VGG block 2\n",
    "    tf.keras.layers.Conv2D(64, (3, 3), activation='relu', padding='same'),\n",
    "    tf.keras.layers.Conv2D(64, (3, 3), activation='relu', padding='same'),\n",
    "    tf.keras.layers.MaxPooling2D((2, 2)),\n",
    "    \n",
    "    #VGG block 3\n",
    "    tf.keras.layers.Conv2D(128, (3, 3), activation='relu', padding='same'),\n",
    "    tf.keras.layers.Conv2D(128, (3, 3), activation='relu', padding='same'),\n",
    "    tf.keras.layers.MaxPooling2D((2, 2)),\n",
    "    \n",
    "    tf.keras.layers.Flatten(),\n",
    "    tf.keras.layers.Dense(128, activation='sigmoid'),\n",
    "    tf.keras.layers.Dropout(0.2),\n",
    "    tf.keras.layers.Dense(OUTPUT_CLASSES),\n",
    "])\n",
    "\n",
    "model_VGG_1.summary()"
   ]
  },
  {
   "cell_type": "code",
   "execution_count": null,
   "id": "Z0Ya9_em0GQx",
   "metadata": {
    "id": "Z0Ya9_em0GQx"
   },
   "outputs": [],
   "source": [
    "tf.keras.utils.plot_model(model_VGG_1, show_shapes=True)"
   ]
  },
  {
   "cell_type": "code",
   "execution_count": null,
   "id": "rYbQVTc-0I4C",
   "metadata": {
    "id": "rYbQVTc-0I4C"
   },
   "outputs": [],
   "source": [
    "model_VGG_1.compile(optimizer='adam',\n",
    "              loss=tf.keras.losses.BinaryCrossentropy(from_logits=True),\n",
    "              metrics=['binary_accuracy'])"
   ]
  },
  {
   "cell_type": "code",
   "execution_count": null,
   "id": "CnUiUKmN0KgB",
   "metadata": {
    "id": "CnUiUKmN0KgB"
   },
   "outputs": [],
   "source": [
    "history2 = model_VGG_1.fit_generator(train_generator, validation_data = validation_generator, epochs=50, verbose=1)"
   ]
  },
  {
   "cell_type": "code",
   "execution_count": null,
   "id": "5Oq2tyqO0MLj",
   "metadata": {
    "id": "5Oq2tyqO0MLj"
   },
   "outputs": [],
   "source": [
    "plot_learning_curve(history2.history['loss'], history2.history['val_loss'], \n",
    "                    history2.history['binary_accuracy'], history2.history['val_binary_accuracy'], \n",
    "                    metric_name='Accuracy')"
   ]
  },
  {
   "cell_type": "markdown",
   "id": "vHSBWLX8Z2I4",
   "metadata": {
    "id": "vHSBWLX8Z2I4"
   },
   "source": [
    "### VGG 2 - Preventing Overfitting"
   ]
  },
  {
   "cell_type": "code",
   "execution_count": null,
   "id": "T1SWFHudbP-7",
   "metadata": {
    "id": "T1SWFHudbP-7"
   },
   "outputs": [],
   "source": [
    "reg_lambda = 0.001\n",
    "\n",
    "model_VGG_2 = tf.keras.Sequential([\n",
    "    #VGG block 1\n",
    "    tf.keras.layers.Conv2D(32, (3, 3), activation='relu', padding='same', \n",
    "                           kernel_regularizer=tf.keras.regularizers.l2(reg_lambda), input_shape=INPUT_DIM),\n",
    "    tf.keras.layers.Conv2D(32, (3, 3), activation='relu', padding='same', \n",
    "                           kernel_regularizer=tf.keras.regularizers.l2(reg_lambda)),\n",
    "    tf.keras.layers.MaxPooling2D((2, 2)),\n",
    "    \n",
    "    #VGG block 2\n",
    "    tf.keras.layers.Conv2D(64, (3, 3), activation='relu', padding='same', \n",
    "                           kernel_regularizer=tf.keras.regularizers.l2(reg_lambda)),\n",
    "    tf.keras.layers.Conv2D(64, (3, 3), activation='relu', padding='same', \n",
    "                           kernel_regularizer=tf.keras.regularizers.l2(reg_lambda)),\n",
    "    tf.keras.layers.MaxPooling2D((2, 2)),\n",
    "    \n",
    "    #VGG block 3\n",
    "    tf.keras.layers.Conv2D(128, (3, 3), activation='relu', padding='same', \n",
    "                           kernel_regularizer=tf.keras.regularizers.l2(reg_lambda)),\n",
    "    tf.keras.layers.Conv2D(128, (3, 3), activation='relu', padding='same', \n",
    "                           kernel_regularizer=tf.keras.regularizers.l2(reg_lambda)),\n",
    "    tf.keras.layers.MaxPooling2D((2, 2)),\n",
    "    \n",
    "    \n",
    "    tf.keras.layers.Flatten(),\n",
    "    tf.keras.layers.Dense(128, activation='relu', kernel_regularizer=tf.keras.regularizers.l2(reg_lambda)),\n",
    "    tf.keras.layers.Dropout(0.2),\n",
    "    tf.keras.layers.Dense(OUTPUT_CLASSES),\n",
    "])"
   ]
  },
  {
   "cell_type": "code",
   "execution_count": null,
   "id": "hF6UEfOcfYEV",
   "metadata": {
    "id": "hF6UEfOcfYEV"
   },
   "outputs": [],
   "source": [
    "model_VGG_2.compile(optimizer='adam',\n",
    "              loss=tf.keras.losses.BinaryCrossentropy(from_logits=True),\n",
    "              metrics=['binary_accuracy'])"
   ]
  },
  {
   "cell_type": "code",
   "execution_count": null,
   "id": "c9oV7PLfgRl6",
   "metadata": {
    "colab": {
     "base_uri": "https://localhost:8080/",
     "height": 445
    },
    "id": "c9oV7PLfgRl6",
    "outputId": "4093014b-6d56-4aae-9269-8725fe555578"
   },
   "outputs": [
    {
     "name": "stdout",
     "output_type": "stream",
     "text": [
      "Epoch 1/50\n"
     ]
    },
    {
     "name": "stderr",
     "output_type": "stream",
     "text": [
      "<ipython-input-20-695ed4e5378e>:1: UserWarning: `Model.fit_generator` is deprecated and will be removed in a future version. Please use `Model.fit`, which supports generators.\n",
      "  history3 = model_VGG_2.fit_generator(train_generator, validation_data = validation_generator, epochs=50, verbose=1)\n"
     ]
    },
    {
     "name": "stdout",
     "output_type": "stream",
     "text": [
      "381/381 [==============================] - 97s 250ms/step - loss: 0.5757 - binary_accuracy: 0.7380 - val_loss: 0.4121 - val_binary_accuracy: 0.8226\n",
      "Epoch 2/50\n",
      " 25/381 [>.............................] - ETA: 1:08 - loss: 0.4456 - binary_accuracy: 0.8073"
     ]
    },
    {
     "ename": "KeyboardInterrupt",
     "evalue": "ignored",
     "output_type": "error",
     "traceback": [
      "\u001b[0;31m---------------------------------------------------------------------------\u001b[0m",
      "\u001b[0;31mKeyboardInterrupt\u001b[0m                         Traceback (most recent call last)",
      "\u001b[0;32m<ipython-input-20-695ed4e5378e>\u001b[0m in \u001b[0;36m<cell line: 1>\u001b[0;34m()\u001b[0m\n\u001b[0;32m----> 1\u001b[0;31m \u001b[0mhistory3\u001b[0m \u001b[0;34m=\u001b[0m \u001b[0mmodel_VGG_2\u001b[0m\u001b[0;34m.\u001b[0m\u001b[0mfit_generator\u001b[0m\u001b[0;34m(\u001b[0m\u001b[0mtrain_generator\u001b[0m\u001b[0;34m,\u001b[0m \u001b[0mvalidation_data\u001b[0m \u001b[0;34m=\u001b[0m \u001b[0mvalidation_generator\u001b[0m\u001b[0;34m,\u001b[0m \u001b[0mepochs\u001b[0m\u001b[0;34m=\u001b[0m\u001b[0;36m50\u001b[0m\u001b[0;34m,\u001b[0m \u001b[0mverbose\u001b[0m\u001b[0;34m=\u001b[0m\u001b[0;36m1\u001b[0m\u001b[0;34m)\u001b[0m\u001b[0;34m\u001b[0m\u001b[0;34m\u001b[0m\u001b[0m\n\u001b[0m",
      "\u001b[0;32m/usr/local/lib/python3.10/dist-packages/keras/engine/training.py\u001b[0m in \u001b[0;36mfit_generator\u001b[0;34m(self, generator, steps_per_epoch, epochs, verbose, callbacks, validation_data, validation_steps, validation_freq, class_weight, max_queue_size, workers, use_multiprocessing, shuffle, initial_epoch)\u001b[0m\n\u001b[1;32m   2634\u001b[0m             \u001b[0mstacklevel\u001b[0m\u001b[0;34m=\u001b[0m\u001b[0;36m2\u001b[0m\u001b[0;34m,\u001b[0m\u001b[0;34m\u001b[0m\u001b[0;34m\u001b[0m\u001b[0m\n\u001b[1;32m   2635\u001b[0m         )\n\u001b[0;32m-> 2636\u001b[0;31m         return self.fit(\n\u001b[0m\u001b[1;32m   2637\u001b[0m             \u001b[0mgenerator\u001b[0m\u001b[0;34m,\u001b[0m\u001b[0;34m\u001b[0m\u001b[0;34m\u001b[0m\u001b[0m\n\u001b[1;32m   2638\u001b[0m             \u001b[0msteps_per_epoch\u001b[0m\u001b[0;34m=\u001b[0m\u001b[0msteps_per_epoch\u001b[0m\u001b[0;34m,\u001b[0m\u001b[0;34m\u001b[0m\u001b[0;34m\u001b[0m\u001b[0m\n",
      "\u001b[0;32m/usr/local/lib/python3.10/dist-packages/keras/utils/traceback_utils.py\u001b[0m in \u001b[0;36merror_handler\u001b[0;34m(*args, **kwargs)\u001b[0m\n\u001b[1;32m     63\u001b[0m         \u001b[0mfiltered_tb\u001b[0m \u001b[0;34m=\u001b[0m \u001b[0;32mNone\u001b[0m\u001b[0;34m\u001b[0m\u001b[0;34m\u001b[0m\u001b[0m\n\u001b[1;32m     64\u001b[0m         \u001b[0;32mtry\u001b[0m\u001b[0;34m:\u001b[0m\u001b[0;34m\u001b[0m\u001b[0;34m\u001b[0m\u001b[0m\n\u001b[0;32m---> 65\u001b[0;31m             \u001b[0;32mreturn\u001b[0m \u001b[0mfn\u001b[0m\u001b[0;34m(\u001b[0m\u001b[0;34m*\u001b[0m\u001b[0margs\u001b[0m\u001b[0;34m,\u001b[0m \u001b[0;34m**\u001b[0m\u001b[0mkwargs\u001b[0m\u001b[0;34m)\u001b[0m\u001b[0;34m\u001b[0m\u001b[0;34m\u001b[0m\u001b[0m\n\u001b[0m\u001b[1;32m     66\u001b[0m         \u001b[0;32mexcept\u001b[0m \u001b[0mException\u001b[0m \u001b[0;32mas\u001b[0m \u001b[0me\u001b[0m\u001b[0;34m:\u001b[0m\u001b[0;34m\u001b[0m\u001b[0;34m\u001b[0m\u001b[0m\n\u001b[1;32m     67\u001b[0m             \u001b[0mfiltered_tb\u001b[0m \u001b[0;34m=\u001b[0m \u001b[0m_process_traceback_frames\u001b[0m\u001b[0;34m(\u001b[0m\u001b[0me\u001b[0m\u001b[0;34m.\u001b[0m\u001b[0m__traceback__\u001b[0m\u001b[0;34m)\u001b[0m\u001b[0;34m\u001b[0m\u001b[0;34m\u001b[0m\u001b[0m\n",
      "\u001b[0;32m/usr/local/lib/python3.10/dist-packages/keras/engine/training.py\u001b[0m in \u001b[0;36mfit\u001b[0;34m(self, x, y, batch_size, epochs, verbose, callbacks, validation_split, validation_data, shuffle, class_weight, sample_weight, initial_epoch, steps_per_epoch, validation_steps, validation_batch_size, validation_freq, max_queue_size, workers, use_multiprocessing)\u001b[0m\n\u001b[1;32m   1683\u001b[0m                         ):\n\u001b[1;32m   1684\u001b[0m                             \u001b[0mcallbacks\u001b[0m\u001b[0;34m.\u001b[0m\u001b[0mon_train_batch_begin\u001b[0m\u001b[0;34m(\u001b[0m\u001b[0mstep\u001b[0m\u001b[0;34m)\u001b[0m\u001b[0;34m\u001b[0m\u001b[0;34m\u001b[0m\u001b[0m\n\u001b[0;32m-> 1685\u001b[0;31m                             \u001b[0mtmp_logs\u001b[0m \u001b[0;34m=\u001b[0m \u001b[0mself\u001b[0m\u001b[0;34m.\u001b[0m\u001b[0mtrain_function\u001b[0m\u001b[0;34m(\u001b[0m\u001b[0miterator\u001b[0m\u001b[0;34m)\u001b[0m\u001b[0;34m\u001b[0m\u001b[0;34m\u001b[0m\u001b[0m\n\u001b[0m\u001b[1;32m   1686\u001b[0m                             \u001b[0;32mif\u001b[0m \u001b[0mdata_handler\u001b[0m\u001b[0;34m.\u001b[0m\u001b[0mshould_sync\u001b[0m\u001b[0;34m:\u001b[0m\u001b[0;34m\u001b[0m\u001b[0;34m\u001b[0m\u001b[0m\n\u001b[1;32m   1687\u001b[0m                                 \u001b[0mcontext\u001b[0m\u001b[0;34m.\u001b[0m\u001b[0masync_wait\u001b[0m\u001b[0;34m(\u001b[0m\u001b[0;34m)\u001b[0m\u001b[0;34m\u001b[0m\u001b[0;34m\u001b[0m\u001b[0m\n",
      "\u001b[0;32m/usr/local/lib/python3.10/dist-packages/tensorflow/python/util/traceback_utils.py\u001b[0m in \u001b[0;36merror_handler\u001b[0;34m(*args, **kwargs)\u001b[0m\n\u001b[1;32m    148\u001b[0m     \u001b[0mfiltered_tb\u001b[0m \u001b[0;34m=\u001b[0m \u001b[0;32mNone\u001b[0m\u001b[0;34m\u001b[0m\u001b[0;34m\u001b[0m\u001b[0m\n\u001b[1;32m    149\u001b[0m     \u001b[0;32mtry\u001b[0m\u001b[0;34m:\u001b[0m\u001b[0;34m\u001b[0m\u001b[0;34m\u001b[0m\u001b[0m\n\u001b[0;32m--> 150\u001b[0;31m       \u001b[0;32mreturn\u001b[0m \u001b[0mfn\u001b[0m\u001b[0;34m(\u001b[0m\u001b[0;34m*\u001b[0m\u001b[0margs\u001b[0m\u001b[0;34m,\u001b[0m \u001b[0;34m**\u001b[0m\u001b[0mkwargs\u001b[0m\u001b[0;34m)\u001b[0m\u001b[0;34m\u001b[0m\u001b[0;34m\u001b[0m\u001b[0m\n\u001b[0m\u001b[1;32m    151\u001b[0m     \u001b[0;32mexcept\u001b[0m \u001b[0mException\u001b[0m \u001b[0;32mas\u001b[0m \u001b[0me\u001b[0m\u001b[0;34m:\u001b[0m\u001b[0;34m\u001b[0m\u001b[0;34m\u001b[0m\u001b[0m\n\u001b[1;32m    152\u001b[0m       \u001b[0mfiltered_tb\u001b[0m \u001b[0;34m=\u001b[0m \u001b[0m_process_traceback_frames\u001b[0m\u001b[0;34m(\u001b[0m\u001b[0me\u001b[0m\u001b[0;34m.\u001b[0m\u001b[0m__traceback__\u001b[0m\u001b[0;34m)\u001b[0m\u001b[0;34m\u001b[0m\u001b[0;34m\u001b[0m\u001b[0m\n",
      "\u001b[0;32m/usr/local/lib/python3.10/dist-packages/tensorflow/python/eager/polymorphic_function/polymorphic_function.py\u001b[0m in \u001b[0;36m__call__\u001b[0;34m(self, *args, **kwds)\u001b[0m\n\u001b[1;32m    892\u001b[0m \u001b[0;34m\u001b[0m\u001b[0m\n\u001b[1;32m    893\u001b[0m       \u001b[0;32mwith\u001b[0m \u001b[0mOptionalXlaContext\u001b[0m\u001b[0;34m(\u001b[0m\u001b[0mself\u001b[0m\u001b[0;34m.\u001b[0m\u001b[0m_jit_compile\u001b[0m\u001b[0;34m)\u001b[0m\u001b[0;34m:\u001b[0m\u001b[0;34m\u001b[0m\u001b[0;34m\u001b[0m\u001b[0m\n\u001b[0;32m--> 894\u001b[0;31m         \u001b[0mresult\u001b[0m \u001b[0;34m=\u001b[0m \u001b[0mself\u001b[0m\u001b[0;34m.\u001b[0m\u001b[0m_call\u001b[0m\u001b[0;34m(\u001b[0m\u001b[0;34m*\u001b[0m\u001b[0margs\u001b[0m\u001b[0;34m,\u001b[0m \u001b[0;34m**\u001b[0m\u001b[0mkwds\u001b[0m\u001b[0;34m)\u001b[0m\u001b[0;34m\u001b[0m\u001b[0;34m\u001b[0m\u001b[0m\n\u001b[0m\u001b[1;32m    895\u001b[0m \u001b[0;34m\u001b[0m\u001b[0m\n\u001b[1;32m    896\u001b[0m       \u001b[0mnew_tracing_count\u001b[0m \u001b[0;34m=\u001b[0m \u001b[0mself\u001b[0m\u001b[0;34m.\u001b[0m\u001b[0mexperimental_get_tracing_count\u001b[0m\u001b[0;34m(\u001b[0m\u001b[0;34m)\u001b[0m\u001b[0;34m\u001b[0m\u001b[0;34m\u001b[0m\u001b[0m\n",
      "\u001b[0;32m/usr/local/lib/python3.10/dist-packages/tensorflow/python/eager/polymorphic_function/polymorphic_function.py\u001b[0m in \u001b[0;36m_call\u001b[0;34m(self, *args, **kwds)\u001b[0m\n\u001b[1;32m    924\u001b[0m       \u001b[0;31m# In this case we have created variables on the first call, so we run the\u001b[0m\u001b[0;34m\u001b[0m\u001b[0;34m\u001b[0m\u001b[0m\n\u001b[1;32m    925\u001b[0m       \u001b[0;31m# defunned version which is guaranteed to never create variables.\u001b[0m\u001b[0;34m\u001b[0m\u001b[0;34m\u001b[0m\u001b[0m\n\u001b[0;32m--> 926\u001b[0;31m       \u001b[0;32mreturn\u001b[0m \u001b[0mself\u001b[0m\u001b[0;34m.\u001b[0m\u001b[0m_no_variable_creation_fn\u001b[0m\u001b[0;34m(\u001b[0m\u001b[0;34m*\u001b[0m\u001b[0margs\u001b[0m\u001b[0;34m,\u001b[0m \u001b[0;34m**\u001b[0m\u001b[0mkwds\u001b[0m\u001b[0;34m)\u001b[0m  \u001b[0;31m# pylint: disable=not-callable\u001b[0m\u001b[0;34m\u001b[0m\u001b[0;34m\u001b[0m\u001b[0m\n\u001b[0m\u001b[1;32m    927\u001b[0m     \u001b[0;32melif\u001b[0m \u001b[0mself\u001b[0m\u001b[0;34m.\u001b[0m\u001b[0m_variable_creation_fn\u001b[0m \u001b[0;32mis\u001b[0m \u001b[0;32mnot\u001b[0m \u001b[0;32mNone\u001b[0m\u001b[0;34m:\u001b[0m\u001b[0;34m\u001b[0m\u001b[0;34m\u001b[0m\u001b[0m\n\u001b[1;32m    928\u001b[0m       \u001b[0;31m# Release the lock early so that multiple threads can perform the call\u001b[0m\u001b[0;34m\u001b[0m\u001b[0;34m\u001b[0m\u001b[0m\n",
      "\u001b[0;32m/usr/local/lib/python3.10/dist-packages/tensorflow/python/eager/polymorphic_function/tracing_compiler.py\u001b[0m in \u001b[0;36m__call__\u001b[0;34m(self, *args, **kwargs)\u001b[0m\n\u001b[1;32m    141\u001b[0m       (concrete_function,\n\u001b[1;32m    142\u001b[0m        filtered_flat_args) = self._maybe_define_function(args, kwargs)\n\u001b[0;32m--> 143\u001b[0;31m     return concrete_function._call_flat(\n\u001b[0m\u001b[1;32m    144\u001b[0m         filtered_flat_args, captured_inputs=concrete_function.captured_inputs)  # pylint: disable=protected-access\n\u001b[1;32m    145\u001b[0m \u001b[0;34m\u001b[0m\u001b[0m\n",
      "\u001b[0;32m/usr/local/lib/python3.10/dist-packages/tensorflow/python/eager/polymorphic_function/monomorphic_function.py\u001b[0m in \u001b[0;36m_call_flat\u001b[0;34m(self, args, captured_inputs, cancellation_manager)\u001b[0m\n\u001b[1;32m   1755\u001b[0m         and executing_eagerly):\n\u001b[1;32m   1756\u001b[0m       \u001b[0;31m# No tape is watching; skip to running the function.\u001b[0m\u001b[0;34m\u001b[0m\u001b[0;34m\u001b[0m\u001b[0m\n\u001b[0;32m-> 1757\u001b[0;31m       return self._build_call_outputs(self._inference_function.call(\n\u001b[0m\u001b[1;32m   1758\u001b[0m           ctx, args, cancellation_manager=cancellation_manager))\n\u001b[1;32m   1759\u001b[0m     forward_backward = self._select_forward_and_backward_functions(\n",
      "\u001b[0;32m/usr/local/lib/python3.10/dist-packages/tensorflow/python/eager/polymorphic_function/monomorphic_function.py\u001b[0m in \u001b[0;36mcall\u001b[0;34m(self, ctx, args, cancellation_manager)\u001b[0m\n\u001b[1;32m    379\u001b[0m       \u001b[0;32mwith\u001b[0m \u001b[0m_InterpolateFunctionError\u001b[0m\u001b[0;34m(\u001b[0m\u001b[0mself\u001b[0m\u001b[0;34m)\u001b[0m\u001b[0;34m:\u001b[0m\u001b[0;34m\u001b[0m\u001b[0;34m\u001b[0m\u001b[0m\n\u001b[1;32m    380\u001b[0m         \u001b[0;32mif\u001b[0m \u001b[0mcancellation_manager\u001b[0m \u001b[0;32mis\u001b[0m \u001b[0;32mNone\u001b[0m\u001b[0;34m:\u001b[0m\u001b[0;34m\u001b[0m\u001b[0;34m\u001b[0m\u001b[0m\n\u001b[0;32m--> 381\u001b[0;31m           outputs = execute.execute(\n\u001b[0m\u001b[1;32m    382\u001b[0m               \u001b[0mstr\u001b[0m\u001b[0;34m(\u001b[0m\u001b[0mself\u001b[0m\u001b[0;34m.\u001b[0m\u001b[0msignature\u001b[0m\u001b[0;34m.\u001b[0m\u001b[0mname\u001b[0m\u001b[0;34m)\u001b[0m\u001b[0;34m,\u001b[0m\u001b[0;34m\u001b[0m\u001b[0;34m\u001b[0m\u001b[0m\n\u001b[1;32m    383\u001b[0m               \u001b[0mnum_outputs\u001b[0m\u001b[0;34m=\u001b[0m\u001b[0mself\u001b[0m\u001b[0;34m.\u001b[0m\u001b[0m_num_outputs\u001b[0m\u001b[0;34m,\u001b[0m\u001b[0;34m\u001b[0m\u001b[0;34m\u001b[0m\u001b[0m\n",
      "\u001b[0;32m/usr/local/lib/python3.10/dist-packages/tensorflow/python/eager/execute.py\u001b[0m in \u001b[0;36mquick_execute\u001b[0;34m(op_name, num_outputs, inputs, attrs, ctx, name)\u001b[0m\n\u001b[1;32m     50\u001b[0m   \u001b[0;32mtry\u001b[0m\u001b[0;34m:\u001b[0m\u001b[0;34m\u001b[0m\u001b[0;34m\u001b[0m\u001b[0m\n\u001b[1;32m     51\u001b[0m     \u001b[0mctx\u001b[0m\u001b[0;34m.\u001b[0m\u001b[0mensure_initialized\u001b[0m\u001b[0;34m(\u001b[0m\u001b[0;34m)\u001b[0m\u001b[0;34m\u001b[0m\u001b[0;34m\u001b[0m\u001b[0m\n\u001b[0;32m---> 52\u001b[0;31m     tensors = pywrap_tfe.TFE_Py_Execute(ctx._handle, device_name, op_name,\n\u001b[0m\u001b[1;32m     53\u001b[0m                                         inputs, attrs, num_outputs)\n\u001b[1;32m     54\u001b[0m   \u001b[0;32mexcept\u001b[0m \u001b[0mcore\u001b[0m\u001b[0;34m.\u001b[0m\u001b[0m_NotOkStatusException\u001b[0m \u001b[0;32mas\u001b[0m \u001b[0me\u001b[0m\u001b[0;34m:\u001b[0m\u001b[0;34m\u001b[0m\u001b[0;34m\u001b[0m\u001b[0m\n",
      "\u001b[0;31mKeyboardInterrupt\u001b[0m: "
     ]
    }
   ],
   "source": [
    "history3 = model_VGG_2.fit_generator(train_generator, validation_data = validation_generator, epochs=30, verbose=1)"
   ]
  },
  {
   "cell_type": "code",
   "execution_count": null,
   "id": "NVEKUshJot6a",
   "metadata": {
    "id": "NVEKUshJot6a"
   },
   "outputs": [],
   "source": [
    "plot_learning_curve(history3.history['loss'], history3.history['val_loss'], \n",
    "                    history3.history['binary_accuracy'], history3.history['val_binary_accuracy'], \n",
    "                    metric_name='Accuracy')"
   ]
  },
  {
   "cell_type": "markdown",
   "id": "jPnAj196jmeQ",
   "metadata": {
    "id": "jPnAj196jmeQ"
   },
   "source": [
    "# Model Two - Classify Cell Type"
   ]
  },
  {
   "cell_type": "markdown",
   "id": "KmGwuZLbF5VX",
   "metadata": {
    "id": "KmGwuZLbF5VX"
   },
   "source": [
    "## Load the Data"
   ]
  },
  {
   "cell_type": "code",
   "execution_count": null,
   "id": "OYOeScIpWwdp",
   "metadata": {
    "colab": {
     "base_uri": "https://localhost:8080/"
    },
    "id": "OYOeScIpWwdp",
    "outputId": "e6bf1686-4aa2-40b6-800d-190238f48e5f"
   },
   "outputs": [
    {
     "name": "stdout",
     "output_type": "stream",
     "text": [
      "Train data : 5937, Val Data: 1979, Test Data: 1980\n"
     ]
    }
   ],
   "source": [
    "from sklearn.model_selection import train_test_split\n",
    "train_data, test_data = train_test_split(data, test_size=0.2, random_state=42)\n",
    "train_data, val_data = train_test_split(train_data, test_size=0.25, random_state=42)\n",
    "\n",
    "print(\"Train data : {}, Val Data: {}, Test Data: {}\".format(train_data.shape[0], val_data.shape[0], test_data.shape[0]))"
   ]
  },
  {
   "cell_type": "markdown",
   "id": "xc-SSv8zUJcT",
   "metadata": {
    "id": "xc-SSv8zUJcT"
   },
   "source": [
    "## VGG Model for cellTye"
   ]
  },
  {
   "cell_type": "code",
   "execution_count": null,
   "id": "L4kuWA66YrkI",
   "metadata": {
    "colab": {
     "base_uri": "https://localhost:8080/"
    },
    "id": "L4kuWA66YrkI",
    "outputId": "a4c1c88d-f79d-40dc-90b5-2b6d6373ea3b"
   },
   "outputs": [
    {
     "name": "stdout",
     "output_type": "stream",
     "text": [
      "Found 5937 validated image filenames belonging to 4 classes.\n",
      "Found 1979 validated image filenames belonging to 4 classes.\n"
     ]
    }
   ],
   "source": [
    "import tensorflow as tf\n",
    "from tensorflow.keras.preprocessing.image import ImageDataGenerator\n",
    "\n",
    "train_data['cellType'] = train_data['cellType'].astype('str')\n",
    "val_data['cellType'] = val_data['cellType'].astype('str')\n",
    "\n",
    "# Scale the Image Pixel Values from 0-1\n",
    "# Both the Training and Testing Set is Scaled in the Same Way\n",
    "train_datagen = ImageDataGenerator(rescale=1./255, data_format='channels_last')\n",
    "val_datagen = ImageDataGenerator(rescale=1./255, data_format='channels_last')\n",
    "\n",
    "batch_size = 32\n",
    "\n",
    "train_generator = train_datagen.flow_from_dataframe(\n",
    "        dataframe=train_data,\n",
    "        directory='/content/image_classification_data/patch_images',\n",
    "        x_col=\"ImageName\",\n",
    "        y_col=\"cellType\",\n",
    "        target_size=(27, 27),\n",
    "        batch_size=batch_size,\n",
    "        class_mode='categorical')\n",
    "\n",
    "validation_generator = val_datagen.flow_from_dataframe(\n",
    "        dataframe=val_data,\n",
    "        directory='/content/image_classification_data/patch_images',\n",
    "        x_col=\"ImageName\",\n",
    "        y_col=\"cellType\",\n",
    "        target_size=(27, 27),\n",
    "        batch_size=batch_size,\n",
    "        class_mode='categorical')"
   ]
  },
  {
   "cell_type": "code",
   "execution_count": null,
   "id": "mFLCuNSwUt_4",
   "metadata": {
    "id": "mFLCuNSwUt_4"
   },
   "outputs": [],
   "source": [
    "INPUT_DIM = (27,27,3) # 26x26 Pixel Images, 3 Channels (RGB) \n",
    "OUTPUT_CLASSES = 4"
   ]
  },
  {
   "cell_type": "code",
   "execution_count": null,
   "id": "P5jXOfDNKZPh",
   "metadata": {
    "id": "P5jXOfDNKZPh"
   },
   "outputs": [],
   "source": [
    "from tensorflow.keras import regularizers\n",
    "\n",
    "reg_lambda = 0.001\n",
    "\n",
    "model_VGG_3 = tf.keras.Sequential([\n",
    "    #VGG block 1\n",
    "    tf.keras.layers.Conv2D(64, (3, 3), activation='relu', padding='same', input_shape=INPUT_DIM, \n",
    "                           kernel_regularizer=regularizers.l2(reg_lambda)),\n",
    "    tf.keras.layers.Conv2D(64, (3, 3), activation='relu', padding='same', \n",
    "                           kernel_regularizer=regularizers.l2(reg_lambda)),\n",
    "    tf.keras.layers.MaxPooling2D((2, 2)),\n",
    "    \n",
    "    #VGG block 2\n",
    "    tf.keras.layers.Conv2D(64, (3, 3), activation='relu', padding='same', \n",
    "                           kernel_regularizer=regularizers.l2(reg_lambda)),\n",
    "    tf.keras.layers.Conv2D(64, (3, 3), activation='relu', padding='same', \n",
    "                           kernel_regularizer=regularizers.l2(reg_lambda)),\n",
    "    tf.keras.layers.MaxPooling2D((2, 2)),\n",
    "    \n",
    "    #VGG block 3\n",
    "    tf.keras.layers.Conv2D(256, (3, 3), activation='relu', padding='same', \n",
    "                           kernel_regularizer=regularizers.l2(reg_lambda)),\n",
    "    tf.keras.layers.Conv2D(256, (3, 3), activation='relu', padding='same', \n",
    "                           kernel_regularizer=regularizers.l2(reg_lambda)),\n",
    "    tf.keras.layers.MaxPooling2D((2, 2)),\n",
    "    \n",
    "    #VGG block 4 \n",
    "    tf.keras.layers.Conv2D(256, (3, 3), activation='relu', padding='same', \n",
    "                           kernel_regularizer=regularizers.l2(reg_lambda)),\n",
    "    tf.keras.layers.Conv2D(256, (3, 3), activation='relu', padding='same', \n",
    "                           kernel_regularizer=regularizers.l2(reg_lambda)),\n",
    "    tf.keras.layers.MaxPooling2D((2, 2)),\n",
    "\n",
    "\n",
    "    tf.keras.layers.Flatten(),\n",
    "    tf.keras.layers.Dense(256, activation='relu', \n",
    "                          kernel_regularizer=regularizers.l2(reg_lambda)),\n",
    "    tf.keras.layers.Dropout(0.2),\n",
    "    tf.keras.layers.Dense(OUTPUT_CLASSES),\n",
    "])"
   ]
  },
  {
   "cell_type": "code",
   "execution_count": null,
   "id": "NBH5xv0jLNp4",
   "metadata": {
    "id": "NBH5xv0jLNp4"
   },
   "outputs": [],
   "source": [
    "model_VGG_3.compile(optimizer='adam',\n",
    "              loss=tf.keras.losses.CategoricalCrossentropy(from_logits=True),\n",
    "              metrics=['categorical_accuracy'])"
   ]
  },
  {
   "cell_type": "code",
   "execution_count": null,
   "id": "vysXid3sLOef",
   "metadata": {
    "colab": {
     "base_uri": "https://localhost:8080/"
    },
    "id": "vysXid3sLOef",
    "outputId": "ae0caada-bf85-41b0-aaaa-497a24571dc6"
   },
   "outputs": [
    {
     "name": "stdout",
     "output_type": "stream",
     "text": [
      "Epoch 1/50\n"
     ]
    },
    {
     "name": "stderr",
     "output_type": "stream",
     "text": [
      "<ipython-input-37-e14b3466e5c4>:1: UserWarning: `Model.fit_generator` is deprecated and will be removed in a future version. Please use `Model.fit`, which supports generators.\n",
      "  history4 = model_VGG_3.fit_generator(train_generator, validation_data = validation_generator, epochs=50, verbose=1)\n"
     ]
    },
    {
     "name": "stdout",
     "output_type": "stream",
     "text": [
      "186/186 [==============================] - 123s 647ms/step - loss: 1.5366 - categorical_accuracy: 0.4154 - val_loss: 1.3632 - val_categorical_accuracy: 0.4093\n",
      "Epoch 2/50\n",
      "186/186 [==============================] - 119s 641ms/step - loss: 1.3316 - categorical_accuracy: 0.4174 - val_loss: 1.3397 - val_categorical_accuracy: 0.4093\n",
      "Epoch 3/50\n",
      "186/186 [==============================] - 118s 635ms/step - loss: 1.1968 - categorical_accuracy: 0.4772 - val_loss: 1.3616 - val_categorical_accuracy: 0.4598\n",
      "Epoch 4/50\n",
      "186/186 [==============================] - 118s 634ms/step - loss: 1.0790 - categorical_accuracy: 0.5405 - val_loss: 1.1235 - val_categorical_accuracy: 0.5124\n",
      "Epoch 5/50\n",
      "186/186 [==============================] - 118s 634ms/step - loss: 1.0208 - categorical_accuracy: 0.5631 - val_loss: 0.9517 - val_categorical_accuracy: 0.5937\n",
      "Epoch 6/50\n",
      "186/186 [==============================] - 118s 634ms/step - loss: 0.9731 - categorical_accuracy: 0.5922 - val_loss: 0.9262 - val_categorical_accuracy: 0.6104\n",
      "Epoch 7/50\n",
      "186/186 [==============================] - 116s 624ms/step - loss: 0.9413 - categorical_accuracy: 0.6003 - val_loss: 0.9303 - val_categorical_accuracy: 0.6129\n",
      "Epoch 8/50\n",
      "186/186 [==============================] - 121s 649ms/step - loss: 0.9779 - categorical_accuracy: 0.5831 - val_loss: 0.8980 - val_categorical_accuracy: 0.6210\n",
      "Epoch 9/50\n",
      "186/186 [==============================] - 119s 640ms/step - loss: 0.9348 - categorical_accuracy: 0.6074 - val_loss: 0.8897 - val_categorical_accuracy: 0.6190\n",
      "Epoch 10/50\n",
      "186/186 [==============================] - 118s 633ms/step - loss: 0.9422 - categorical_accuracy: 0.5974 - val_loss: 0.8916 - val_categorical_accuracy: 0.6306\n",
      "Epoch 11/50\n",
      "186/186 [==============================] - 118s 636ms/step - loss: 0.9428 - categorical_accuracy: 0.6075 - val_loss: 0.9032 - val_categorical_accuracy: 0.6286\n",
      "Epoch 12/50\n",
      "186/186 [==============================] - 118s 637ms/step - loss: 0.9440 - categorical_accuracy: 0.6045 - val_loss: 0.9642 - val_categorical_accuracy: 0.6033\n",
      "Epoch 13/50\n",
      "186/186 [==============================] - 114s 615ms/step - loss: 0.9139 - categorical_accuracy: 0.6209 - val_loss: 0.9082 - val_categorical_accuracy: 0.6382\n",
      "Epoch 14/50\n",
      "186/186 [==============================] - 119s 638ms/step - loss: 0.9050 - categorical_accuracy: 0.6271 - val_loss: 0.8823 - val_categorical_accuracy: 0.6321\n",
      "Epoch 15/50\n",
      "186/186 [==============================] - 122s 656ms/step - loss: 0.9360 - categorical_accuracy: 0.6096 - val_loss: 1.0082 - val_categorical_accuracy: 0.5862\n",
      "Epoch 16/50\n",
      "186/186 [==============================] - 118s 637ms/step - loss: 0.8812 - categorical_accuracy: 0.6443 - val_loss: 0.8288 - val_categorical_accuracy: 0.6579\n",
      "Epoch 17/50\n",
      "186/186 [==============================] - 118s 635ms/step - loss: 0.8806 - categorical_accuracy: 0.6493 - val_loss: 0.9867 - val_categorical_accuracy: 0.6109\n",
      "Epoch 18/50\n",
      "186/186 [==============================] - 118s 636ms/step - loss: 0.8464 - categorical_accuracy: 0.6734 - val_loss: 0.8115 - val_categorical_accuracy: 0.6958\n",
      "Epoch 19/50\n",
      "186/186 [==============================] - 119s 640ms/step - loss: 0.8486 - categorical_accuracy: 0.6801 - val_loss: 0.8247 - val_categorical_accuracy: 0.6933\n",
      "Epoch 20/50\n",
      "186/186 [==============================] - 121s 649ms/step - loss: 0.8356 - categorical_accuracy: 0.6926 - val_loss: 0.9581 - val_categorical_accuracy: 0.6276\n",
      "Epoch 21/50\n",
      "186/186 [==============================] - 120s 644ms/step - loss: 0.8224 - categorical_accuracy: 0.6965 - val_loss: 0.7870 - val_categorical_accuracy: 0.7100\n",
      "Epoch 22/50\n",
      "186/186 [==============================] - 115s 618ms/step - loss: 0.7977 - categorical_accuracy: 0.7076 - val_loss: 0.7799 - val_categorical_accuracy: 0.7170\n",
      "Epoch 23/50\n",
      "186/186 [==============================] - 118s 635ms/step - loss: 0.7797 - categorical_accuracy: 0.7169 - val_loss: 0.7707 - val_categorical_accuracy: 0.7094\n",
      "Epoch 24/50\n",
      "186/186 [==============================] - 118s 636ms/step - loss: 0.7855 - categorical_accuracy: 0.7148 - val_loss: 0.7870 - val_categorical_accuracy: 0.7206\n",
      "Epoch 25/50\n",
      "186/186 [==============================] - 118s 638ms/step - loss: 0.7741 - categorical_accuracy: 0.7224 - val_loss: 0.8003 - val_categorical_accuracy: 0.7079\n",
      "Epoch 26/50\n",
      "186/186 [==============================] - 118s 637ms/step - loss: 0.7754 - categorical_accuracy: 0.7216 - val_loss: 0.7276 - val_categorical_accuracy: 0.7408\n",
      "Epoch 27/50\n",
      "186/186 [==============================] - 119s 638ms/step - loss: 0.7683 - categorical_accuracy: 0.7219 - val_loss: 0.8240 - val_categorical_accuracy: 0.6918\n",
      "Epoch 28/50\n",
      "186/186 [==============================] - 119s 641ms/step - loss: 0.7516 - categorical_accuracy: 0.7249 - val_loss: 0.7229 - val_categorical_accuracy: 0.7418\n",
      "Epoch 29/50\n",
      "186/186 [==============================] - 119s 639ms/step - loss: 0.7490 - categorical_accuracy: 0.7300 - val_loss: 0.7600 - val_categorical_accuracy: 0.7236\n",
      "Epoch 30/50\n",
      "186/186 [==============================] - 118s 636ms/step - loss: 0.7581 - categorical_accuracy: 0.7324 - val_loss: 0.7126 - val_categorical_accuracy: 0.7463\n",
      "Epoch 31/50\n",
      "186/186 [==============================] - 118s 636ms/step - loss: 0.7431 - categorical_accuracy: 0.7361 - val_loss: 0.7231 - val_categorical_accuracy: 0.7423\n",
      "Epoch 32/50\n",
      "186/186 [==============================] - 118s 636ms/step - loss: 0.7423 - categorical_accuracy: 0.7371 - val_loss: 0.7506 - val_categorical_accuracy: 0.7206\n",
      "Epoch 33/50\n",
      "186/186 [==============================] - 118s 636ms/step - loss: 0.7267 - categorical_accuracy: 0.7416 - val_loss: 0.7146 - val_categorical_accuracy: 0.7549\n",
      "Epoch 34/50\n",
      "186/186 [==============================] - 116s 626ms/step - loss: 0.7293 - categorical_accuracy: 0.7389 - val_loss: 0.7110 - val_categorical_accuracy: 0.7524\n",
      "Epoch 35/50\n",
      "186/186 [==============================] - 120s 646ms/step - loss: 0.7296 - categorical_accuracy: 0.7415 - val_loss: 0.7243 - val_categorical_accuracy: 0.7357\n",
      "Epoch 36/50\n",
      "186/186 [==============================] - 118s 635ms/step - loss: 0.7257 - categorical_accuracy: 0.7396 - val_loss: 0.7078 - val_categorical_accuracy: 0.7504\n",
      "Epoch 37/50\n",
      "186/186 [==============================] - 114s 613ms/step - loss: 0.7296 - categorical_accuracy: 0.7413 - val_loss: 0.7319 - val_categorical_accuracy: 0.7362\n",
      "Epoch 38/50\n",
      "186/186 [==============================] - 122s 658ms/step - loss: 0.7194 - categorical_accuracy: 0.7409 - val_loss: 0.8966 - val_categorical_accuracy: 0.6716\n",
      "Epoch 39/50\n",
      "186/186 [==============================] - 118s 635ms/step - loss: 0.7086 - categorical_accuracy: 0.7484 - val_loss: 0.7024 - val_categorical_accuracy: 0.7388\n",
      "Epoch 40/50\n",
      "186/186 [==============================] - 118s 637ms/step - loss: 0.7056 - categorical_accuracy: 0.7490 - val_loss: 0.7199 - val_categorical_accuracy: 0.7463\n",
      "Epoch 41/50\n",
      "186/186 [==============================] - 118s 635ms/step - loss: 0.7042 - categorical_accuracy: 0.7499 - val_loss: 0.7644 - val_categorical_accuracy: 0.7201\n",
      "Epoch 42/50\n",
      "186/186 [==============================] - 122s 654ms/step - loss: 0.6959 - categorical_accuracy: 0.7514 - val_loss: 0.6900 - val_categorical_accuracy: 0.7610\n",
      "Epoch 43/50\n",
      "186/186 [==============================] - 117s 627ms/step - loss: 0.7025 - categorical_accuracy: 0.7502 - val_loss: 0.6882 - val_categorical_accuracy: 0.7524\n",
      "Epoch 44/50\n",
      "186/186 [==============================] - 118s 636ms/step - loss: 0.6949 - categorical_accuracy: 0.7569 - val_loss: 0.7087 - val_categorical_accuracy: 0.7559\n",
      "Epoch 45/50\n",
      "186/186 [==============================] - 118s 636ms/step - loss: 0.7000 - categorical_accuracy: 0.7511 - val_loss: 0.6905 - val_categorical_accuracy: 0.7630\n",
      "Epoch 46/50\n",
      "186/186 [==============================] - 120s 646ms/step - loss: 0.7037 - categorical_accuracy: 0.7509 - val_loss: 0.7417 - val_categorical_accuracy: 0.7307\n",
      "Epoch 47/50\n",
      "186/186 [==============================] - 121s 647ms/step - loss: 0.6882 - categorical_accuracy: 0.7543 - val_loss: 0.7124 - val_categorical_accuracy: 0.7494\n",
      "Epoch 48/50\n",
      "186/186 [==============================] - 122s 653ms/step - loss: 0.6779 - categorical_accuracy: 0.7615 - val_loss: 0.7081 - val_categorical_accuracy: 0.7585\n",
      "Epoch 49/50\n",
      "186/186 [==============================] - 118s 635ms/step - loss: 0.6824 - categorical_accuracy: 0.7600 - val_loss: 0.6875 - val_categorical_accuracy: 0.7569\n",
      "Epoch 50/50\n",
      "186/186 [==============================] - 118s 635ms/step - loss: 0.7015 - categorical_accuracy: 0.7517 - val_loss: 0.6973 - val_categorical_accuracy: 0.7625\n"
     ]
    }
   ],
   "source": [
    "history4 = model_VGG_3.fit_generator(train_generator, validation_data = validation_generator, epochs=50, verbose=1)"
   ]
  },
  {
   "cell_type": "code",
   "execution_count": null,
   "id": "4M8xQYZZOHUe",
   "metadata": {
    "colab": {
     "base_uri": "https://localhost:8080/",
     "height": 465
    },
    "id": "4M8xQYZZOHUe",
    "outputId": "6073348c-2f8f-4de0-ff99-52c913d5e643"
   },
   "outputs": [
    {
     "data": {
      "image/png": "[encoded data removed]",
      "text/plain": [
       "<Figure size 1000x500 with 2 Axes>"
      ]
     },
     "metadata": {},
     "output_type": "display_data"
    }
   ],
   "source": [
    "plot_learning_curve(history4.history['loss'], history4.history['val_loss'], \n",
    "                    history4.history['categorical_accuracy'], history4.history['val_categorical_accuracy'], \n",
    "                    metric_name='Accuracy')"
   ]
  },
  {
   "cell_type": "markdown",
   "id": "lcn-00aWTE7c",
   "metadata": {
    "id": "lcn-00aWTE7c"
   },
   "source": [
    "# Transfer learning - Using Extra Data File to assist classifynig cell-tye"
   ]
  },
  {
   "cell_type": "code",
   "execution_count": null,
   "id": "GvP6qDJkWQkg",
   "metadata": {
    "id": "GvP6qDJkWQkg"
   },
   "outputs": [],
   "source": [
    "model_VGG_3.save_weights('model_weights.h5')"
   ]
  },
  {
   "cell_type": "code",
   "execution_count": null,
   "id": "7ZzNKPq-zZ8W",
   "metadata": {
    "colab": {
     "base_uri": "https://localhost:8080/"
    },
    "id": "7ZzNKPq-zZ8W",
    "outputId": "63180368-7c3a-4115-bad7-18af8a2d5a00"
   },
   "outputs": [
    {
     "name": "stdout",
     "output_type": "stream",
     "text": [
      "Found 10384 validated image filenames.\n"
     ]
    }
   ],
   "source": [
    "import tensorflow as tf\n",
    "from tensorflow.keras.preprocessing.image import ImageDataGenerator\n",
    "\n",
    "# Scale the Image Pixel Values from 0-1\n",
    "# Both the Training and Testing Set is Scaled in the Same Way\n",
    "extra_datagen = ImageDataGenerator(rescale=1./255, data_format='channels_last')\n",
    "\n",
    "batch_size = 32\n",
    "\n",
    "extra_generator = extra_datagen.flow_from_dataframe(\n",
    "    extra_data,\n",
    "    directory='/content/image_classification_data/patch_images',\n",
    "    x_col='ImageName',\n",
    "    target_size=(27, 27),\n",
    "    class_mode=None,\n",
    "    batch_size=32,\n",
    "    shuffle=False)"
   ]
  },
  {
   "cell_type": "code",
   "execution_count": null,
   "id": "crUzvLkY-1qE",
   "metadata": {
    "colab": {
     "base_uri": "https://localhost:8080/",
     "height": 224
    },
    "id": "crUzvLkY-1qE",
    "outputId": "64d6bc4e-7e51-42f1-d712-8c5768d6fb96"
   },
   "outputs": [
    {
     "name": "stdout",
     "output_type": "stream",
     "text": [
      "325/325 [==============================] - 42s 129ms/step\n"
     ]
    },
    {
     "data": {
      "text/html": [
       "\n",
       "  <div id=\"df-901d557c-a87e-46a4-b9f5-20f7caa829ff\">\n",
       "    <div class=\"colab-df-container\">\n",
       "      <div>\n",
       "<style scoped>\n",
       "    .dataframe tbody tr th:only-of-type {\n",
       "        vertical-align: middle;\n",
       "    }\n",
       "\n",
       "    .dataframe tbody tr th {\n",
       "        vertical-align: top;\n",
       "    }\n",
       "\n",
       "    .dataframe thead th {\n",
       "        text-align: right;\n",
       "    }\n",
       "</style>\n",
       "<table border=\"1\" class=\"dataframe\">\n",
       "  <thead>\n",
       "    <tr style=\"text-align: right;\">\n",
       "      <th></th>\n",
       "      <th>InstanceID</th>\n",
       "      <th>patientID</th>\n",
       "      <th>ImageName</th>\n",
       "      <th>isCancerous</th>\n",
       "      <th>cellType</th>\n",
       "    </tr>\n",
       "  </thead>\n",
       "  <tbody>\n",
       "    <tr>\n",
       "      <th>0</th>\n",
       "      <td>12681</td>\n",
       "      <td>61</td>\n",
       "      <td>12681.png</td>\n",
       "      <td>0</td>\n",
       "      <td>0</td>\n",
       "    </tr>\n",
       "    <tr>\n",
       "      <th>1</th>\n",
       "      <td>12682</td>\n",
       "      <td>61</td>\n",
       "      <td>12682.png</td>\n",
       "      <td>0</td>\n",
       "      <td>1</td>\n",
       "    </tr>\n",
       "    <tr>\n",
       "      <th>2</th>\n",
       "      <td>12683</td>\n",
       "      <td>61</td>\n",
       "      <td>12683.png</td>\n",
       "      <td>0</td>\n",
       "      <td>0</td>\n",
       "    </tr>\n",
       "    <tr>\n",
       "      <th>3</th>\n",
       "      <td>12684</td>\n",
       "      <td>61</td>\n",
       "      <td>12684.png</td>\n",
       "      <td>0</td>\n",
       "      <td>0</td>\n",
       "    </tr>\n",
       "    <tr>\n",
       "      <th>4</th>\n",
       "      <td>12685</td>\n",
       "      <td>61</td>\n",
       "      <td>12685.png</td>\n",
       "      <td>0</td>\n",
       "      <td>0</td>\n",
       "    </tr>\n",
       "  </tbody>\n",
       "</table>\n",
       "</div>\n",
       "      <button class=\"colab-df-convert\" onclick=\"convertToInteractive('df-901d557c-a87e-46a4-b9f5-20f7caa829ff')\"\n",
       "              title=\"Convert this dataframe to an interactive table.\"\n",
       "              style=\"display:none;\">\n",
       "        \n",
       "  <svg xmlns=\"http://www.w3.org/2000/svg\" height=\"24px\"viewBox=\"0 0 24 24\"\n",
       "       width=\"24px\">\n",
       "    <path d=\"M0 0h24v24H0V0z\" fill=\"none\"/>\n",
       "    <path d=\"M18.56 5.44l.94 2.06.94-2.06 2.06-.94-2.06-.94-.94-2.06-.94 2.06-2.06.94zm-11 1L8.5 8.5l.94-2.06 2.06-.94-2.06-.94L8.5 2.5l-.94 2.06-2.06.94zm10 10l.94 2.06.94-2.06 2.06-.94-2.06-.94-.94-2.06-.94 2.06-2.06.94z\"/><path d=\"M17.41 7.96l-1.37-1.37c-.4-.4-.92-.59-1.43-.59-.52 0-1.04.2-1.43.59L10.3 9.45l-7.72 7.72c-.78.78-.78 2.05 0 2.83L4 21.41c.39.39.9.59 1.41.59.51 0 1.02-.2 1.41-.59l7.78-7.78 2.81-2.81c.8-.78.8-2.07 0-2.86zM5.41 20L4 18.59l7.72-7.72 1.47 1.35L5.41 20z\"/>\n",
       "  </svg>\n",
       "      </button>\n",
       "      \n",
       "  <style>\n",
       "    .colab-df-container {\n",
       "      display:flex;\n",
       "      flex-wrap:wrap;\n",
       "      gap: 12px;\n",
       "    }\n",
       "\n",
       "    .colab-df-convert {\n",
       "      background-color: #E8F0FE;\n",
       "      border: none;\n",
       "      border-radius: 50%;\n",
       "      cursor: pointer;\n",
       "      display: none;\n",
       "      fill: #1967D2;\n",
       "      height: 32px;\n",
       "      padding: 0 0 0 0;\n",
       "      width: 32px;\n",
       "    }\n",
       "\n",
       "    .colab-df-convert:hover {\n",
       "      background-color: #E2EBFA;\n",
       "      box-shadow: 0px 1px 2px rgba(60, 64, 67, 0.3), 0px 1px 3px 1px rgba(60, 64, 67, 0.15);\n",
       "      fill: #174EA6;\n",
       "    }\n",
       "\n",
       "    [theme=dark] .colab-df-convert {\n",
       "      background-color: #3B4455;\n",
       "      fill: #D2E3FC;\n",
       "    }\n",
       "\n",
       "    [theme=dark] .colab-df-convert:hover {\n",
       "      background-color: #434B5C;\n",
       "      box-shadow: 0px 1px 3px 1px rgba(0, 0, 0, 0.15);\n",
       "      filter: drop-shadow(0px 1px 2px rgba(0, 0, 0, 0.3));\n",
       "      fill: #FFFFFF;\n",
       "    }\n",
       "  </style>\n",
       "\n",
       "      <script>\n",
       "        const buttonEl =\n",
       "          document.querySelector('#df-901d557c-a87e-46a4-b9f5-20f7caa829ff button.colab-df-convert');\n",
       "        buttonEl.style.display =\n",
       "          google.colab.kernel.accessAllowed ? 'block' : 'none';\n",
       "\n",
       "        async function convertToInteractive(key) {\n",
       "          const element = document.querySelector('#df-901d557c-a87e-46a4-b9f5-20f7caa829ff');\n",
       "          const dataTable =\n",
       "            await google.colab.kernel.invokeFunction('convertToInteractive',\n",
       "                                                     [key], {});\n",
       "          if (!dataTable) return;\n",
       "\n",
       "          const docLinkHtml = 'Like what you see? Visit the ' +\n",
       "            '<a target=\"_blank\" href=https://colab.research.google.com/notebooks/data_table.ipynb>data table notebook</a>'\n",
       "            + ' to learn more about interactive tables.';\n",
       "          element.innerHTML = '';\n",
       "          dataTable['output_type'] = 'display_data';\n",
       "          await google.colab.output.renderOutput(dataTable, element);\n",
       "          const docLink = document.createElement('div');\n",
       "          docLink.innerHTML = docLinkHtml;\n",
       "          element.appendChild(docLink);\n",
       "        }\n",
       "      </script>\n",
       "    </div>\n",
       "  </div>\n",
       "  "
      ],
      "text/plain": [
       "   InstanceID  patientID  ImageName  isCancerous  cellType\n",
       "0       12681         61  12681.png            0         0\n",
       "1       12682         61  12682.png            0         1\n",
       "2       12683         61  12683.png            0         0\n",
       "3       12684         61  12684.png            0         0\n",
       "4       12685         61  12685.png            0         0"
      ]
     },
     "execution_count": 32,
     "metadata": {},
     "output_type": "execute_result"
    }
   ],
   "source": [
    "model_VGG_3.load_weights('model_weights.h5')\n",
    "predictions = model_VGG_.predict(extra_generator)\n",
    "predicted_classes = np.argmax(predictions, axis=1)\n",
    "\n",
    "extra_data['cellType'] = predicted_classes\n",
    "extra_data.head()"
   ]
  },
  {
   "cell_type": "code",
   "execution_count": null,
   "id": "ISKKeiowbFIL",
   "metadata": {
    "colab": {
     "base_uri": "https://localhost:8080/",
     "height": 206
    },
    "id": "ISKKeiowbFIL",
    "outputId": "424023de-8d81-409b-a027-432d931f0f67"
   },
   "outputs": [
    {
     "data": {
      "text/html": [
       "\n",
       "  <div id=\"df-0f977eb6-2f43-4c6a-9ccd-b4b29a9fde3a\">\n",
       "    <div class=\"colab-df-container\">\n",
       "      <div>\n",
       "<style scoped>\n",
       "    .dataframe tbody tr th:only-of-type {\n",
       "        vertical-align: middle;\n",
       "    }\n",
       "\n",
       "    .dataframe tbody tr th {\n",
       "        vertical-align: top;\n",
       "    }\n",
       "\n",
       "    .dataframe thead th {\n",
       "        text-align: right;\n",
       "    }\n",
       "</style>\n",
       "<table border=\"1\" class=\"dataframe\">\n",
       "  <thead>\n",
       "    <tr style=\"text-align: right;\">\n",
       "      <th></th>\n",
       "      <th>InstanceID</th>\n",
       "      <th>patientID</th>\n",
       "      <th>ImageName</th>\n",
       "      <th>cellTypeName</th>\n",
       "      <th>cellType</th>\n",
       "      <th>isCancerous</th>\n",
       "    </tr>\n",
       "  </thead>\n",
       "  <tbody>\n",
       "    <tr>\n",
       "      <th>0</th>\n",
       "      <td>22405</td>\n",
       "      <td>1</td>\n",
       "      <td>22405.png</td>\n",
       "      <td>fibroblast</td>\n",
       "      <td>0</td>\n",
       "      <td>0</td>\n",
       "    </tr>\n",
       "    <tr>\n",
       "      <th>1</th>\n",
       "      <td>22406</td>\n",
       "      <td>1</td>\n",
       "      <td>22406.png</td>\n",
       "      <td>fibroblast</td>\n",
       "      <td>0</td>\n",
       "      <td>0</td>\n",
       "    </tr>\n",
       "    <tr>\n",
       "      <th>2</th>\n",
       "      <td>22407</td>\n",
       "      <td>1</td>\n",
       "      <td>22407.png</td>\n",
       "      <td>fibroblast</td>\n",
       "      <td>0</td>\n",
       "      <td>0</td>\n",
       "    </tr>\n",
       "    <tr>\n",
       "      <th>3</th>\n",
       "      <td>22408</td>\n",
       "      <td>1</td>\n",
       "      <td>22408.png</td>\n",
       "      <td>fibroblast</td>\n",
       "      <td>0</td>\n",
       "      <td>0</td>\n",
       "    </tr>\n",
       "    <tr>\n",
       "      <th>4</th>\n",
       "      <td>22409</td>\n",
       "      <td>1</td>\n",
       "      <td>22409.png</td>\n",
       "      <td>fibroblast</td>\n",
       "      <td>0</td>\n",
       "      <td>0</td>\n",
       "    </tr>\n",
       "  </tbody>\n",
       "</table>\n",
       "</div>\n",
       "      <button class=\"colab-df-convert\" onclick=\"convertToInteractive('df-0f977eb6-2f43-4c6a-9ccd-b4b29a9fde3a')\"\n",
       "              title=\"Convert this dataframe to an interactive table.\"\n",
       "              style=\"display:none;\">\n",
       "        \n",
       "  <svg xmlns=\"http://www.w3.org/2000/svg\" height=\"24px\"viewBox=\"0 0 24 24\"\n",
       "       width=\"24px\">\n",
       "    <path d=\"M0 0h24v24H0V0z\" fill=\"none\"/>\n",
       "    <path d=\"M18.56 5.44l.94 2.06.94-2.06 2.06-.94-2.06-.94-.94-2.06-.94 2.06-2.06.94zm-11 1L8.5 8.5l.94-2.06 2.06-.94-2.06-.94L8.5 2.5l-.94 2.06-2.06.94zm10 10l.94 2.06.94-2.06 2.06-.94-2.06-.94-.94-2.06-.94 2.06-2.06.94z\"/><path d=\"M17.41 7.96l-1.37-1.37c-.4-.4-.92-.59-1.43-.59-.52 0-1.04.2-1.43.59L10.3 9.45l-7.72 7.72c-.78.78-.78 2.05 0 2.83L4 21.41c.39.39.9.59 1.41.59.51 0 1.02-.2 1.41-.59l7.78-7.78 2.81-2.81c.8-.78.8-2.07 0-2.86zM5.41 20L4 18.59l7.72-7.72 1.47 1.35L5.41 20z\"/>\n",
       "  </svg>\n",
       "      </button>\n",
       "      \n",
       "  <style>\n",
       "    .colab-df-container {\n",
       "      display:flex;\n",
       "      flex-wrap:wrap;\n",
       "      gap: 12px;\n",
       "    }\n",
       "\n",
       "    .colab-df-convert {\n",
       "      background-color: #E8F0FE;\n",
       "      border: none;\n",
       "      border-radius: 50%;\n",
       "      cursor: pointer;\n",
       "      display: none;\n",
       "      fill: #1967D2;\n",
       "      height: 32px;\n",
       "      padding: 0 0 0 0;\n",
       "      width: 32px;\n",
       "    }\n",
       "\n",
       "    .colab-df-convert:hover {\n",
       "      background-color: #E2EBFA;\n",
       "      box-shadow: 0px 1px 2px rgba(60, 64, 67, 0.3), 0px 1px 3px 1px rgba(60, 64, 67, 0.15);\n",
       "      fill: #174EA6;\n",
       "    }\n",
       "\n",
       "    [theme=dark] .colab-df-convert {\n",
       "      background-color: #3B4455;\n",
       "      fill: #D2E3FC;\n",
       "    }\n",
       "\n",
       "    [theme=dark] .colab-df-convert:hover {\n",
       "      background-color: #434B5C;\n",
       "      box-shadow: 0px 1px 3px 1px rgba(0, 0, 0, 0.15);\n",
       "      filter: drop-shadow(0px 1px 2px rgba(0, 0, 0, 0.3));\n",
       "      fill: #FFFFFF;\n",
       "    }\n",
       "  </style>\n",
       "\n",
       "      <script>\n",
       "        const buttonEl =\n",
       "          document.querySelector('#df-0f977eb6-2f43-4c6a-9ccd-b4b29a9fde3a button.colab-df-convert');\n",
       "        buttonEl.style.display =\n",
       "          google.colab.kernel.accessAllowed ? 'block' : 'none';\n",
       "\n",
       "        async function convertToInteractive(key) {\n",
       "          const element = document.querySelector('#df-0f977eb6-2f43-4c6a-9ccd-b4b29a9fde3a');\n",
       "          const dataTable =\n",
       "            await google.colab.kernel.invokeFunction('convertToInteractive',\n",
       "                                                     [key], {});\n",
       "          if (!dataTable) return;\n",
       "\n",
       "          const docLinkHtml = 'Like what you see? Visit the ' +\n",
       "            '<a target=\"_blank\" href=https://colab.research.google.com/notebooks/data_table.ipynb>data table notebook</a>'\n",
       "            + ' to learn more about interactive tables.';\n",
       "          element.innerHTML = '';\n",
       "          dataTable['output_type'] = 'display_data';\n",
       "          await google.colab.output.renderOutput(dataTable, element);\n",
       "          const docLink = document.createElement('div');\n",
       "          docLink.innerHTML = docLinkHtml;\n",
       "          element.appendChild(docLink);\n",
       "        }\n",
       "      </script>\n",
       "    </div>\n",
       "  </div>\n",
       "  "
      ],
      "text/plain": [
       "   InstanceID  patientID  ImageName cellTypeName  cellType  isCancerous\n",
       "0       22405          1  22405.png   fibroblast         0            0\n",
       "1       22406          1  22406.png   fibroblast         0            0\n",
       "2       22407          1  22407.png   fibroblast         0            0\n",
       "3       22408          1  22408.png   fibroblast         0            0\n",
       "4       22409          1  22409.png   fibroblast         0            0"
      ]
     },
     "execution_count": 33,
     "metadata": {},
     "output_type": "execute_result"
    }
   ],
   "source": [
    "combined_df = pd.concat([data, extra_data])\n",
    "combined_df.head()"
   ]
  },
  {
   "cell_type": "code",
   "execution_count": null,
   "id": "sn9K2qxSeVVk",
   "metadata": {
    "colab": {
     "base_uri": "https://localhost:8080/"
    },
    "id": "sn9K2qxSeVVk",
    "outputId": "24f82fc1-49f3-4b62-d883-636053567de7"
   },
   "outputs": [
    {
     "name": "stdout",
     "output_type": "stream",
     "text": [
      "Train data : 12168, Val Data: 4056, Test Data: 4056\n"
     ]
    }
   ],
   "source": [
    "from sklearn.model_selection import train_test_split\n",
    "train_data, test_data = train_test_split(combined_df, test_size=0.2, random_state=42)\n",
    "train_data, val_data = train_test_split(train_data, test_size=0.25, random_state=42)\n",
    "\n",
    "print(\"Train data : {}, Val Data: {}, Test Data: {}\".format(train_data.shape[0], val_data.shape[0], test_data.shape[0]))"
   ]
  },
  {
   "cell_type": "code",
   "execution_count": null,
   "id": "n0GqYJW6fkDJ",
   "metadata": {
    "colab": {
     "base_uri": "https://localhost:8080/"
    },
    "id": "n0GqYJW6fkDJ",
    "outputId": "4700a532-35f5-4f0c-e5c8-32e15c745fc6"
   },
   "outputs": [
    {
     "name": "stdout",
     "output_type": "stream",
     "text": [
      "Found 12168 validated image filenames belonging to 4 classes.\n",
      "Found 4056 validated image filenames belonging to 4 classes.\n"
     ]
    }
   ],
   "source": [
    "import tensorflow as tf\n",
    "from tensorflow.keras.preprocessing.image import ImageDataGenerator\n",
    "\n",
    "train_data['cellType'] = train_data['cellType'].astype('str')\n",
    "val_data['cellType'] = val_data['cellType'].astype('str')\n",
    "\n",
    "# Scale the Image Pixel Values from 0-1\n",
    "# Both the Training and Testing Set is Scaled in the Same Way\n",
    "train_datagen = ImageDataGenerator(rescale=1./255, data_format='channels_last')\n",
    "val_datagen = ImageDataGenerator(rescale=1./255, data_format='channels_last')\n",
    "\n",
    "batch_size = 32\n",
    "\n",
    "train_generator = train_datagen.flow_from_dataframe(\n",
    "        dataframe=train_data,\n",
    "        directory='/content/image_classification_data/patch_images',\n",
    "        x_col=\"ImageName\",\n",
    "        y_col=\"cellType\",\n",
    "        target_size=(27, 27),\n",
    "        batch_size=batch_size,\n",
    "        class_mode='categorical')\n",
    "\n",
    "validation_generator = val_datagen.flow_from_dataframe(\n",
    "        dataframe=val_data,\n",
    "        directory='/content/image_classification_data/patch_images',\n",
    "        x_col=\"ImageName\",\n",
    "        y_col=\"cellType\",\n",
    "        target_size=(27, 27),\n",
    "        batch_size=batch_size,\n",
    "        class_mode='categorical')"
   ]
  },
  {
   "cell_type": "code",
   "execution_count": null,
   "id": "q1yYwg_ZrsGQ",
   "metadata": {
    "id": "q1yYwg_ZrsGQ"
   },
   "outputs": [],
   "source": [
    "from tensorflow.keras import regularizers\n",
    "\n",
    "reg_lambda = 0.001\n",
    "\n",
    "model_VGG_4 = tf.keras.Sequential([\n",
    "    #VGG block 1\n",
    "    tf.keras.layers.Conv2D(64, (3, 3), activation='relu', padding='same', input_shape=INPUT_DIM, \n",
    "                           kernel_regularizer=regularizers.l2(reg_lambda)),\n",
    "    tf.keras.layers.Conv2D(64, (3, 3), activation='relu', padding='same', \n",
    "                           kernel_regularizer=regularizers.l2(reg_lambda)),\n",
    "    tf.keras.layers.MaxPooling2D((2, 2)),\n",
    "    \n",
    "    #VGG block 2\n",
    "    tf.keras.layers.Conv2D(64, (3, 3), activation='relu', padding='same', \n",
    "                           kernel_regularizer=regularizers.l2(reg_lambda)),\n",
    "    tf.keras.layers.Conv2D(64, (3, 3), activation='relu', padding='same', \n",
    "                           kernel_regularizer=regularizers.l2(reg_lambda)),\n",
    "    tf.keras.layers.MaxPooling2D((2, 2)),\n",
    "    \n",
    "    #VGG block 3\n",
    "    tf.keras.layers.Conv2D(256, (3, 3), activation='relu', padding='same', \n",
    "                           kernel_regularizer=regularizers.l2(reg_lambda)),\n",
    "    tf.keras.layers.Conv2D(256, (3, 3), activation='relu', padding='same', \n",
    "                           kernel_regularizer=regularizers.l2(reg_lambda)),\n",
    "    tf.keras.layers.MaxPooling2D((2, 2)),\n",
    "\n",
    "\n",
    "    tf.keras.layers.Flatten(),\n",
    "    tf.keras.layers.Dense(256, activation='relu', \n",
    "                          kernel_regularizer=regularizers.l2(reg_lambda)),\n",
    "    tf.keras.layers.Dropout(0.2),\n",
    "    tf.keras.layers.Dense(OUTPUT_CLASSES),\n",
    "])"
   ]
  },
  {
   "cell_type": "code",
   "execution_count": null,
   "id": "WT-qTwE8sMi1",
   "metadata": {
    "id": "WT-qTwE8sMi1"
   },
   "outputs": [],
   "source": [
    "model_VGG_4.compile(optimizer='adam',\n",
    "              loss=tf.keras.losses.CategoricalCrossentropy(from_logits=True),\n",
    "              metrics=['categorical_accuracy'])"
   ]
  },
  {
   "cell_type": "code",
   "execution_count": null,
   "id": "R0QX_VyygsSp",
   "metadata": {
    "colab": {
     "base_uri": "https://localhost:8080/"
    },
    "id": "R0QX_VyygsSp",
    "outputId": "614b7868-68a5-415b-b4a0-7241c258e8e9"
   },
   "outputs": [
    {
     "name": "stdout",
     "output_type": "stream",
     "text": [
      "Epoch 1/20\n"
     ]
    },
    {
     "name": "stderr",
     "output_type": "stream",
     "text": [
      "<ipython-input-51-8bfd7f525a8d>:1: UserWarning: `Model.fit_generator` is deprecated and will be removed in a future version. Please use `Model.fit`, which supports generators.\n",
      "  history5 = model_VGG_4.fit_generator(train_generator, validation_data = validation_generator, epochs=20, verbose=1)\n"
     ]
    },
    {
     "name": "stdout",
     "output_type": "stream",
     "text": [
      "381/381 [==============================] - 188s 487ms/step - loss: 1.1810 - categorical_accuracy: 0.5731 - val_loss: 0.7474 - val_categorical_accuracy: 0.7562\n",
      "Epoch 2/20\n",
      "381/381 [==============================] - 186s 486ms/step - loss: 0.7557 - categorical_accuracy: 0.7464 - val_loss: 0.6845 - val_categorical_accuracy: 0.7717\n",
      "Epoch 3/20\n",
      "381/381 [==============================] - 190s 500ms/step - loss: 0.6505 - categorical_accuracy: 0.7835 - val_loss: 0.6675 - val_categorical_accuracy: 0.7747\n",
      "Epoch 4/20\n",
      "381/381 [==============================] - 189s 496ms/step - loss: 0.6534 - categorical_accuracy: 0.7793 - val_loss: 0.6735 - val_categorical_accuracy: 0.7759\n",
      "Epoch 5/20\n",
      "381/381 [==============================] - 181s 475ms/step - loss: 0.6292 - categorical_accuracy: 0.7905 - val_loss: 0.5693 - val_categorical_accuracy: 0.8136\n",
      "Epoch 6/20\n",
      "381/381 [==============================] - 189s 497ms/step - loss: 0.5743 - categorical_accuracy: 0.8125 - val_loss: 0.5603 - val_categorical_accuracy: 0.8156\n",
      "Epoch 7/20\n",
      "381/381 [==============================] - 188s 495ms/step - loss: 0.5889 - categorical_accuracy: 0.8061 - val_loss: 0.6102 - val_categorical_accuracy: 0.7946\n",
      "Epoch 8/20\n",
      "381/381 [==============================] - 182s 479ms/step - loss: 0.5778 - categorical_accuracy: 0.8093 - val_loss: 0.5608 - val_categorical_accuracy: 0.8166\n",
      "Epoch 9/20\n",
      "381/381 [==============================] - 190s 499ms/step - loss: 0.5637 - categorical_accuracy: 0.8112 - val_loss: 0.7448 - val_categorical_accuracy: 0.7532\n",
      "Epoch 10/20\n",
      "381/381 [==============================] - 188s 493ms/step - loss: 0.5728 - categorical_accuracy: 0.8113 - val_loss: 0.5737 - val_categorical_accuracy: 0.8018\n",
      "Epoch 11/20\n",
      "381/381 [==============================] - 191s 500ms/step - loss: 0.5486 - categorical_accuracy: 0.8161 - val_loss: 0.5382 - val_categorical_accuracy: 0.8257\n",
      "Epoch 12/20\n",
      "381/381 [==============================] - 188s 493ms/step - loss: 0.5428 - categorical_accuracy: 0.8198 - val_loss: 0.5856 - val_categorical_accuracy: 0.8094\n",
      "Epoch 13/20\n",
      "381/381 [==============================] - 182s 477ms/step - loss: 0.5420 - categorical_accuracy: 0.8248 - val_loss: 0.6878 - val_categorical_accuracy: 0.7803\n",
      "Epoch 14/20\n",
      "381/381 [==============================] - 189s 496ms/step - loss: 0.5342 - categorical_accuracy: 0.8254 - val_loss: 0.5219 - val_categorical_accuracy: 0.8277\n",
      "Epoch 15/20\n",
      "381/381 [==============================] - 190s 500ms/step - loss: 0.5313 - categorical_accuracy: 0.8274 - val_loss: 0.5279 - val_categorical_accuracy: 0.8343\n",
      "Epoch 16/20\n",
      "381/381 [==============================] - 185s 487ms/step - loss: 0.5255 - categorical_accuracy: 0.8292 - val_loss: 0.5340 - val_categorical_accuracy: 0.8250\n",
      "Epoch 17/20\n",
      "381/381 [==============================] - 191s 503ms/step - loss: 0.5269 - categorical_accuracy: 0.8302 - val_loss: 0.5294 - val_categorical_accuracy: 0.8289\n",
      "Epoch 18/20\n",
      "381/381 [==============================] - 188s 493ms/step - loss: 0.5177 - categorical_accuracy: 0.8351 - val_loss: 0.6087 - val_categorical_accuracy: 0.7919\n",
      "Epoch 19/20\n",
      "381/381 [==============================] - 197s 516ms/step - loss: 0.5219 - categorical_accuracy: 0.8338 - val_loss: 0.7208 - val_categorical_accuracy: 0.7429\n",
      "Epoch 20/20\n",
      "381/381 [==============================] - 201s 527ms/step - loss: 0.5143 - categorical_accuracy: 0.8348 - val_loss: 0.5152 - val_categorical_accuracy: 0.8348\n"
     ]
    }
   ],
   "source": [
    "history5 = model_VGG_4.fit_generator(train_generator, validation_data = validation_generator, epochs=20, verbose=1)"
   ]
  },
  {
   "cell_type": "code",
   "execution_count": null,
   "id": "uZwEjd6_Y2SS",
   "metadata": {
    "colab": {
     "base_uri": "https://localhost:8080/",
     "height": 465
    },
    "id": "uZwEjd6_Y2SS",
    "outputId": "36ab0a40-c63a-40c1-d78f-a777e006b6d2"
   },
   "outputs": [
    {
     "data": {
      "image/png": "[encoded data removed]",
      "text/plain": [
       "<Figure size 1000x500 with 2 Axes>"
      ]
     },
     "metadata": {},
     "output_type": "display_data"
    }
   ],
   "source": [
    "plot_learning_curve(history5.history['loss'], history5.history['val_loss'], \n",
    "                    history5.history['categorical_accuracy'], history5.history['val_categorical_accuracy'], \n",
    "                    metric_name='Accuracy')"
   ]
  },
  {
   "cell_type": "markdown",
   "id": "T7ojwH3d9kaU",
   "metadata": {
    "id": "T7ojwH3d9kaU"
   },
   "source": [
    "# Testing"
   ]
  },
  {
   "cell_type": "markdown",
   "id": "v5N2Juis98nS",
   "metadata": {
    "id": "v5N2Juis98nS"
   },
   "source": [
    "## Model 1"
   ]
  },
  {
   "cell_type": "code",
   "execution_count": null,
   "id": "KwjU_ksA9-yY",
   "metadata": {
    "colab": {
     "base_uri": "https://localhost:8080/",
     "height": 240
    },
    "id": "KwjU_ksA9-yY",
    "outputId": "d7cfe41d-4a10-4fce-fc7f-e472f7672156"
   },
   "outputs": [
    {
     "ename": "NameError",
     "evalue": "ignored",
     "output_type": "error",
     "traceback": [
      "\u001b[0;31m---------------------------------------------------------------------------\u001b[0m",
      "\u001b[0;31mNameError\u001b[0m                                 Traceback (most recent call last)",
      "\u001b[0;32m<ipython-input-7-e2fa0b5ac5bc>\u001b[0m in \u001b[0;36m<cell line: 1>\u001b[0;34m()\u001b[0m\n\u001b[0;32m----> 1\u001b[0;31m \u001b[0mtest_data\u001b[0m\u001b[0;34m[\u001b[0m\u001b[0;34m'isCancerous'\u001b[0m\u001b[0;34m]\u001b[0m \u001b[0;34m=\u001b[0m \u001b[0mtest_data\u001b[0m\u001b[0;34m[\u001b[0m\u001b[0;34m'isCancerous'\u001b[0m\u001b[0;34m]\u001b[0m\u001b[0;34m.\u001b[0m\u001b[0mastype\u001b[0m\u001b[0;34m(\u001b[0m\u001b[0;34m'str'\u001b[0m\u001b[0;34m)\u001b[0m\u001b[0;34m\u001b[0m\u001b[0;34m\u001b[0m\u001b[0m\n\u001b[0m\u001b[1;32m      2\u001b[0m \u001b[0;34m\u001b[0m\u001b[0m\n\u001b[1;32m      3\u001b[0m \u001b[0;31m# Scale the Image Pixel Values from 0-1\u001b[0m\u001b[0;34m\u001b[0m\u001b[0;34m\u001b[0m\u001b[0m\n\u001b[1;32m      4\u001b[0m \u001b[0;31m# Both the Training and Testing Set is Scaled in the Same Way\u001b[0m\u001b[0;34m\u001b[0m\u001b[0;34m\u001b[0m\u001b[0m\n\u001b[1;32m      5\u001b[0m \u001b[0mtest_datagen\u001b[0m \u001b[0;34m=\u001b[0m \u001b[0mImageDataGenerator\u001b[0m\u001b[0;34m(\u001b[0m\u001b[0mrescale\u001b[0m\u001b[0;34m=\u001b[0m\u001b[0;36m1.\u001b[0m\u001b[0;34m/\u001b[0m\u001b[0;36m255\u001b[0m\u001b[0;34m,\u001b[0m \u001b[0mdata_format\u001b[0m\u001b[0;34m=\u001b[0m\u001b[0;34m'channels_last'\u001b[0m\u001b[0;34m)\u001b[0m\u001b[0;34m\u001b[0m\u001b[0;34m\u001b[0m\u001b[0m\n",
      "\u001b[0;31mNameError\u001b[0m: name 'test_data' is not defined"
     ]
    }
   ],
   "source": [
    "test_data['isCancerous'] = test_data['isCancerous'].astype('str')\n",
    "\n",
    "# Scale the Image Pixel Values from 0-1\n",
    "# Both the Training and Testing Set is Scaled in the Same Way\n",
    "test_datagen = ImageDataGenerator(rescale=1./255, data_format='channels_last')\n",
    "\n",
    "batch_size = 32\n",
    "\n",
    "testing_generator = val_datagen.flow_from_dataframe(\n",
    "        dataframe=test_data,\n",
    "        directory='/content/image_classification_data/patch_images',\n",
    "        x_col=\"ImageName\",\n",
    "        y_col=\"isCancerous\",\n",
    "        target_size=(27, 27),\n",
    "        batch_size=batch_size,\n",
    "        class_mode='categorical')"
   ]
  },
  {
   "cell_type": "code",
   "execution_count": null,
   "id": "RopOAQVe9mlC",
   "metadata": {
    "id": "RopOAQVe9mlC"
   },
   "outputs": [],
   "source": [
    "from sklearn.metrics import confusion_matrix\n",
    "import matplotlib.pyplot as plt\n",
    "import seaborn as sns\n",
    "\n",
    "true_labels = testing_generator.labels\n",
    "\n",
    "# Generate predictions using the model\n",
    "y_pred = model_VGG_2.predict(testing_generator)\n",
    "y_pred_classes = y_pred.argmax(axis=1)\n",
    "\n",
    "# Calculate confusion matrix\n",
    "cm = confusion_matrix(true_labels, y_pred_classes)\n",
    "plt.figure(figsize=(8, 6))\n",
    "sns.heatmap(cm, annot=True, fmt='d', cmap='Blues')\n",
    "plt.xlabel('Predicted Labels')\n",
    "plt.ylabel('True Labels')\n",
    "plt.title('Confusion Matrix')\n",
    "plt.show()"
   ]
  },
  {
   "cell_type": "markdown",
   "id": "2J3Mt8CG-K5c",
   "metadata": {
    "id": "2J3Mt8CG-K5c"
   },
   "source": [
    "## Model 2"
   ]
  },
  {
   "cell_type": "code",
   "execution_count": null,
   "id": "pq8JKxIGoOxV",
   "metadata": {
    "id": "pq8JKxIGoOxV"
   },
   "outputs": [],
   "source": [
    "import tensorflow as tf\n",
    "from tensorflow import keras\n",
    "\n",
    "model_VGG_3 = keras.models.load_model(\"/content/drive/MyDrive/model_VGG_3\")"
   ]
  },
  {
   "cell_type": "code",
   "execution_count": null,
   "id": "YrpF1lAH99xq",
   "metadata": {
    "colab": {
     "base_uri": "https://localhost:8080/"
    },
    "id": "YrpF1lAH99xq",
    "outputId": "872a513d-7403-4be5-9372-2df4eaa1395b"
   },
   "outputs": [
    {
     "name": "stdout",
     "output_type": "stream",
     "text": [
      "Found 4056 validated image filenames belonging to 4 classes.\n"
     ]
    }
   ],
   "source": [
    "test_data['cellType'] = test_data['cellType'].astype('str')\n",
    "\n",
    "# Scale the Image Pixel Values from 0-1\n",
    "# Both the Training and Testing Set is Scaled in the Same Way\n",
    "test_datagen = ImageDataGenerator(rescale=1./255, data_format='channels_last')\n",
    "\n",
    "batch_size = 32\n",
    "\n",
    "test_generator = test_datagen.flow_from_dataframe(\n",
    "        dataframe=test_data,\n",
    "        directory='/content/image_classification_data/patch_images',\n",
    "        x_col=\"ImageName\",\n",
    "        y_col=\"cellType\",\n",
    "        target_size=(27, 27),\n",
    "        batch_size=batch_size,\n",
    "        class_mode='categorical')"
   ]
  },
  {
   "cell_type": "code",
   "execution_count": null,
   "id": "Gf7h4Ufj-W5Q",
   "metadata": {
    "colab": {
     "base_uri": "https://localhost:8080/",
     "height": 635
    },
    "id": "Gf7h4Ufj-W5Q",
    "outputId": "4bfdaf8b-d6de-414b-8b5e-97e11d4f320b"
   },
   "outputs": [
    {
     "name": "stdout",
     "output_type": "stream",
     "text": [
      "127/127 [==============================] - 15s 116ms/step\n"
     ]
    },
    {
     "data": {
      "image/png": "[encoded data removed]",
      "text/plain": [
       "<Figure size 800x600 with 2 Axes>"
      ]
     },
     "metadata": {},
     "output_type": "display_data"
    },
    {
     "name": "stdout",
     "output_type": "stream",
     "text": [
      "Precision: 0.34033044452568445\n",
      "Recall: 0.34171597633136097\n",
      "F1 Score: 0.34082254423700853\n"
     ]
    }
   ],
   "source": [
    "from sklearn.metrics import confusion_matrix, precision_score, recall_score, f1_score\n",
    "import matplotlib.pyplot as plt\n",
    "import seaborn as sns\n",
    "\n",
    "\n",
    "true_labels = test_generator.labels\n",
    "\n",
    "# Generate predictions using the model\n",
    "y_pred = model_VGG_4.predict(test_generator)\n",
    "y_pred_classes = y_pred.argmax(axis=1)\n",
    "\n",
    "# Calculate confusion matrix\n",
    "cm = confusion_matrix(true_labels, y_pred_classes)\n",
    "plt.figure(figsize=(8, 6))\n",
    "sns.heatmap(cm, annot=True, fmt='d', cmap='Blues')\n",
    "plt.xlabel('Predicted Labels')\n",
    "plt.ylabel('True Labels')\n",
    "plt.title('Confusion Matrix')\n",
    "plt.show()\n",
    "\n",
    "precision = precision_score(true_labels, y_pred_classes, average=\"weighted\")\n",
    "recall = recall_score(true_labels, y_pred_classes, average=\"weighted\")\n",
    "f1 = f1_score(true_labels, y_pred_classes, average=\"weighted\")\n",
    "\n",
    "print(\"Precision:\", precision)\n",
    "print(\"Recall:\", recall)\n",
    "print(\"F1 Score:\", f1)"
   ]
  }
 ],
 "metadata": {
  "colab": {
   "collapsed_sections": [
    "bff387f2",
    "DcgtbZzcDpzM",
    "txRBfYwuIp5a",
    "UqgwkioHVksR",
    "D933XD72UKBl",
    "DaZ7WG3IHp20",
    "O9WhUM7pHzzt",
    "eJdWeVqMKH0F",
    "E8xAbbNVK4Q-",
    "f5a9334f",
    "vHSBWLX8Z2I4"
   ],
   "provenance": []
  },
  "kernelspec": {
   "display_name": "Python 3 (ipykernel)",
   "language": "python",
   "name": "python3"
  },
  "language_info": {
   "codemirror_mode": {
    "name": "ipython",
    "version": 3
   },
   "file_extension": ".py",
   "mimetype": "text/x-python",
   "name": "python",
   "nbconvert_exporter": "python",
   "pygments_lexer": "ipython3",
   "version": "3.10.9"
  }
 },
 "nbformat": 4,
 "nbformat_minor": 5
}
