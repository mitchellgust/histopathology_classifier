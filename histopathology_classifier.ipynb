{
 "cells": [
  {
   "cell_type": "markdown",
   "id": "a1ee954e",
   "metadata": {},
   "source": [
    "# Project 1: Classify Images of Cancer\n",
    "## Team: 101\n",
    "### Members\n",
    "Sofya Filippova\n",
    "M\n",
    "\n",
    "Our project will involve developing a machine learning system that will classify histopathology images of cancerous cells.\n",
    "\n",
    "Our dataset is based on 'CRCHistoPhenotypes' consists of 27x27 RGB images of cells from 99 unique.\n",
    "\n",
    "Our project will perform two tasks using this dataset:\n",
    "- Classify whether a given cell image represents cancerous cells\n",
    "- Classify the type of cell shown in a given cell image "
   ]
  },
  {
   "cell_type": "code",
   "execution_count": 2,
   "id": "0ae1e526",
   "metadata": {},
   "outputs": [],
   "source": [
    "import zipfile\n",
    "with zipfile.ZipFile('./image_classification_data.zip', 'r') as zip_ref:\n",
    "    zip_ref.extractall('./')"
   ]
  },
  {
   "cell_type": "code",
   "execution_count": null,
   "id": "6a5575c6",
   "metadata": {},
   "outputs": [],
   "source": []
  }
 ],
 "metadata": {
  "kernelspec": {
   "display_name": "Python 3 (ipykernel)",
   "language": "python",
   "name": "python3"
  },
  "language_info": {
   "codemirror_mode": {
    "name": "ipython",
    "version": 3
   },
   "file_extension": ".py",
   "mimetype": "text/x-python",
   "name": "python",
   "nbconvert_exporter": "python",
   "pygments_lexer": "ipython3",
   "version": "3.10.9"
  }
 },
 "nbformat": 4,
 "nbformat_minor": 5
}
